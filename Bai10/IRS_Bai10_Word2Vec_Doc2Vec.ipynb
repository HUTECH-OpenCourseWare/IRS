{
  "nbformat": 4,
  "nbformat_minor": 0,
  "metadata": {
    "colab": {
      "provenance": []
    },
    "kernelspec": {
      "name": "python3",
      "display_name": "Python 3"
    },
    "language_info": {
      "name": "python"
    }
  },
  "cells": [
    {
      "cell_type": "markdown",
      "source": [
        "**Cài đặt thư viện UnderTheSea để hỗ trợ tách từ trong tiếng Việt. Xem thêm các tính năng của thư viện tại: https://github.com/undertheseanlp/underthesea**"
      ],
      "metadata": {
        "id": "HWR7Ziddd2pk"
      }
    },
    {
      "cell_type": "code",
      "source": [
        "!pip install underthesea"
      ],
      "metadata": {
        "colab": {
          "base_uri": "https://localhost:8080/"
        },
        "id": "ocaqJNWMd5XL",
        "outputId": "8a5a9c63-d662-454d-9d64-3a66cca71e50"
      },
      "execution_count": 1,
      "outputs": [
        {
          "output_type": "stream",
          "name": "stdout",
          "text": [
            "Looking in indexes: https://pypi.org/simple, https://us-python.pkg.dev/colab-wheels/public/simple/\n",
            "Collecting underthesea\n",
            "  Downloading underthesea-1.4.0-py3-none-any.whl (11.0 MB)\n",
            "\u001b[K     |████████████████████████████████| 11.0 MB 23.5 MB/s \n",
            "\u001b[?25hCollecting python-crfsuite>=0.9.6\n",
            "  Downloading python_crfsuite-0.9.8-cp38-cp38-manylinux_2_17_x86_64.manylinux2014_x86_64.whl (1.0 MB)\n",
            "\u001b[K     |████████████████████████████████| 1.0 MB 99.5 MB/s \n",
            "\u001b[?25hCollecting underthesea-core==0.0.5a2\n",
            "  Downloading underthesea_core-0.0.5_alpha.2-cp38-cp38-manylinux2010_x86_64.whl (591 kB)\n",
            "\u001b[K     |████████████████████████████████| 591 kB 67.2 MB/s \n",
            "\u001b[?25hRequirement already satisfied: Click>=6.0 in /usr/local/lib/python3.8/dist-packages (from underthesea) (7.1.2)\n",
            "Requirement already satisfied: joblib in /usr/local/lib/python3.8/dist-packages (from underthesea) (1.2.0)\n",
            "Requirement already satisfied: requests in /usr/local/lib/python3.8/dist-packages (from underthesea) (2.23.0)\n",
            "Requirement already satisfied: scikit-learn in /usr/local/lib/python3.8/dist-packages (from underthesea) (1.0.2)\n",
            "Requirement already satisfied: nltk in /usr/local/lib/python3.8/dist-packages (from underthesea) (3.7)\n",
            "Requirement already satisfied: tqdm in /usr/local/lib/python3.8/dist-packages (from underthesea) (4.64.1)\n",
            "Requirement already satisfied: PyYAML in /usr/local/lib/python3.8/dist-packages (from underthesea) (6.0)\n",
            "Requirement already satisfied: regex>=2021.8.3 in /usr/local/lib/python3.8/dist-packages (from nltk->underthesea) (2022.6.2)\n",
            "Requirement already satisfied: certifi>=2017.4.17 in /usr/local/lib/python3.8/dist-packages (from requests->underthesea) (2022.9.24)\n",
            "Requirement already satisfied: idna<3,>=2.5 in /usr/local/lib/python3.8/dist-packages (from requests->underthesea) (2.10)\n",
            "Requirement already satisfied: urllib3!=1.25.0,!=1.25.1,<1.26,>=1.21.1 in /usr/local/lib/python3.8/dist-packages (from requests->underthesea) (1.24.3)\n",
            "Requirement already satisfied: chardet<4,>=3.0.2 in /usr/local/lib/python3.8/dist-packages (from requests->underthesea) (3.0.4)\n",
            "Requirement already satisfied: numpy>=1.14.6 in /usr/local/lib/python3.8/dist-packages (from scikit-learn->underthesea) (1.21.6)\n",
            "Requirement already satisfied: threadpoolctl>=2.0.0 in /usr/local/lib/python3.8/dist-packages (from scikit-learn->underthesea) (3.1.0)\n",
            "Requirement already satisfied: scipy>=1.1.0 in /usr/local/lib/python3.8/dist-packages (from scikit-learn->underthesea) (1.7.3)\n",
            "Installing collected packages: underthesea-core, python-crfsuite, underthesea\n",
            "Successfully installed python-crfsuite-0.9.8 underthesea-1.4.0 underthesea-core-0.0.5a2\n"
          ]
        }
      ]
    },
    {
      "cell_type": "markdown",
      "source": [
        "**Import các thư viện cần thiết**"
      ],
      "metadata": {
        "id": "EIRmj550bcTm"
      }
    },
    {
      "cell_type": "code",
      "execution_count": 2,
      "metadata": {
        "id": "k4w8lDTxbL7y"
      },
      "outputs": [],
      "source": [
        "import os\n",
        "import re\n",
        "import matplotlib.pyplot as plt\n",
        "from wordcloud import WordCloud\n",
        "from underthesea import text_normalize\n",
        "from underthesea import word_tokenize\n",
        "from gensim.models import Word2Vec\n",
        "from gensim.models.doc2vec import Doc2Vec, TaggedDocument"
      ]
    },
    {
      "cell_type": "markdown",
      "source": [
        "**Lấy dữ liệu các tài liệu/văn bản mẫu từ**: https://github.com/HUTECH-OpenCourseWare/IRS.git"
      ],
      "metadata": {
        "id": "RPfxhYEWeB20"
      }
    },
    {
      "cell_type": "code",
      "source": [
        "!git clone https://github.com/HUTECH-OpenCourseWare/IRS.git"
      ],
      "metadata": {
        "colab": {
          "base_uri": "https://localhost:8080/"
        },
        "id": "dv7IDhOEeBoE",
        "outputId": "b4cb35c2-2177-45a3-f012-c6eaf5ca2382"
      },
      "execution_count": 3,
      "outputs": [
        {
          "output_type": "stream",
          "name": "stdout",
          "text": [
            "Cloning into 'IRS'...\n",
            "remote: Enumerating objects: 271, done.\u001b[K\n",
            "remote: Counting objects: 100% (271/271), done.\u001b[K\n",
            "remote: Compressing objects: 100% (271/271), done.\u001b[K\n",
            "remote: Total 271 (delta 0), reused 271 (delta 0), pack-reused 0\u001b[K\n",
            "Receiving objects: 100% (271/271), 441.48 KiB | 1.24 MiB/s, done.\n"
          ]
        }
      ]
    },
    {
      "cell_type": "markdown",
      "source": [
        "**Đọc dữ liệu các tài liệu/văn bản từ các files chứa trong folder \"/content/IRS_Course/data/vnexpress/<chủ_đề>\"**"
      ],
      "metadata": {
        "id": "ZaVYrkQMeKes"
      }
    },
    {
      "cell_type": "code",
      "source": [
        "topic = 'the-thao'\n",
        "data_root_dir_path = '/content/IRS/data/vnexpress/{}'.format(topic)\n",
        "docs = []\n",
        "for file_name in os.listdir(data_root_dir_path):\n",
        "  file_path = os.path.join(data_root_dir_path, file_name)\n",
        "  lines = []\n",
        "  with open(file_path, 'r', encoding='utf-8') as f:\n",
        "    for line in f:\n",
        "      line = line.lower().strip()\n",
        "      lines.append(line)\n",
        "\n",
        "  text = \" \".join(lines)\n",
        "  clean_text = re.sub('\\W+',' ', text)\n",
        "  docs.append(clean_text)\n",
        "print(f'Hoàn tất đọc tất cả [{len(docs)}] tài liệu/văn bản - chủ đề: [{topic}]')"
      ],
      "metadata": {
        "colab": {
          "base_uri": "https://localhost:8080/"
        },
        "id": "6xKkFa7aeHrd",
        "outputId": "f22adb26-d306-4032-9688-229d86ae62b2"
      },
      "execution_count": 4,
      "outputs": [
        {
          "output_type": "stream",
          "name": "stdout",
          "text": [
            "Hoàn tất đọc tất cả [39] tài liệu/văn bản - chủ đề: [the-thao]\n"
          ]
        }
      ]
    },
    {
      "cell_type": "markdown",
      "source": [
        "**Tiến hành các bước xử lý & tách từ cho văn bản tiếng Việt**"
      ],
      "metadata": {
        "id": "cUBQcNcpe4Yh"
      }
    },
    {
      "cell_type": "code",
      "source": [
        "# Tạo một cấu trúc danh sách - chứa dữ liệu đã được xử lý\n",
        "processed_docs = []\n",
        "\n",
        "# Đọc danh sách các từ stopwords trong tiếng Việt\n",
        "vn_stopwords_file_path = '/content/IRS/data/stopwords/vietnamese-stopwords.txt'\n",
        "stopwords = []\n",
        "with open(vn_stopwords_file_path, 'r', encoding='utf-8') as f:\n",
        "  for line in f:\n",
        "    line = line.strip()\n",
        "    stopwords.append(line)\n",
        "\n",
        "# Viết hàm tiền xử lý và tách từ tiếng Việt\n",
        "def preprocess(doc):\n",
        "  # Tiến hành xử lý các lỗi từ/câu, dấu câu, v.v. trong tiếng Việt với hàm text_normalize\n",
        "  normalized_doc = text_normalize(doc)\n",
        "  # Tiến hành tách từ\n",
        "  tokens = word_tokenize(normalized_doc)\n",
        "  # Lọc stopwords\n",
        "  non_stopword_tokens = []\n",
        "  for token in tokens:\n",
        "    if token not in stopwords:\n",
        "      non_stopword_tokens.append(token)\n",
        "  # Tiến hành kết hợp các từ ghép trong tiếng Việt bằng '_'\n",
        "  combined_tokens = [token.replace(' ', '_') for token in non_stopword_tokens]\n",
        "  return (normalized_doc, combined_tokens)\n",
        "\n",
        "for doc in docs:\n",
        "  (normalized_doc, combined_tokens) = preprocess(doc)\n",
        "  processed_docs.append((normalized_doc, combined_tokens))"
      ],
      "metadata": {
        "id": "9VMIBOeAe8Xy"
      },
      "execution_count": 5,
      "outputs": []
    },
    {
      "cell_type": "markdown",
      "source": [
        "**Tiến hành thử nghiệm học biểu diễn các từ trong tập văn bản [processed_docs] với thư viện Word2Vec của Gensim**"
      ],
      "metadata": {
        "id": "ewzrR5FQfssG"
      }
    },
    {
      "cell_type": "code",
      "source": [
        "sentences = []\n",
        "for (normalized_doc, combined_tokens) in processed_docs:\n",
        "  sentences.append(combined_tokens)\n",
        "word2vec_model = Word2Vec(sentences=sentences, \n",
        "                          size=100, \n",
        "                          window=5, \n",
        "                          min_count=1, \n",
        "                          workers=1)\n",
        "print('Hoàn tất quá trình huấn luyện mô hình Word2Vec cho tập dữ liệu !')"
      ],
      "metadata": {
        "id": "jhx0jHTjb7yP",
        "colab": {
          "base_uri": "https://localhost:8080/"
        },
        "outputId": "e682403b-b116-45c5-f16d-63ae34580e99"
      },
      "execution_count": 6,
      "outputs": [
        {
          "output_type": "stream",
          "name": "stdout",
          "text": [
            "Hoàn tất quá trình huấn luyện mô hình Word2Vec cho tập dữ liệu !\n"
          ]
        }
      ]
    },
    {
      "cell_type": "markdown",
      "source": [
        "**Xuất ra danh sách các từ có trong tập từ vựng**"
      ],
      "metadata": {
        "id": "HoyP9W_nQSZU"
      }
    },
    {
      "cell_type": "code",
      "source": [
        "vocabs = [token for token in word2vec_model.wv.vocab]\n",
        "print(vocabs)"
      ],
      "metadata": {
        "colab": {
          "base_uri": "https://localhost:8080/"
        },
        "id": "BzoPFWkqcgOi",
        "outputId": "8b443f75-8aea-4d84-a760-e9367e17ca6c"
      },
      "execution_count": 7,
      "outputs": [
        {
          "output_type": "stream",
          "name": "stdout",
          "text": [
            "['liverpool', 'nhì', 'bảng', 'champions', 'league', 'anhthắng', 'napoli', '2', '0', 'lượt', 'thầy_trò', 'jurgen', 'klopp', 'giật', 'đỉnh', 'a', 'đối_thủ', 'tối', '1', '11', '15', 'thắng', 'thua', 'xếp', 'hiệu_số', 'bàn', 'thắng_bại', 'hai', 'đối_đầu', 'giúp', 'đội', 'bóng', 'italy', 'vòng', '8', 'nguy_cơ', 'bayern', 'real', 'psg', 'salah', 'tỷ_số', 'phút', '85', 'ảnh', 'epa', 'cách_biệt', 'bốn', 'chiếm', 'hlv', 'tiền_đạo', 'darwin', 'nunez', 'sân', 'đầu', 'đắt', 'lịch_sử', 'cầu_thủ', 'đá', 'trận', 'leeds', 'cạnh', 'andy', 'robertson', 'harvey', 'elliott', 'joe', 'gomez', 'curtis', 'jones', 'bố_trí', 'trái', 'thay', 'sơ_đồ', '4', '3', 'khai', 'tràn', 'đường', 'chọc', 'khe', 'sút', 'vọt', 'xà', '29', 'pha', 'phản_công_mẫu_mực', 'thiago', 'chân', 'dứt_điểm', 'tuyến', 'thủ_thành', 'alex', 'meret', 'tung', 'cản_phá', 'đánh_đầu', 'chia', 'vui', 'lập', 'công', 'ap', 'e_dè', 'anfield', 'đột_phá', 'khvicha', 'kvaratskhelia', 'cánh', 'hiệp', 'khán_đài', 'im_bặt', 'leo', 'ostigard', 'bay', 'tung_lưới', 'alisson', 'becker', 'phạt', 'kiểm_tra', 'var', 'trọng_tài', 'xác_định', 'trung_vệ_đội', 'việt_vị', 'sơ_hở', 'sân_nhà', 'thoải_mái', 'đón', 'tạt', 'victor', 'osimhen', 'vô', 'lê_chạm', 'trent', 'alexander', 'arnold', 'đổi_hướng', 'diễn_biến', 'dường_như', 'lỏng', 'ghi', 'phạt_góc', 'dấu_ấn', '73', 'cú', 'uruguay', 'cứu', 'vạch', 'vôi', 'mohamed', 'bồi', 'bù', 'tám', 'đập', 'đất', 'virgil', 'van', 'dijk', 'chiến_thắng', 'đậm', 'tận_dụng', 'cập', 'đệm_bóng', 'cự_ly', '6', 'm', 'trúng', 'phản_công', 'căng', 'ngang', 'nhoài', 'cười_trừ', 'lỡ', 'quang_huy', 'phương_án', 'quang', 'hải', 'aff', 'cup', 'phủ_nhận', 'việt', 'nam', 'mất_mát', 'nguyễn_quang_hải', '2022', 'chuyên_gia', 'park', 'thay_thế', 'mong_muốn', 'hang', 'seo', 'thành', 'góp_mặt', 'giải', 'đấu', 'nằm', 'lịch', 'fifa', 'pau', 'fc', 'toàn_quyền', 'quyết_định', 'nhả', 'dự', 'đông', 'didier', 'tholot', '5', 'ligue', 'quốc_gia_pháp', 'icon', 'sport', 'vắng', 'đội_tuyển', 'kỹ_thuật', 'mà_còn', 'giàu', 'kinh_nghiệm', 'trận_mạc', 'cựu', 'slna', 'nguyễn', 'thành_vinh', 'vnexpress', '36', '39', 'chính_thức', 'thời', 'quế', 'ngọc', 'chỉ_số', 'tương_tự', '25', 'tuyển', 'thừa_nhận', 'sức_mạnh', 'ảnh_hưởng', 'hiệu_quả', 'đem', 'tiền_vệ', 'hà_nội', 'dấu', 'giày', '14', '9', 'kiến_tạo', 'góc_độ', 'nước_ngoài', 'trở_về', 'thường_tình', 'phóng_viên', 'rời', 'bất_thường', 'thái', 'lan', 'steve', 'darby', 'đứng', 'rủi_ro', 'chấn_thương', 'malaysia', 'singapore', '12', '2021', 'shengwei', 'nhận_định', 'tuyệt_vời', 'quang_hải', 'phong_độ', 'trả_lời', 'câu', 'vai_trò', 'trung_tâm', '24', 'đột_biến', 'trách_nhiệm', 'tổ_chức', 'lối', 'dồn', 'vai', 'nguyễn_hoàng', 'đức', 'đỗ', 'hùng_dũng', 'nhắc', 'trường_hợp', 'nguyễn_văn_quyết', 'khuất', 'văn', 'khang', 'quyết', 'ghi_bàn', 'giao_hữu', 'ấn', 'độ', 'lưới', '2018', 'nam_vô_địch', 'đóng_góp', '31', '17', 'v', 'góp', 'hà', 'nội', 'dẫn_đầu', 'đội_hình', 'lão_tướng', 'nguy_hiểm', 'khung_thành', 'chất_lượng', 'ra_mắt', 'thống_nhất', '21', 'đồng', 'trao', 'trẻ', 'ấn_tượng', 'lứa', 'u23', 'tứ_kết', 'châu_á', 'vô_địch', 'sea_games', 'tấn_công', 'nguyễn_hai', 'long_lý', 'hoàng_anh', 'nhâm', 'dũng', 'tất_nhiên', 'dựa', 'thể_hiện', '76', 'lý', 'thử', 'sức', 'bổ_sung', 'nhân_tố', 'u20', 'cầm_quân', 'quốc_việt', 'tin_dùng', 'lực_lượng', 'asian', 'world', 'uae', 'lào', 'hoàng', 'lương', 'xuân_trường', 'phan', 'văn_đức', 'cặp', 'nguyễn_tiến', 'linh', 'nguyễn_công_phượng', 'khác_biệt', 'một_chút', 'tích_cực', 'ban_đầu', 'quân_bài', 'cũ', 'công_phượng', 'trở_lại', 'dài_hạn', 'tùy', 'mật_độ', 'di_chuyển', 'quốc_gia', 'xoay', 'tiến', 'trưởng_thành', 'vượt_bậc', 'trụ_cột', 'xuân', 'bìnhpau', 'thẳng', 'thất_thường', 'golfer', '18', 'pga', 'tour', 'bermuda', 'championship', 'caleb', 'surratt', 'chú_ý', 'kiểu', 'tàu', 'lượn', '20', 'gậy', 'cán', 'đích', 't65', '10', 'chức', 'seamus', 'power', '19', 'diễn', 'port', 'royal', 'par71', 'đảo_quốc', '132', 'đấu_thủ', 'amateur', 'teen', 'danh_sách', 'elite', 'loạt', 'bảy', 'nghiệp_dư', 'thành_lập', 'mỹ', 'tuần', 'golf', 'digest', 'đánh', '71', 'even', 'par', 'thành_tích', 'bình_quân', 'chặng', '67', '78', 'tình_hình', 'âm', 'sâu', 'hy_vọng', 'cắt', 'giành', 'quyền', 'đi', 'tiếp', '64', 'bogey', 'eagle', 'birdie', '7', 'đẩy', 'surrat', 'thảm_họa', 'surratt_đánh', 'hố', 'par4', 'xong', 'lỗ', 'khu', 'cỏ', 'rough', 'octuple', 'double', 'vỡ', 'áp_chót', 'chót', 'chênh_lệch', 'lao', 'dốc', 'toàn', '65', 'thiếu_niên', 'joaquin', 'niemann', 'đoạt', 'danh_hiệu', 'hệ_thống', 'đầu_quân', 'liv', 'invitational', 'series', 'cấm_cửa', 'đấu_trường', 'số_một', 'sinh_viên', 'bang', 'tennessee', 'hiện', '16', 'thế_giới', 'quốc_huy', 'tundra', 'esports', 'túi', '8_5_triệu', 'usd', 'dota2', 'tham_dự', 'the', 'international', 'thành_viên', 'triệu_phú', 'áp_đảo', 'team', 'secret', 'chung_kết', 'ti11', 'danh_giá', 'vinh_danh', 'bộ_môn', 'khoản', 'tiền', 'thưởng', 'nâng', 'aegis', 'of', 'dota', 'valve', 'skiter', 'slovakia', 'nine', '33', 'israel', 'saksa', 'bắc', 'macedonia', 'sneyking', 'hòa_bốn', 'knock', 'out', 'trải', 'bo3', 'tối_đa', 'nhánh', 'ván', 'trắng', 'thể_thức', 'bo5', 'duy_nhất', 'lạc_quan', 'truyền_thống', 'tân_binh', 'leshrac', 'vận_hành', 'thành_công', 'tổng', 'grand', 'final', 'non_trẻ', 'thuyết_phục', 'ti', 'tư', '2019', 'đầu_vào', 'lỗi_hẹn', '2_5', 'triệu', 'á_quân', 'ti10', 'năm_ngoái', 'spirit', 'boom', 'liquid', 'vé', 'lọt', 'ý_nghĩa', 'lasse', 'matumbaman', 'urpalainen', 'tuyên_bố', 'giải_nghệ', 'bất_chấp', 'kết_quả', 'danh', 'forbes', 'drx', 'kỳ_tích', 'worlds', 'faker', 't1', 'tottenham', 'phápthắng', 'ngược', 'marseille', 'd', 'frankfurt', 'toàn_diện', 'chancel', 'mbemba', 'biến', 'clement', 'lenglet', 'pierre', 'emile', 'hojbjerg', 'lần_lượt', 'đoàn', 'quân', 'antonio', 'conte', 'châu_âu', 'mùa', 'mừng', 'ấn_định', 'thắng_lợi', 'velodrome', 'pháp', 'uefa', 'sporting', 'lisbon', 'kịch_bản', 'chủ', 'arthur', 'gomes', 'daichi', 'kamada', 'gỡ', 'hòa', 'phạt_đền', 'kolo', 'muani', 'đại_diện', 'europa', 'cục_diện', 'kịch_tính', 'kỳ_vọng', 'suất', '45', 'hugo', 'lloris', 'jordan', 'veretout', '54', 'ivan', 'perisic', 'lenget', 'hạ', 'gục', 'lopez', 'reuters', 'buộc', 'mạo_hiểm', 'dính', 'đòn', 'hồi', 'mã', 'thương', 'chuyền', 'hỏng', 'matteo', 'guendouzi', 'harry', 'kane', 'chéo', 'góc', 'mép', 'cột', 'dọc', 'án', 'cấm', 'chỉ_đạo', 'theo_dõi', 'phép', 'phòng', 'đồ', 'giải_lao', 'góp_phần', 'lột_xác', 'đồng_nghĩa', 'clb', 'premier', 'man', 'city', 'chelsea', '2023', 'e', 'f', 'xuất', 'phátmarseille', 'bailly', 'balerdi', 'clauss', 'rongier', 'tavares', 'harit', 'sanchez', 'dier', 'davies', 'sessegnon', 'bentancur', 'lucas', 'moura', 'son_hoàng', 'an', 'hưởng', 'lợi', 'chủ_quản', '10_000', '200_000', 'thanh_toán', 'chương_trình', 'bảo_vệ', 'lợi_ích', 'triệu_tập', 'ứng_viên', 'brazil', 'argentina', 'bỉ', 'tây', 'ban', 'nha', 'khả_năng', 'mbappe', 'messi', 'neymar', 'khoác', 'áo', 'afp', 'nhấn_mạnh', 'miễn', 'thi_đấu', 'quốc_nội', 'tạm', 'dừng', 'tranh', 'tài', 'qatar', 'barca', 'kiếm', 'chi', '209', 'nga', 'chi_trả', '530', 'báo', 'sportmail', 'lợi_nhuận', 'sở_hữu', 'etihad', 'utd', 'arsenal', 'chốt', 'áp_dụng', '2010', 'phi', 'tổng_số', '40', '70', '2014', 'gấp', 'liên_đoàn', 'bóng_đá', 'phân_phối', 'tính_toán', 'số_lượng', '32', 'tích_lũy', 'nhiệm_vụ', 'quốc_tế', 'con_số', '736', '500', 'khai_mạc', 'benjamin', 'mendy', 'sáu', 'bán_kết', 'bỏ_túi', 'atletico', 'juventus', 'al', 'hilal', 'thu', 'chín', 'saudi', 'arabia', 'công_bố', '42', '30', '27', 'đội_xếp', '13', 'quốc_khánh', 'thay_vì', 'ecuador', 'h', '23', 'lễ', 'sân_vận_động', 'bayt', 'sức_chứa', '60_000', 'hồng', 'duymáy', 'dự_đoán', 'ronaldo', 'bản_quyền', 'đảo', 'chiều', 'liên_tục', 'đội_bảng', '90', 'thứ_tự', 'bồ_đào', 'trung_vệ', 'đòi', 'đáy', '62', 'rơi', 'shutterstock', 'mải', 'dâng', 'hiểm', 'porto', 'đụng', 'cristiano', 'tái_ngộ', 'sự_nghiệp', 'antottenham', 'hôm_nay', 'toàn_thắng', 'đứchạ', 'inter', 'c', 'tử_thần', 'liên_tiếp', 'tuyệt_đối', '2020', 'dẫn_dắt', 'hansi', 'flick', 'b', 'olympiacos', 'red', 'star', 'belgrade', 'nốt', 'lyon', 'trướng', 'julian', 'nagelsmann', 'benfica', 'dynamo', 'kyiv', 'rb', 'salzburg', 'villarreal', 'nối', 'kỷ_lục', 'bất', 'bại', '34', 'chuỗi', 'madrid', 'ajax', 'thất_bại', 'hùm', 'xám', '2017', 'choupo', 'moting', 'allianz', 'dayot', 'upamecano', 'joshua', 'kimmich', 'sadio', 'mane', 'eric', 'maxim', 'nghiêm_túc', 'kiểm_soát', '60', '600', 'thông_số', '394', 'mục_tiêu', 'nhập_cuộc', 'ngon_ăn', 'nicolo', 'barella', 'bắt', 'lê', 'chạm', 'robin', 'gosens', 'thuận_lợi', 'lautaro', 'martinez', 'đệm', 'chính_xác', 'trống', 'thế_trận', 'pavard', 'loại_bỏ', 'truy', 'cản', 'góc_ngoài', 'tầm', 'andre', 'onana', 'nổ', 'súng', '22', 'thiết_lập', 'đối_mặt', 'cú_sút', 'serie', 'tưởng', 'nhen_nhóm', 'francesco', 'acerbi', 'cận', 'sven', 'ulreich', 'công_nhận', 'lỗi', '63', 'ngả', 'móc', 'khước', 'cameroon', 'tiếc_nuối', 'mười', 'nã', 'đại_bác', 'găm', 'trung_phong', 'khỏa', 'robert', 'lewandowski', 'xe_đạp', 'chổng', 'hạ_thủ_môn', 'tịt_ngòi', 'mở_màn', 'simone', 'inzaghi', 'mazraoui', 'musiala', '46', 'stanisic', 'sabitzer', 'coman', 'wanner', 'gravenberch', 'mané', 'gnabry', '66', 'tel', 'darmian', 'de', 'vrij', 'skriniar', 'bellanova', 'mkhitaryan', 'asllani', 'gagliardini', 'calhanoglu', 'martínez', 'dzeko', 'correa', 'carboni', 'ngôi_vua', 'tập', 'casemiro', 'soán', 'khỏe', 'vóc_dáng', 'vạm_vỡ', 'kỹ_năng', 'nể', 'ngôi_sao', 'đàn_ông', 'mạnh_mẽ', 'old', 'trafford', 'daily', 'viết', 'tạ', '250', 'kilogram', 'leg', 'press', 'cơ_bắp', 'săn', 'gia_nhập', 'giá', 'hè', '300', 'đồng_đội', 'thán_phục', 'vua', 'cố_gắng', 'khối_lượng', 'trao_đổi', 'ngoại_hạng', 'tự_hào', 'thể_lực', 'đôi', 'đẩy_tạ', 'đối_trọng', 'to', 'bò', 'nhắm_mắt', 'kg', 'giai_đoạn', '2013', 'nổi_tiếng', 'dồi_dào', 'càn_quét', 'giải_phóng', 'luka', 'modric', 'toni', 'kroos', 'phòng_ngự', 'thư_giãn', 'bồn_tắm', 'thổ', 'nhĩ', 'kỳ', 'hành_hạ', 'sẵn', 'quả_tạ', 'tập_luyện', 'nằm_xuống', 'bài_tập', 'bụng', 'đề_cao', 'tập_thể_lực', 'thể_trạng', 'lắp_đặt', 'máy', 'trị_liệu', 'oxy', 'cao_áp', 'hbot', 'trị_giá', '20_000', 'biệt_thự', 'sống', 'gái', 'georgina', 'rodriguez', 'alderley', 'edge', 'cheshire', 'thiết_bị', '37', 'hít', 'thở', 'không_khí', 'tinh_khiết', 'hồi_phục', 'mô', 'tổn_thương', 'cải_thiện', 'tấm_gương', 'đồng_nghiệp', 'duy_trì', 'đỉnh_cao', 'vinicius', 'học', 'ăn_uống', 'khoa_học', 'luyện_tập', 'ngừng', 'đắt_giá', 'tham_khảo', 'cr7', 'cân', 'đợt', 'nghỉ', 'dịch', 'duyredknapp', 'uy_quyền', 'keown', 'công_bằng', 'chu_kỳ', 'nuôi', 'tham_vọng', 'fa', 'đua', 'hạ_màn', 'xì_hơi', 'west', 'ham', 'liền', 'nottingham', 'forest', 'hạng', 'tụt', 'kém', 'newcastle', 'đầu_bảng', 'họp_báo', 'liệu', 'đà', 'sa_sút', 'đáp', 'quan_sát', 'naby', 'keita', 'melo', 'diogo', 'jota', 'đùi', 'joel', 'matip', 'bắp_chân', 'luis', 'diaz', 'đầu_gối', 'ibrahima', 'konate', 'alcantara', 'tua', 'dày', 'mong_đợi', 'bước_tiến', 'southampton', 'hạn_chế', 'sai_lầm', '55', 'công_việc', 'khoảnh_khắc', 'đẹp', 'có_mặt', 'cống_hiến', 'hết_mình', '100', 'sức_lực', 'andré', 'frank', 'zambo', 'anguissa', 'ansa', 'trung_bình', 'thủng', 'diego', 'armando', 'maradona', 'đè_bẹp', 'sợ', 'háo_hức', 'hòa_napoli', 'luciano', 'spalleti', 'sao_chép', 'phong_cách', 'ca_ngợi', 'spalletti', 'làm_việc', 'khắp', 'đẳng_cấp', 'duysouness', 'bắt_nạt', 'lo', 'top', 'kẻ', 'não', 'apac', 'langolfer', 'anh_minh', '48', 'asia', 'pacific', 'minh', 'nguyên_tắc', 't50', 'bo', 'jin', 'trung_quốc', 'lý_thuyết', 'cửa', 'tranh_chấp', 'dần', 'xuất_phát', 'triple', 'tái_diễn', 'par5', 'nửa', 'kéo', 'vga', 'chia_đều', 'harrison', 'crowe', 'australia', '2009', 'trừ', 'hủy', 'covid', 'tổng_cộng', 'nguyễn_thái_dương', 'trương', 'chí', '2016', 'thái_dương', 'phó_tổng_thư_ký', 'hiệp_hội', 'phụ_trách', 'phát_triển', 'chuyên_nghiệp', 'diện', 'ẵm', 'lexus', 'challenge', 'lẫn', 'vietnam', 'national', 'open', '254', 'wagr', 'bậc', 'quy_tụ', '120', '38', 'lãnh_thổ', 'par72', 'amata', 'spring', 'country', 'club', 'chonburi', 'sự_kiện', 'thái_bình_dương', 'sở_hữu_major', 'augusta', 'masters', 'ancient', 'chủ_trì', 'cường_độ', 'thềm', 'vm', 'hanoi', 'midnight', 'runners', '1_000', 'km', 'an_bình', 'starlake', 'mời', 'giáo_án', 'marathon', 'chạy', 'nóng', 'quản_trị', 'thử_thách', 'sinh_nhật', 'thúc_đẩy', 'tinh_thần', '26', 'hàng', '350', 'chân_chạy', 'nguyễn_hải_thanh', 'trưởng', 'runner', 'long', 'run', 'nvcc', 'quãng', 'pr', 'phát_động', 'full', 'sub5', 'sub4', 'tiến_bộ', 'cơ_sở', 'mạnh_dạn', 'nội_dung', 'đêm', 'dự_kiến', 'tiệm_cận', 'sub3', 'tham_gia', 'thi', 'khuyến_khích', 'viển_vông', 'nghiên_cứu', 'kế_hoạch', 'hướng', 'race', 'sắp_xếp', 'cơ_thể', 'trạng_thái', 'tiết_lộ', 'giương', 'ngon', 'cờ', 'đăng_ký', 'sức_khỏe', 'giáo_trình', 'tuân_thủ', 'kết_hợp', 'nguyễn_quang', 'tôn', 'thông_tin', 'rà_soát', 'viên', 'nữ', 'tiêu_chuẩn', 'thừa', 'chị_em', 'tiêu_chí', 'động_viên', 'hề', 'lựa_chọn', 'tương_đương', 'cân_nhắc', 'trạnh', 'khao_khát', 'lớn_mạnh', 'chiến_thuật', 'nghiêm_ngặt', 'ưu_tiên', 'an_toàn', 'xinh_tươi', 'sẵn_sàng', 'running', 'đầu_tư', 'tập_huấn', 'cạnh_tranh', 'giáo', 'năng_lực', 'phân_công', 'đội_trưởng', 'trình_độ', 'lê_huy', 'huy', 'cao_độ', 'miệt_mài', 'tăng_cường', 'tập_duyệt', 'nhẹ', 'sub1', 'half', 'cộng', 'mục_đồng_đội', 'thiếu_nữ', 'hùng_hậu', 'nguyễn_phương_lan', 'bục', 'amazing', 'cổ_vũ', 'băng', 'rôn', 'địa_điểm', 'thanh_lan', 'quy_mô', '720', 'dịp', 'màu_cờ', 'sắc_áo', 'tỏa', 'hình_ảnh', 'cộng_đồng', 'tinh_quái', 'tình_huống', 'rõ_ràng', 'hài_lòng', 'lẽ_ra', 'la', 'vanguardia', 'tờ', 'trụ_sở', 'barcelona', 'hàng_đầu', 'xứ', 'catalonia', 'thông_thường', 'tuyển_mộ', '50', 'liga', 'ùa', 'cuộc_chơi', 'thất_vọng', 'camp', 'nou', 'phân_tích', 'đôi_khi', 'đơn_thuần', 'xảy', 'trái_ngược', 'valencia', 'girona', 'cầm', 'thu_hẹp', 'đúng_hướng', 'hâm_mộ', 'kiên_nhẫn', 'tin_tưởng', 'cải_tổ', 'xavi', 'tái_thiết', 'tư_cách', 'tập_thể', 'mong_chờ', 'tốt_đẹp', 'memphis', 'depay', 'ronald', 'araujo', 'sergi', 'roberto', 'andreas', 'christensen', 'ch', 'czech', 'viktoria', 'plzen', 'sergio', 'busquets', 'vắng_mặt', 'treo', 'giò', 'garcia', 'jules', 'kounde', 'tài_năng', 'lò', 'masia', 'marc', 'casado', 'alvaro', 'sanz', 'ilias', 'akhomach', 'valle', 'thường_xuyên', 'đôn', 'hậu_vệ', 'dự_bị', 'chờ', 'roma', 'italyhơn', 'hellas', 'verona', '88', 'nemanja', 'matic', 'cristian', 'volpato', 'lorenzo', 'montipo', 'thả', 'stephan', 'el', 'shaarawy', 'xâm_nhập', 'gẩy', 'bentegodi', 'asroma', 'it', 'jose', 'mourinho', '2004', '2005', 'mặt', 'lazio', 'milan', 'atalanta', 'thủ_đô', 'chạy_đà', 'hoàn_hảo', 'ludogorets', 'olimpico', 'conference', 'đương_kim', 'derby', 'hứng_thú', 'kết_cục', 'chủ_động', 'rick', 'karsdorp', 'tammy', 'abraham', 'thoát', 'bỏ_lỡ', 'chệch', 'cự', 'ly', 'phung_phí', 'trả_giá', 'pawel', 'dawidowicz', 'davide', 'faraoni', 'thô_bạo', 'zaniolo', 'đau_đớn', 'đường_biên', 'băng_hình', 'juan', 'luca', 'sacchi', 'rút', 'thẻ_đỏ', 'lợi_thế', 'quân_bình', 'vô_duyên', 'dội', 'bật', 'cầu_môn', 'nắm', 'andrea', 'belotti', 'pellegrini', 'đấuverona', 'gunter', 'ceccherini', 'hien', 'veloso', 'magnani', '68', 'hongla', 'sulemana', '86', 'depaoli', 'henry', 'djuric', 'tameze', 'kallon', 'lasagna', 'patricio', 'smalling', 'ibanez', 'mancini', 'camara', 'shomurodov', '83', 'cristante', 'zalewski', '57', 'nộibắt', '2024', 'công_ty', 'cổ_phần', 'vpf', 'thử_nghiệm', 'ký_kết_hợp_tác_chiến_lược', 'tnhh', 'truyền_hình', 'fpt', 'cam_kết_thúc_đẩy', 'khai_thác', 'thương_mại', 'quản_lý', 'điều_hành', 'bao_gồm', '2027', 'chủ_tịch', 'trần', 'tú', 'chuyển_giao', 'nét', 'có_lẽ', 'phê_duyệt', 'vff', 'tiến_hành', 'nhập', 'thí_điểm', 'hợp_đồng', 'vững_tin', 'triển_khai', 'play', 'ký', 'cam_kết_hợp_tác', 'chủ_yếu', 'tài_chính', 'đào_tạo', 'đội_ngũ', 'tiết_kiệm', 'chi_phí', 'dự_định', 'xe', 'lưu_động', 'đồng_ý', 'khảo_sát', 'hướng_dẫn', 'thủ_tục', 'cần_thiết', 'chưa_thể', 'bùng_phát', 'cử', 'bước_đầu', 'công_nghệ', 'hoàn_thiện', '11_2023', 'kết_thúc', 'chuyển_đổi', 'đồng_bộ', 'hóa_lịch', 'toàn_cầu', 'afc', 'khuôn_khổ', 'tường_thuật', 'các_hạ_tầng', 'mặt_đất', 'cáp', 'vệ_tinh', 'iptv', 'internet', 'di_động', 'trình_chiếu', 'công_cộng', 'mạng', 'xã_hội', 'đàm_phán', 'quyền_lợi', 'truyền_thông', 'tỷ', 'đồng_tiền', 'khắc', 'tỷ_lệ', 'hóa', '430', 'everton', 'hãng', 'opta', 'tức', '07', 'tỏ', 'đối_phương', '459', '137', 'sở_hữu_tỷ_lệ', 'bàn_là', 'đề_cử', 'pfa', 'bóng_vàng', 'tạp_chí', 'france', 'football', 'làm_bàn', 'chuyến', 'du', 'gia_đình', 'hội', 'muộn', 'gạch', 'cách_ly', 'erik', 'ten', 'hag', 'marcus', 'rashford', 'anthony', 'martial', 'phập_phù', 'chật_vật', '441', 'chủ_nhân', '220', 'làm_khách', 'sociedad', 'off', 'rớt', 'duyronaldo', 'antony', 'lỡ_cơ_hội', 'djokovic', 'phán_xét', 'giỏi', 'paristheo', 'novak', 'làng', 'banh', 'nỉ', 'khán_giả', 'ý_kiến', 'paris', 'quần_vợt', 'yếu_tố', 'tay_vợt', 'công_chúng', 'mốc', 'atp', 'gia_tăng', '1000', 'hạt_giống', 'maxime', 'cressy', 'h30', 'serbia', 'rafael', 'nadal', 'casper', 'ruud', 'musetti', 'đăng_quang', 'cứng', 'aviv', 'astana', '35', 'finals', 'theo_đuổi', 'federer', 'wimbledon', 'mở_rộng', '2012', 'kỳ_phùng', 'địch_thủ', 'vợt', 'laver', 'chăm', 'vợ', 'sinh', 'đồng_hương', 'bautista', 'agut', 'tommy', 'paul', 'vy', 'thiem', 'quyết_chiến', 'khép', 'tâm_điểm', 'richarlison', 'dejan', 'kulusevski', 'bộ_ba', 'son', 'heung', 'min', 'hôm', 'igor', 'tudor', 'alexis', 'tự_tin', 'alvalade', 'cầu', 'sinh_tử', 'tổn_thất', 'nhật', 'hidemasa', 'morita', 'ruben', 'amorim', 'thiên', 'pedro', 'goncalves', 'quyết_thắng', 'thủ', 'oliver', 'glasner', 'quyết_tâm', 'mario', 'gotze', 'xanh', 'brugge', 'rangers', 'ibrox', 'thành_phố', 'glasgow', 'bayer', 'leverkusen', 'anlewandowski', 'bội_thu', '11_tức', 'takehiro', 'tomiyasu', 'takumi', 'minamino', 'monaco', 'takefusa', 'kubo', 'kaoru', 'mitoma', 'brighton', 'hajime', 'moriyasu', 'kyodo', 'news', 'tranh_cãi', 'daizen', 'maeda', 'kyogo', 'furuhashi', 'celtic', 'scotland', 'reo', 'hatate', 'vắng_mặt_tiền_đạo', 'yuya', 'osako', 'colombia', 'union', 'berlin', 'bundesliga', 'genki', 'haraguchi', 'thủ_môn', 'eiji', 'kawashima', 'maya', 'yoshida', 'yuto', 'nagatomo', 'hiroki', 'sakai', 'wataru', 'endo', 'gaku', 'shibasaki', 'tuyển_thủ', 'đại_học', 'canada', 'costa', 'rica', 'ra_quân', 'senegal', 'akira', 'nishino', 'thứ_bảy', 'vck', 'shuichi', 'gonda', 'daniel', 'schmidt', 'kawashimahậu', 'vệ', 'miki', 'yamane', 'shogo', 'taniguchi', 'ko', 'itakura', 'yuta', 'nakayama', 'itotiền', 'ao', 'tanaka', 'junya', 'ito', 'ritsu', 'doan', 'yuki', 'somatiền', 'đạo', 'ayase', 'ueda', 'takuma', 'asano', 'an10', 'lụi', 'tàn', 'pogba', 'bão', 'đe_dọa', 'gen', 'g', 'liên_minh', 'huyền_thoại', 'khu_vực', 'lck', 'hàn', 'quốc', 'chông_gai', 'mexico', 'đánh_vòng', 'khởi_động', 'nhưn', 'biệt_danh', 'rồng', 'minh_chứng', 'xạ_thủ', 'deft', 'zeka', 'ăn_mừng', 'lol', 'khớp', 'khởi_đầu', 'tệ', 'mắc', 'giao_tranh', 'chiêu', 'azir', 'sejuani', 'pyosik', 'chết', 'lẻ', 'kingen', 'bỏ_qua', 'trừng_phạt', 'nước_hai', 'chứng_kiến', 'chóng_vánh', 'bi_kịch', 'đảo_lộn', 'giằng_co', 'trụ', 'bản_đồ', 'chủ_lực', 'định_hướng', 'phát_huy', 'ép', 'lui', 'linh_hồn', 'lửa', 'baron', 'cố_gắng_gượng', 'dậy', 'macro', 'ngàn', 'chovy', 'lén', 'thúc', 'màn', 'trình_diễn', 'doran', 'gank', 'bỏ_mạng', 'thận_trọng', 'chủ_quan', 'mất_mạng', 'xây_dựng', 'vượt_trội', 'phá', 'ý_đồ', 'kéo_dài', 'bước_ngoặt', 'nhất_quán', 'quét_sạch', 'nới', 'rộng', 'sức_ép', 'tâm_lý', 'ryze', 'vị', 'tướng', '2001', 'níu', 'công_cụ', 'bảo_kê', 'braum', 'galio', 'nhỉnh', '28', 'lùi', 'nhịp', 'bùa', 'bất_lực', 'nguyễn_faker', 'lmht', 'haaland', 'anhtiền', 'erling', 'sevilla', 'pep', 'guardiola', 'xác_nhận', 'dortmund', 'signal', 'iduna', 'bàn_chân', 'leicester', 'king', 'na', 'uy', 'lo_lắng', 'kalvin', 'phillips', 'phil', 'foden', 'loại_trừ', 'alvarez', 'nhận_xét', 'so_sánh', 'fulham', 'anguardiola', 'rangnick', 'khuyên', 'mua', 'nộicác', 'điều_khiển', 'tổ', 'mongkolchai', 'pechsri', 'trợ_lý', 'rawut', 'nakarit', 'tanate', 'chuchuen', 'nẵng', 'sài_gòn', 'tác_động', 'đội_sổ', 'quen_thuộc', 'triều', 'tiên', 'bình_dương', 'thanh_hóa', 'viettel', 'chi_lăng', '1981', 'đông_á', 's', 'u19', 'huy_chương', 'bình_định', 'suhazi', 'bin', 'shukri', 'mohd', 'airif', 'shamil', 'abd', 'raisid', 'nadziran', 'eziz', '2015', 'jeonbuk', 'hyundai', 'khốc_liệt', 'hàng_loạt', 'ngô', 'lân', 'sai_sót', 'hải_phòng', 'tp', 'hcm', 'đồngtrưởng', 'hagl', 'sai', 'thổi', 'lionel', 'scaloni', 'sốt_vó', 'ole', 'nhật_báo', 'thể_thao', 'buenos', 'aires', 'lđbđ', 'afa', 'gửi', 'sơ_bộ', 'hạn', 'emiliano', 'lisandro', 'nicolas', 'tagliafico', 'rodrigo', 'liên', 'lục', 'xấu', 'giovani', 'celso', 'chăm_sóc', 'aston', 'villa', 'đổ', 'vô_tình', 'va_chạm', 'tyrone', 'mings', 'y_tế', 'hiện_diện', 'loạn', 'choạng', 'ôm_đầu', 'đổ_gục', 'olsenaston', 'cập_nhật', 'mức_độ', 'nghiêm_trọng', 'ca', 'chỉ_trích', 'quy_trình', 'hệ_lụy', 'copa', 'america', 'hành_trình', 'bilbao', 'gân', 'kheo', 'as', 'chạy_đua', 'kịp', 'thành_phần', 'gọi', 'điền', 'bình_phục', 'efe', 'foyth', 'leandro', 'paredes', 'angel', 'di_maria', 'biên_chế', 'đá_hậu_vệ', 'nghỉ_dưỡng', 'dưỡng', 'gút', 'ổn', 'paulo', 'dybala', 'tiền_đạo_đạt', 'giải_pháp', 'dự_phòng', 'dày_đặc', 'bóng_ma', 'rình_rập', 'franco', 'armani', 'geronimo', 'rulli', 'musso', 'agustín', 'marchesin', 'rossi', 'nahuel', 'molina', 'gonzalo', 'montiel', 'german', 'pezzella', 'romero', 'otamendi', 'marcos', 'acuna', 'nehuen', 'perez', 'facundo', 'medina', 'quarta', 'senesi', 'giovanni', 'guido', 'papu', 'mac', 'allister', 'exequiel', 'palacios', 'enzo', 'fernandez', 'buendia', 'nico', 'dominguez', 'ocampos', 'gonzalez', 'almada', 'simeone', 'alario', 'alejandro', 'garnacho', 'alcaraz', 'paristay', 'carlos', 'giải_kết_thúc', 'giải_thưởng', 'palais', 'omnisports', 'bercy', 'kỷ_niệm', 'ra_đời', '1973', 'lleyton', 'hewitt', 'marat', 'safin', 'giấc', 'mơ', 'hiện_thực', 'phát_biểu', 'slam', 'dự_tính', 'yoshihito', 'nishioka', 'basel', 'felix', 'auger', 'aliassime', 'đàn_anh', 'david', 'goffin', 'đau', 'vất_vả', 'hơi', 'khó_chịu', 'bào_chữa', 'bình_thường', 'suôn_sẻ', 'phân', 'andrey', 'rublev', 'daniil', 'medvedev', 'davis', 'ngã', 'sấp', 'đứcbị', 'dải', 'selly', 'kaptich', 'mơ_ước', 'vđv', 'kenya', 'mainova', 'té', 'xuống_đường', 'canadian', 'magazine', 'mô_tả', 'sally', 'sấp_mặt', 'giây', 'helah', 'kiprop', 'podium', 'jackline', 'chepngego', 'cchayj', 'tốc_độ', 'sub', 'nhiệt_độ', 'buông', 'vấp', 'tư_thế', 'quỳ', 'athletics', 'illustrated', 'xuất_thân', '5_000', 'điền_kinh', '0975', '195', 'màu', 'nn', 'đóng', 'marathoner', 'eliud', 'kipchoge', 'geoffrey', 'kamworor', 'kenenisa', 'bekele', 'and', 'cheptegei', 'letesenbet', 'gidey', 'yalemzerf', 'yehualaw', 'tảo', 'thực_hành', 'động_tác', 'compa', 'traford', 'vê', 'gầm', 'văng', 'cười', 'bắt_chước', 'biểu_diễn', 'sheriff', 'biên', 'lắc_đầu', 'kênh', 'bt', 'danh_thủ', 'scholes', 'robbie', 'savage', 'trò', 'owen', 'hargreaves', 'tôn_trọng', 'chỉnh_đốn', 'ngán_ngẩm', 'phản_ứng', 'trọn', '81', 'gea', 'hành_quân', 'phớt_lờ', 'neville', 'kiatisuk', 'trang', 'truesport', 'định', 'thước_đo', 'phố', 'núi', 'mạch', 'sút_giảm', 'uy_tín', 'true', 'danh_tiếng', 'zico', 'niềm', 'đẫy', 'hiếu', 'kỷ_nguyên', 'thống_trị', 'thai', 'từ_chức', 'báo_chí', 'nhận_lời', 'thâm_tình', 'bầu', 'thăng_hoa', 'khách_quan', 'ổn_định', 'trỗi', 'dao_động', 'tĩnh', 'pleiku', 'danh_dự', 'gắn_bó', 'dấu_hiệu', 'gia_hạn', 'lươnghlv', 'bỏ_ngỏ', 'siêu_nhân', 'tương_lai', 'verstappen', 'max', 'tay_đua', 'f1', 'prix', 'michael', 'schumacher', 'sebastian', 'vettel', 'xác_lập', 'abu', 'dhabi', 'thành_công_chức', 'gp', 'lewis', 'hamilton', 'mercedes', 'tận_hưởng', 'quê', 'áp_lực', 'charles', 'leclerc', 'hôm_qua', 'in', 'bull', 'hạng_mục', 'lốp', 'mềm', 'george', 'russell', 'mãi', 'pit', 'fastest', 'lap', 'ferrari', 'sainz', 'ricciardo', 'mclaren', 'vĩnh', 'san', 'formula1', 'johnson', 'mỹ4', 'aces', 'dustin', 'blue', 'monster', 'miami', 'tổng_thống', 'donald', 'trump', 'gộp', 'patrick', 'reed', 'talor', 'gooch', 'pat', 'gạt', 'mét', 'lĩnh', 'putt', 'đường_thẳng', 'vững', 'lắm', 'may', 'chẳng', 'tiếp_xúc', 'chỗ', 'punch', 'cameron', 'smith', 'leishman', 'matt', 'wade', 'ormsby', 'bế_mạc', 'khai_trương', 'thù_lao', 'cam_kết', '150', 'telegraph', '637_triệu', 'thông_lệ', '2007', '307', 'major', '74', '897', 'owgr', '135', 'hadji', 'diouf', 'asamoah', 'gyan', 'james', 'áo_vàng', 'rực_rỡ', 'phá_lưới', 'puskas', 'đỡ', 'ngực', 'nhạc_trưởng', 'vốn', 'săn_đón', 'tổng_phí', 'chuyển_nhượng', '108', 'rayyan', 'hy', 'lạp', 'olympiakos', 'ghana', 'suarez', 'phụ', 'luân_lưu', 'sunderland', 'rennes', 'ain', 'dạng', 'mượn', 'shanghai', 'sipg', 'ahli', 'dubai', 'kayserispor', 'legon', 'cities', 'isaksson', 'thụy', 'điển', '2006', 'portsmouth', 'món', 'hời', 'tậu', '2008', 'kép', 'vỏn_vẹn', 'manchester', 'middlesbrough', 'màn_ảnh', 'pa', 'images', 'kleberson', 'đắc_lực', 'ronaldinho', 'rivaldo', '2002', 'felipe', 'scolari', 'người_hùng', 'thầm_lặng', 'sir', 'ferguson', '2003', 'veron', 'sở_hữu_kleberson', 'bán_lỗ', 'tiền_vệ_sinh', '1979', 'besiktas', 'salif', 'diao', 'tiếng_vang', 'phí', 'dưới_trướng', 'gerard', 'houllier', 'sở_trường', 'benitez', 'tiếp_quản', 'ghế', 'birmingham', 'stoke', 'tự_do', 'thăng', 'giã_từ', 'đkvđ', 'anelka', 'kém_cỏi', 'hành_động', 'nhổ', 'nước_bọt', 'cđv', 'hành_vi', 'arjan', 'zeeuw', 'bolton', 'jamie', 'carragher', 'thống_kê', 'denilson', '1998', 'bến', 'betis', 'segunda', 'division', 'flamengo', 'chia_tay', 'bordeaux', 'nassr', 'dallas', 'palmeiras', 'itumbiara', 'jarni', 'croatia', 'hc', 'gordon', 'strachan', 'coventry', 'lãnh_đạo', 'đánh_bại', 'hóa_ra', 'thương_vụ', 'bernabeu', 'las', 'palmas', '1999', 'ilie', 'dumitrescu', 'romania', '1994', 'sánh', 'klinsmann', 'tồi_tệ', 'osvaldo', 'ardiles', 'sa_thải', 'gerry', 'francis', 'white', 'hart', 'lane', '1995', '1996', 'giấy_phép', 'lao_động', 'london', 'atlante', 'steaua', 'bucuresti', 'alberto', 'tarantini', 'sọc', '1978', 'boca', 'juniors', '300_000', 'quên', 'thói', 'kỷ_luật', 'brian', 'greenhoff', 'talleres', 'cordoba', 'river', 'plate', 'bastia', 'toulouse', 'st', 'gallen', '1982', 'giã', 'tái_phát', 'rafaela', 'pimenta', 'torino', 'pittsburgh', 'suy_nghĩ', 'mơ_mộng', 'ngày_mai', 'thông_báo', 'chăm_chỉ', 'kiên_cường', 'tâm_trí', 'hết_sức', 'sân_cỏ', 'mổ', 'sụn', 'chêm', 'gối', 'los', 'angeles', 'điều_trị', 'bảo_tồn', 'phẫu_thuật', 'bác_sĩ', 'đổi_ý', 'vết', 'samuel', 'umtiti', 'từ_chối', 'phanh', 'lecce', 'thông_qua', 'video', 'đăng', 'twitter', 'đồn', 'đoán', 'xung_quanh', 'cuộc_sống', 'cảm_giác', 'continassa', 'chủ_chốt', 'n', 'golo', 'kante', 'deschamps', 'eduardo', 'camavinga', 'aurelien', 'tchouameni', 'adrien', 'rabiot', 'youssouf', 'fofana', 'đan', 'tunisia', '59', 'đtqg', 'allegri', 'vợ_chồng', 'tinh_thành', 'cặp_đôi', 'bùi', 'thùy', 'chiêu_mộ', 'nội_ban', 'nảy', 'ý_tưởng', 'độc_thân', 'nhường', 'kêu_gọi', 'hoàn_thành', 'vui_vẻ', 'cot', 'nguyễn_thảo', '41', 'chinh_phục', 'thảo', 'chồng', 'một_mình', 'đơn_giản', 'yêu', 'hạnh_phúc', 'giục', 'kia', 'nỡ', 'dnf', 'anh_chị', 'môn', 'cảm_nhận', 'ấm_áp', 'tình_yêu_thương', 'thông_điệp', 'xuyên', 'suốt', 'tôn_chỉ', 'bền_vững', 'già', 'tế_bào', 'mạnh_khỏe', 'bố_mẹ', 'kun', 'cháu', 'thích_thú', 'tiếc', 'sân_chơi', 'nội_bộ', 'hoạt_động', 'gắn_kết', 'giới_hạn', 'dự_kiến_giải', 'nhân_sự', 'kiến', 'an_thành_phố', 'mục_đích', 'môi_trường', 'chuyên_môn', 'quan_điểm', 'anhchứng', 'gary', 'bình_luận_viên', 'sky', 'sports', 'bình_luận', 'frenkie', 'jong', 'thứ_sáu', '58', 'quỷ', 'đỏ', 'yếu', 'redknapp', '1991', 'quý', 'cies', 'vđqg', '644', 'xu_hướng', 'khổng_lồ', 'vụ', 'jack', 'grealish', '139', '55_triệu', '75', 'kevin', 'bruyne', 'dias', 'riyad', 'mahrez', 'joao', 'cancelo', 'aymeric', 'laporte', 'rodri', '475', 'duyệt', '200', 'tân', 'máu', '69', 'nổi_bật', '505', 'bóng_thủ_đô', '263', 'đứt', 'kylian', '405', '389', '378', 'mua_sắm', '145', 'oleks', 'zinchenko', 'gabriel', 'jesus', 'fabio', 'vieira', 'marquinhos', '115', 'carvalho', 'calvin', 'ramsay', 'đồng_sở_hữu', 'todd', 'boehly', 'vung', '400', 'emerick', 'aubameyang', 'wesley', 'cucurella', 'raheem', 'sterling', 'kalidou', 'koulibaly', '365', '330', '296', '291', 'chi_tiêu', 'mạnh_tay', 'quỹ', 'pif', 'vươn', 'giêng', 'bruno', 'guimaraes', '43', 'isak', 'big', '227', '248', 'thủ_quân', 'ibrahimovic', 'zlatan', 'canal', 'plus', '113', '122', 'có_ích', 'chúa', 'hút', 'xì_gà', 'scudetto', 'bgm', 'ý_định', 'dây_chằng', 'nén', 'chiến_đấu', 'tam_tấu', 'mnm', 'hòa_salzburg', 'sân_san', 'siro', 'anklopp', 'chê', 'cư_xử', 'trẻ_con', '680', 'tài_trợ', 'khóa', 'phó', 'văn_thành', '679', 'quảng_cáo', 'tổng_thu', '339', '961', 'đối_tác', 'nhảy_vọt', 'phát', 'chục', 'kinh_tế', 'mai', 'vàng', 'futsal', 'cố', 'ước_mơ', 'trò_chuyện', 'lề', 'đại_hội', 'cấn', 'văn_nghĩa', 'bê_bối', 'thuế', 'liên_hợp', 'mỹ_đình', 'ứng_cử', 'nguyễn_trung_kiên', 'tổng_giám_đốc', 'next', 'media', 'hđqt', 'kiêm', 'động_lực', 'bóng_chuyền', 'vận_động', 'ủy_ban', 'olympic', 'ủy_viên', 'ban_chấp_hành', 'trưởng_ban', 'trúng_cử', 'nhiệm_kỳ', '2026', 'phó_chủ_tịch', 'đối_ngoại', 'chóng', 'đương_nhiệm', 'nguyễn_quốc_hội', 't', 'nguyễn_xuân', 'vũ', 'phù', 'đổng', 'nguyễn_thị_hoàng', 'phương', 'tổng_công_ty', 'trần_quốc_tuấn', 'dương', 'nghiệp', 'khôi', 'vũ_tiến', 'phạm', 'viễn', 'bảnsáng', 'tatsuma', 'yokohama', 'keio', 'challenger', '80', '617', 'thứ_hạng', 'game', 'hẳn', 'chậm_chạp', 'cân_bằng', 'xuất_sắc', 'set', 'hải_đăng', 'mở_đầu', 'đánh_hỏng', 'giao', 'buông_xuôi', 'kiên_trì', 'bám', 'đuổi', 'ngỡ', 'dòng', 'giao_bóng', 'ace', 'dày_dạn', 'mắc_lỗi', 'bền', 'bản_lĩnh', 'lên_tiếng', 'weber', 'm25', 'jakarta', 'indonesia', '53', 'matsuyama', 'kobe', 'điểm_số', 'czechbarca', 'stanek', 'alonso', 'ưu_thế', '44', 'ferran', 'torres', 'nhân', 'jordi', 'alba', 'lơi_lỏng', 'tomas', 'chory', 'ngắn', '51', 'xen', 'đúp', 'pablo', 'torre', 'plenz', 'xav', 'ancelotti', 'zone', 'chậm', 'tim', 'heart', 'rate', 'sản_xuất', 'đo', 'sức_bền', 'ví_dụ', 'tương_đối', 'ngưỡng', 'aerobic', 'đeo', 'đồng_hồ', 'thông_minh', 'tech', 'arp', 'chất_béo', 'năng_lượng', 'đa_số', 'thích_nghi', 'trải_nghiệm', 'sảng_khoái', 'mệt_mỏi', 'tích_tụ', 'kỹ', 'mát_mẻ', 'địa_hình', 'bằng_phẳng', 'lý_tưởng', 'nhẹ_nhàng', 'mph', 'kph', 'motivation', 'bí_quyết']\n"
          ]
        }
      ]
    },
    {
      "cell_type": "markdown",
      "source": [
        "**Thử nghiệm chức năng tìm kiếm các từ gần/tương đồng/hay xuất hiện chung với một từ**"
      ],
      "metadata": {
        "id": "iMUdVgRigmjy"
      }
    },
    {
      "cell_type": "code",
      "source": [
        "sims = word2vec_model.wv.most_similar('cầu_thủ', topn=10)\n",
        "print(sims)"
      ],
      "metadata": {
        "colab": {
          "base_uri": "https://localhost:8080/"
        },
        "id": "LDayMQwXgzeE",
        "outputId": "91131979-8716-44f3-c262-3ec33856bab3"
      },
      "execution_count": 8,
      "outputs": [
        {
          "output_type": "stream",
          "name": "stdout",
          "text": [
            "[('đội', 0.9426406025886536), ('phút', 0.9389937520027161), ('trận', 0.9362512826919556), ('tiền_đạo', 0.9331744313240051), ('giải', 0.9267739653587341), ('1', 0.9267497658729553), ('11', 0.9260605573654175), ('đấu', 0.9260364770889282), ('2022', 0.9250099658966064), ('nam', 0.9242852330207825)]\n"
          ]
        }
      ]
    },
    {
      "cell_type": "markdown",
      "source": [
        "**Tiến hành thử nghiệm học biểu diễn các từ trong tập văn bản [processed_docs] với thư viện Doc2Vec của Gensim**"
      ],
      "metadata": {
        "id": "LuRKS53oheYW"
      }
    },
    {
      "cell_type": "code",
      "source": [
        "documents = [TaggedDocument(doc, [i]) for i, doc in enumerate(sentences)]\n",
        "doc2vec_model = Doc2Vec(documents,\n",
        "                        vector_size=100, \n",
        "                        window=2, \n",
        "                        min_count=1, \n",
        "                        workers=1)"
      ],
      "metadata": {
        "id": "R1YenwdJhQQ-"
      },
      "execution_count": 9,
      "outputs": []
    },
    {
      "cell_type": "markdown",
      "source": [
        "**Thử lấy vector biểu diễn của tài liệu đầu tiên**"
      ],
      "metadata": {
        "id": "sDdANXzzQrKH"
      }
    },
    {
      "cell_type": "code",
      "source": [
        "doc2vec_model.docvecs[0]"
      ],
      "metadata": {
        "colab": {
          "base_uri": "https://localhost:8080/"
        },
        "id": "Sj2j-CtXh6sC",
        "outputId": "03bd44a2-7ee9-464f-fc96-849b4bce0683"
      },
      "execution_count": 10,
      "outputs": [
        {
          "output_type": "execute_result",
          "data": {
            "text/plain": [
              "array([-0.02286145, -0.00688301,  0.05733623, -0.03763993,  0.02754937,\n",
              "        0.04620416, -0.01186034, -0.03283711,  0.01729831, -0.0237403 ,\n",
              "       -0.04368305,  0.00599364, -0.02098591, -0.05552647,  0.04374911,\n",
              "        0.03329016, -0.06928718,  0.01086011, -0.01513694, -0.00140159,\n",
              "        0.01250541,  0.01099868, -0.01011164,  0.05714671,  0.01052094,\n",
              "       -0.00803035,  0.04655482, -0.02180494,  0.03740108, -0.02887356,\n",
              "       -0.00332454,  0.01340596, -0.0395426 , -0.03662034,  0.03535185,\n",
              "        0.0088013 , -0.03998219,  0.05006882, -0.0760505 , -0.01420349,\n",
              "        0.02326053, -0.02911623, -0.00084083,  0.05177208,  0.01160359,\n",
              "       -0.00916797,  0.00482333,  0.04069285,  0.01178363, -0.05773144,\n",
              "        0.01082948, -0.02480627,  0.05463095,  0.00281873, -0.02291851,\n",
              "        0.05105351,  0.00391827,  0.00988708, -0.0231679 , -0.03078115,\n",
              "       -0.00640672,  0.05401685, -0.06322952,  0.02924149, -0.02784145,\n",
              "        0.00924785,  0.00704862, -0.05692776, -0.00453266,  0.04165833,\n",
              "        0.05164156,  0.00950192,  0.00877947, -0.00558798, -0.01773268,\n",
              "        0.02978774, -0.06471651, -0.03626215, -0.01991129,  0.00685278,\n",
              "        0.02204228, -0.04584772, -0.03631399,  0.01346348, -0.01143508,\n",
              "        0.00268474, -0.01238983, -0.0633972 , -0.01919816,  0.02110981,\n",
              "       -0.03868979,  0.01403026,  0.04373198, -0.03149121,  0.01112508,\n",
              "       -0.03299867, -0.01740763, -0.03216301,  0.03500904, -0.00053387],\n",
              "      dtype=float32)"
            ]
          },
          "metadata": {},
          "execution_count": 10
        }
      ]
    }
  ]
}