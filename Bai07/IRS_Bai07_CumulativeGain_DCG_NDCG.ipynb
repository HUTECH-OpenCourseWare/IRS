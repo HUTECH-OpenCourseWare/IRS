{
  "nbformat": 4,
  "nbformat_minor": 0,
  "metadata": {
    "colab": {
      "provenance": []
    },
    "kernelspec": {
      "name": "python3",
      "display_name": "Python 3"
    },
    "language_info": {
      "name": "python"
    }
  },
  "cells": [
    {
      "cell_type": "markdown",
      "source": [
        "**Import các thư viện cần thiết**"
      ],
      "metadata": {
        "id": "i1xWPuiy8JTh"
      }
    },
    {
      "cell_type": "code",
      "source": [
        "%matplotlib inline\n",
        "import math\n",
        "import numpy as np\n",
        "import matplotlib.pyplot as plt"
      ],
      "metadata": {
        "id": "MNuaW6618JBe"
      },
      "execution_count": null,
      "outputs": []
    },
    {
      "cell_type": "markdown",
      "source": [
        "**Cho tập dữ liệu danh sách các tài liệu/văn bản trả về từ một truy vấn (q) và tập nhãn đánh giá mức độ liên quan đến truy vấn ở dạng số thực, trong khoảng: [0, 1]**"
      ],
      "metadata": {
        "id": "FkCN4q_J8oEo"
      }
    },
    {
      "cell_type": "code",
      "execution_count": null,
      "metadata": {
        "id": "rf-bKQJQ77OI"
      },
      "outputs": [],
      "source": [
        "# Tập danh sách các tài liệu/văn bản trả về ở dạng các mã định danh\n",
        "search_results = np.array([599, 588, 611, 788, 871, 982, 863, 623, 567, 898])\n",
        "\n",
        "# Tập nhãn mức độ liên quan (ở dạng số thực trong khoảng: [0, 1]) \n",
        "# Cho các kết quả trả về ở dạng mã định danh tài liệu/văn bản trong [search_results]\n",
        "rel_scores = np.array([1.0, 0.6, 0.0, 0.8, 0.0, 1.0, 0.0, 0.0, 0.2, 0.0])\n",
        "\n",
        "# Xác định tổng số lượng tài liệu/văn bản thực sự có liên quan đến truy vấn (q) trong hệ thống\n",
        "total_relevant_docs = 8"
      ]
    },
    {
      "cell_type": "markdown",
      "source": [
        "**Chúng ta tiến hành tính giá trị mức độ liên quan tăng tích luỹ (Cumulative Gain - CG) của tập kết quả trả về tại các vị trí top@k khác nhau**\n",
        "\n",
        "**Trong đó tăng tích luỹ của một tập top@k kết quả của một truy vấn (q) được xác định như sau:**\n",
        "\n",
        "## $$CG_{k}=\\sum^{k}_{i=1}rel_{i}$$\n",
        "**Trong đó ($rel_{i}$) là điểm đánh giá mức độ liên quan của tài liệu/văn bản (i) với truy vấn (q)**"
      ],
      "metadata": {
        "id": "e69IAGXnMhOO"
      }
    },
    {
      "cell_type": "code",
      "source": [
        "# Viết hàm tính mức độ liên quan tăng tích luỹ (CG) tại vị trí (k)\n",
        "def calculate_cg_at(k):\n",
        "  return np.sum(rel_scores[:k])\n",
        "\n",
        "# Xác định giá trị của khoảng [0, k] mà chúng ta sẽ đánh giá kết quả trả về [search_results] dựa trên nhãn [labels]\n",
        "eval_range = 10\n",
        "\n",
        "# Chúng ta tạo danh sách để lưu giá trị CG tại các vị trí (k)\n",
        "cg_scores = []\n",
        "\n",
        "# Tiến hành duyệt qua từng giá trị (k) và tính CG tại vị trí tương ứng\n",
        "for k in range(1, eval_range + 1):\n",
        "  cg_score = calculate_cg_at(k)\n",
        "  cg_scores.append(cg_score)\n",
        "  print('Top@[{}] - có độ tương đồng tăng tích luỹ (CG): [{:.6f}].'.format(k, cg_score))"
      ],
      "metadata": {
        "colab": {
          "base_uri": "https://localhost:8080/"
        },
        "id": "3McV6SQsM7KE",
        "outputId": "ea2e0ea7-3750-4347-8d3d-f95af0cd52b3"
      },
      "execution_count": null,
      "outputs": [
        {
          "output_type": "stream",
          "name": "stdout",
          "text": [
            "Top@[1] - có độ tương đồng tăng tích luỹ (CG): [1.000000].\n",
            "Top@[2] - có độ tương đồng tăng tích luỹ (CG): [1.600000].\n",
            "Top@[3] - có độ tương đồng tăng tích luỹ (CG): [1.600000].\n",
            "Top@[4] - có độ tương đồng tăng tích luỹ (CG): [2.400000].\n",
            "Top@[5] - có độ tương đồng tăng tích luỹ (CG): [2.400000].\n",
            "Top@[6] - có độ tương đồng tăng tích luỹ (CG): [3.400000].\n",
            "Top@[7] - có độ tương đồng tăng tích luỹ (CG): [3.400000].\n",
            "Top@[8] - có độ tương đồng tăng tích luỹ (CG): [3.400000].\n",
            "Top@[9] - có độ tương đồng tăng tích luỹ (CG): [3.600000].\n",
            "Top@[10] - có độ tương đồng tăng tích luỹ (CG): [3.600000].\n"
          ]
        }
      ]
    },
    {
      "cell_type": "markdown",
      "source": [
        "**Tiếp theo đó, chúng ta sẽ tiến hành tính khấu trừ tăng tích luỹ (discounted cumulative gain - DCG) tại các vị trí top@k khác nhau**\n",
        "\n",
        "**Khấu trừ tăng tích luỹ (DCG) của một tập top@k kết quả cho một truy vấn (q) được xác định như sau:**\n",
        "\n",
        "## $$DCG_{k}=rel_{1}+\\sum^{k}_{i=2}\\frac{rel_{i}}{log_{2}{(i)}}$$"
      ],
      "metadata": {
        "id": "b0ZyhImvOOXi"
      }
    },
    {
      "cell_type": "code",
      "source": [
        "# Viết hàm tính mức độ liên quan khấu trừ tăng tích luỹ (DCG) tại vị trí (k)\n",
        "def calculate_dcg_at(k):\n",
        "  dcg_score = rel_scores[0]\n",
        "  if k > 1:\n",
        "    for i, rel_score in enumerate(rel_scores[1:k]):\n",
        "      dcg_score += rel_score / math.log(i+2, 2)\n",
        "  return dcg_score\n",
        "\n",
        "# Xác định giá trị của khoảng [0, k] mà chúng ta sẽ đánh giá kết quả trả về [search_results] dựa trên nhãn mức độ tương đồng [rel_scores]\n",
        "eval_range = 10\n",
        "\n",
        "# Chúng ta tạo danh sách để lưu giá trị DCG tại các vị trí (k)\n",
        "dcg_scores = []\n",
        "\n",
        "# Tiến hành duyệt qua từng giá trị (k) và tính DCG tại vị trí tương ứng\n",
        "for k in range(1, eval_range + 1):\n",
        "  dcg_score = calculate_dcg_at(k)\n",
        "  dcg_scores.append(dcg_score)\n",
        "  print('Top@[{}] - có độ tương đồng khấu trừ tăng tích luỹ (DCG): [{:.6f}].'.format(k, dcg_score))"
      ],
      "metadata": {
        "colab": {
          "base_uri": "https://localhost:8080/"
        },
        "id": "oEut-3phOY7H",
        "outputId": "dbf32183-7c2e-4841-cb41-6a93e1fc6b42"
      },
      "execution_count": null,
      "outputs": [
        {
          "output_type": "stream",
          "name": "stdout",
          "text": [
            "Top@[1] - có độ tương đồng khấu trừ tăng tích luỹ (DCG): [1.000000].\n",
            "Top@[2] - có độ tương đồng khấu trừ tăng tích luỹ (DCG): [1.600000].\n",
            "Top@[3] - có độ tương đồng khấu trừ tăng tích luỹ (DCG): [1.600000].\n",
            "Top@[4] - có độ tương đồng khấu trừ tăng tích luỹ (DCG): [2.000000].\n",
            "Top@[5] - có độ tương đồng khấu trừ tăng tích luỹ (DCG): [2.000000].\n",
            "Top@[6] - có độ tương đồng khấu trừ tăng tích luỹ (DCG): [2.386853].\n",
            "Top@[7] - có độ tương đồng khấu trừ tăng tích luỹ (DCG): [2.386853].\n",
            "Top@[8] - có độ tương đồng khấu trừ tăng tích luỹ (DCG): [2.386853].\n",
            "Top@[9] - có độ tương đồng khấu trừ tăng tích luỹ (DCG): [2.449946].\n",
            "Top@[10] - có độ tương đồng khấu trừ tăng tích luỹ (DCG): [2.449946].\n"
          ]
        }
      ]
    },
    {
      "cell_type": "markdown",
      "source": [
        "**Tiếp theo đó ta sẽ xác định khấu trừ tăng tích luỹ lý tưởng (Ideal Discounted Cumulative Gain - IDCG) - của tập kết quả - thông qua việc sắp xếp các tài liệu có nhãn mức độ liên quan lên đầu (giảm dần)**"
      ],
      "metadata": {
        "id": "yVmvkydGVU0U"
      }
    },
    {
      "cell_type": "code",
      "source": [
        "# Ban đầu chúng ta tiến hành sắp xếp danh sách [rel_scores] theo thứ tự giảm dần của mức độ tương đồng\n",
        "sorted_rel_scores = sorted(rel_scores, reverse=True)\n",
        "print('Danh sách nhãn mức độ tương đồng [rel_scores] (đã sắp xếp giảm dần):')\n",
        "print(sorted_rel_scores)"
      ],
      "metadata": {
        "colab": {
          "base_uri": "https://localhost:8080/"
        },
        "id": "M-9FoBHcVvYh",
        "outputId": "b70585a3-0480-462e-bf8a-83c0669d08eb"
      },
      "execution_count": null,
      "outputs": [
        {
          "output_type": "stream",
          "name": "stdout",
          "text": [
            "Danh sách nhãn mức độ tương đồng [rel_scores] (đã sắp xếp giảm dần):\n",
            "[1.0, 1.0, 0.8, 0.6, 0.2, 0.0, 0.0, 0.0, 0.0, 0.0]\n"
          ]
        }
      ]
    },
    {
      "cell_type": "markdown",
      "source": [
        "**Sau đó, chúng ta tiến hành xác định khấu trừ tăng tích luỹ lý tưởng tại của tập kết quả trả về tại các vị trí top@k**"
      ],
      "metadata": {
        "id": "TA7Rft-0pwBO"
      }
    },
    {
      "cell_type": "code",
      "source": [
        "# Viết hàm tính mức độ liên quan khấu trừ tăng tích luỹ lý tưởng (IDCG) tại vị trí (k)\n",
        "def calculate_idcg_at(k):\n",
        "  idcg_score = sorted_rel_scores[0]\n",
        "  if k > 1:\n",
        "    for i, rel_score in enumerate(sorted_rel_scores[1:k]):\n",
        "      idcg_score += rel_score / math.log(i+2, 2)\n",
        "  return idcg_score\n",
        "\n",
        "# Đặt một danh sách để lưu giá trị IDCG của [sorted_rel_score_dict]\n",
        "idcg_scores = []\n",
        "\n",
        "# Tiến hành duyệt qua từng giá trị (k) và tính IDCG tại vị trí tương ứng\n",
        "for k in range(1, eval_range + 1):\n",
        "  idcg_score = calculate_idcg_at(k)\n",
        "  idcg_scores.append(idcg_score)\n",
        "  print('Top@[{}] - có độ tương đồng khấu trừ tăng tích luỹ lý tưởng (IDCG): [{:.6f}].'.format(k, idcg_score))"
      ],
      "metadata": {
        "colab": {
          "base_uri": "https://localhost:8080/"
        },
        "id": "n1FwihqsWau2",
        "outputId": "0bf9a49c-bfff-4b72-da66-fcac1edbb322"
      },
      "execution_count": null,
      "outputs": [
        {
          "output_type": "stream",
          "name": "stdout",
          "text": [
            "Top@[1] - có độ tương đồng khấu trừ tăng tích luỹ lý tưởng (IDCG): [1.000000].\n",
            "Top@[2] - có độ tương đồng khấu trừ tăng tích luỹ lý tưởng (IDCG): [2.000000].\n",
            "Top@[3] - có độ tương đồng khấu trừ tăng tích luỹ lý tưởng (IDCG): [2.504744].\n",
            "Top@[4] - có độ tương đồng khấu trừ tăng tích luỹ lý tưởng (IDCG): [2.804744].\n",
            "Top@[5] - có độ tương đồng khấu trừ tăng tích luỹ lý tưởng (IDCG): [2.890879].\n",
            "Top@[6] - có độ tương đồng khấu trừ tăng tích luỹ lý tưởng (IDCG): [2.890879].\n",
            "Top@[7] - có độ tương đồng khấu trừ tăng tích luỹ lý tưởng (IDCG): [2.890879].\n",
            "Top@[8] - có độ tương đồng khấu trừ tăng tích luỹ lý tưởng (IDCG): [2.890879].\n",
            "Top@[9] - có độ tương đồng khấu trừ tăng tích luỹ lý tưởng (IDCG): [2.890879].\n",
            "Top@[10] - có độ tương đồng khấu trừ tăng tích luỹ lý tưởng (IDCG): [2.890879].\n"
          ]
        }
      ]
    },
    {
      "cell_type": "markdown",
      "source": [
        "**Từ tập giá trị IDCG đã tính được bên trên kết hợp với tập DCG ta sẽ tính được khấu trừ tăng tích luỹ bình thường hoá (NDCG) như sau**\n",
        "\n",
        "**Khấu trừ tăng tích luỹ bình thường hoá (NDCG) của một tập top@k kết quả cho một truy vấn (q) được xác định như sau:**\n",
        "## $$NDCG_{k}=\\frac{DCG_{k}}{IDCG_{k}}$$"
      ],
      "metadata": {
        "id": "LtPt_VoanwWG"
      }
    },
    {
      "cell_type": "code",
      "source": [
        "def calculate_ndcg_at(k):\n",
        "  ndcg_score = dcg_scores[k - 1] /  idcg_scores[k - 1]\n",
        "  return ndcg_score\n",
        "\n",
        "# Tiến hành duyệt qua từng giá trị (k) và tính IDCG tại vị trí tương ứng\n",
        "for k in range(1, eval_range + 1):\n",
        "  ndcg_score = calculate_ndcg_at(k)\n",
        "  print('Top@[{}] - có độ tương đồng khấu trừ tăng tích luỹ bình thường hoá (NDCG): [{:.6f}].'.format(k, ndcg_score))"
      ],
      "metadata": {
        "colab": {
          "base_uri": "https://localhost:8080/"
        },
        "id": "vsP_BMaxnvB5",
        "outputId": "86ed3eee-7b33-457e-dcf1-3244f28c64a9"
      },
      "execution_count": null,
      "outputs": [
        {
          "output_type": "stream",
          "name": "stdout",
          "text": [
            "Top@[1] - có độ tương đồng khấu trừ tăng tích luỹ bình thường hoá (NDCG): [1.000000].\n",
            "Top@[2] - có độ tương đồng khấu trừ tăng tích luỹ bình thường hoá (NDCG): [0.800000].\n",
            "Top@[3] - có độ tương đồng khấu trừ tăng tích luỹ bình thường hoá (NDCG): [0.638788].\n",
            "Top@[4] - có độ tương đồng khấu trừ tăng tích luỹ bình thường hoá (NDCG): [0.713078].\n",
            "Top@[5] - có độ tương đồng khấu trừ tăng tích luỹ bình thường hoá (NDCG): [0.691831].\n",
            "Top@[6] - có độ tương đồng khấu trừ tăng tích luỹ bình thường hoá (NDCG): [0.825649].\n",
            "Top@[7] - có độ tương đồng khấu trừ tăng tích luỹ bình thường hoá (NDCG): [0.825649].\n",
            "Top@[8] - có độ tương đồng khấu trừ tăng tích luỹ bình thường hoá (NDCG): [0.825649].\n",
            "Top@[9] - có độ tương đồng khấu trừ tăng tích luỹ bình thường hoá (NDCG): [0.847474].\n",
            "Top@[10] - có độ tương đồng khấu trừ tăng tích luỹ bình thường hoá (NDCG): [0.847474].\n"
          ]
        }
      ]
    }
  ]
}