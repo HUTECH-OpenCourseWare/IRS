{
  "nbformat": 4,
  "nbformat_minor": 0,
  "metadata": {
    "colab": {
      "provenance": []
    },
    "kernelspec": {
      "name": "python3",
      "display_name": "Python 3"
    },
    "language_info": {
      "name": "python"
    }
  },
  "cells": [
    {
      "cell_type": "markdown",
      "source": [
        "**Import các thư viện cần thiết**"
      ],
      "metadata": {
        "id": "91dDV67D1V2t"
      }
    },
    {
      "cell_type": "code",
      "execution_count": null,
      "metadata": {
        "id": "gBFFWZrO1A-n"
      },
      "outputs": [],
      "source": [
        "%matplotlib inline\n",
        "import numpy as np\n",
        "import matplotlib.pyplot as plt"
      ]
    },
    {
      "cell_type": "markdown",
      "source": [
        "**Cho tập dữ liệu danh sách các tài liệu/văn bản trả về từ hai truy vấn (q1) và (q2) và tập nhãn các kết quả ở dạng nhị phân như bên dưới, trong đó:**\n",
        "*   **[1]: tài liệu/văn bản có liên quan đến truy vấn**\n",
        "*   **[0]: tài liệu/văn bản không có liên quan đến truy vấn**"
      ],
      "metadata": {
        "id": "_Yo4e2j91QZX"
      }
    },
    {
      "cell_type": "code",
      "source": [
        "# Tập danh sách các tài liệu/văn bản trả về ở dạng các mã định danh cho truy vấn (q1) và truy vấn (q2)\n",
        "search_result_list = np.array(\n",
        "    [\n",
        "      [599, 588, 611, 788, 871, 982, 863, 623, 567, 898],\n",
        "      [688, 782, 332, 8, 17, 23, 987, 1082, 1887, 2967]\n",
        "    ]\n",
        ")\n",
        "\n",
        "# Tập nhãn cho các kết quả trả về ở dạng mã định danh tài liệu/văn bản cho truy vấn (q1) và (q2)\n",
        "q_label_list = np.array(\n",
        "    [\n",
        "      [1, 1, 0, 1, 0, 1, 0, 0, 1, 0],\n",
        "      [1, 0, 1, 0, 0, 1, 1, 0, 0, 1]\n",
        "    ]\n",
        ")\n",
        "\n",
        "# Xác định tổng số lượng tài liệu/văn bản thực sự có liên quan đến truy vấn (q) trong hệ thống\n",
        "total_relevant_docs = 8"
      ],
      "metadata": {
        "id": "ckQKVgHm1VB2"
      },
      "execution_count": null,
      "outputs": []
    },
    {
      "cell_type": "markdown",
      "source": [
        "**Chúng ta sẽ viết hàm tính độ chính xác của kết quả trả về cho từng top@k sau đó tính trung bình độ chí xác - Average Precision (AP) cho mỗi truy vấn**\n",
        "\n",
        "**Ta có công thức tổng quát của AP tại mỗi vị trí top@k cho một truy vấn (q) như sau:**\n",
        "## $$AP_{q}=\\frac{1}{k}\\sum^{i=1}_{k}P(i)$$\n",
        "Trong đó: $P(i)$ là độ chính xác (precision) của mô hình tại mỗi vị trí (top@i)\n",
        "\n"
      ],
      "metadata": {
        "id": "rjRFNO1I14xz"
      }
    },
    {
      "cell_type": "code",
      "source": [
        "# Viết hàm xác định độ chính xác precision của top@k kết quả cho 1 truy vấn - với tập nhãn [labels]\n",
        "def calculate_precision_at(k, labels):\n",
        "    total_relevant_docs_at_k = len(np.where(labels[:k] == 1)[0])\n",
        "    precision = total_relevant_docs_at_k / k\n",
        "    return precision\n",
        "\n",
        "# Viết hàm tính trung bình độ chính xác (AP)\n",
        "def calculate_ap(precisions):\n",
        "  return np.mean(precisions)\n",
        "\n",
        "# Xác định giá trị của khoảng [0, k] mà chúng ta sẽ đánh giá kết quả trả về\n",
        "eval_range = 10\n",
        "\n",
        "# Chúng ta tạo danh sách để lưu thông tin precision cho từng truy vấn tại các vị trí (k)\n",
        "q_precisions = {}\n",
        "\n",
        "# Chúng ta tạo danh sách để lưu trữ thông tin độ chính xác AP của từng truy vấn\n",
        "ap_scores = []\n",
        "\n",
        "for q_idx, q_labels in enumerate(q_label_list):\n",
        "  precisions = []\n",
        "  print(f'Truy vấn (q)[{q_idx + 1}]:')\n",
        "  # Với mỗi truy vấn [q_idx] - tiến hành duyệt qua từng giá trị (k) và tính ra độ chính xác (precision), độ nhậy (recall) và F1 tương ứng\n",
        "  for k in range(1, eval_range + 1):\n",
        "    precision = calculate_precision_at(k, q_labels)\n",
        "    precisions.append(precision)\n",
        "    print(' - Top@[{}] - có độ chính xác precison (P): [{:.6f}].'.format(k, precision))\n",
        "  q_precisions[q_idx] = precisions\n",
        "\n",
        "  # Chúng ta tính trung bình độ chính xác cho truy vấn [q_idx]\n",
        "  ap_score = calculate_ap(precisions)\n",
        "  ap_scores.append(ap_score)\n",
        "  print(f'Truy vấn (q)[{q_idx}], có độ chính xác AP: [{ap_score:.6f}]\\n')"
      ],
      "metadata": {
        "colab": {
          "base_uri": "https://localhost:8080/"
        },
        "id": "kfoeKg2g2FI1",
        "outputId": "a82260b0-4d27-4043-bd48-14f15e857387"
      },
      "execution_count": null,
      "outputs": [
        {
          "output_type": "stream",
          "name": "stdout",
          "text": [
            "Truy vấn (q)[1]:\n",
            " - Top@[1] - có độ chính xác precison (P): [1.000000].\n",
            " - Top@[2] - có độ chính xác precison (P): [1.000000].\n",
            " - Top@[3] - có độ chính xác precison (P): [0.666667].\n",
            " - Top@[4] - có độ chính xác precison (P): [0.750000].\n",
            " - Top@[5] - có độ chính xác precison (P): [0.600000].\n",
            " - Top@[6] - có độ chính xác precison (P): [0.666667].\n",
            " - Top@[7] - có độ chính xác precison (P): [0.571429].\n",
            " - Top@[8] - có độ chính xác precison (P): [0.500000].\n",
            " - Top@[9] - có độ chính xác precison (P): [0.555556].\n",
            " - Top@[10] - có độ chính xác precison (P): [0.500000].\n",
            "Truy vấn (q)[0], có độ chính xác AP: [0.681032]\n",
            "\n",
            "Truy vấn (q)[2]:\n",
            " - Top@[1] - có độ chính xác precison (P): [1.000000].\n",
            " - Top@[2] - có độ chính xác precison (P): [0.500000].\n",
            " - Top@[3] - có độ chính xác precison (P): [0.666667].\n",
            " - Top@[4] - có độ chính xác precison (P): [0.500000].\n",
            " - Top@[5] - có độ chính xác precison (P): [0.400000].\n",
            " - Top@[6] - có độ chính xác precison (P): [0.500000].\n",
            " - Top@[7] - có độ chính xác precison (P): [0.571429].\n",
            " - Top@[8] - có độ chính xác precison (P): [0.500000].\n",
            " - Top@[9] - có độ chính xác precison (P): [0.444444].\n",
            " - Top@[10] - có độ chính xác precison (P): [0.400000].\n",
            "Truy vấn (q)[1], có độ chính xác AP: [0.548254]\n",
            "\n"
          ]
        }
      ]
    },
    {
      "cell_type": "markdown",
      "source": [
        "**Cho tập 2 truy vấn (q1) và (q2) chúng ta xác định độ chính xác MAP như sau:**\n",
        "\n",
        "## $$MAP=\\frac{1}{Q}\\sum_{q \\in Q}AP_{q}$$\n",
        "\n",
        "**Trong đó:**\n",
        "*   ($Q$) là danh sách các truy vấn.\n",
        "*   ($AP_{q}$) là trung bình độ chính xác cho truy vấn (q).\n",
        "\n",
        "\n",
        "\n"
      ],
      "metadata": {
        "id": "O-IodezZ6QeB"
      }
    },
    {
      "cell_type": "code",
      "source": [
        "# Viết hàm tính độ chính xác MAP cho tập các truy vấn\n",
        "def calculate_map(ap_scores):\n",
        "  return np.mean(ap_scores)\n",
        "\n",
        "# Tiến hành tính độ chính xác MAP của tập truy vấn\n",
        "map_score = calculate_map(ap_scores)\n",
        "print(f'Tập kết quả cho các truy vấn có độ chính xác MAP: [{map_score:.6f}]')"
      ],
      "metadata": {
        "colab": {
          "base_uri": "https://localhost:8080/"
        },
        "id": "whcpYlN06pfM",
        "outputId": "3025578c-0637-4e8e-f929-765cac4f51ce"
      },
      "execution_count": null,
      "outputs": [
        {
          "output_type": "stream",
          "name": "stdout",
          "text": [
            "Tập kết quả cho các truy vấn có độ chính xác MAP: [0.614643]\n"
          ]
        }
      ]
    }
  ]
}