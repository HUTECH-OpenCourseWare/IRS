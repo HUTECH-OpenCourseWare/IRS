{
  "nbformat": 4,
  "nbformat_minor": 0,
  "metadata": {
    "colab": {
      "provenance": []
    },
    "kernelspec": {
      "name": "python3",
      "display_name": "Python 3"
    },
    "language_info": {
      "name": "python"
    }
  },
  "cells": [
    {
      "cell_type": "markdown",
      "source": [
        "**Import các thư viện cần thiết**"
      ],
      "metadata": {
        "id": "j8G6xybuMy1f"
      }
    },
    {
      "cell_type": "code",
      "execution_count": null,
      "metadata": {
        "id": "dsExh3xRMsKZ"
      },
      "outputs": [],
      "source": [
        "%matplotlib inline\n",
        "import numpy as np\n",
        "import matplotlib.pyplot as plt\n",
        "from sklearn.metrics import PrecisionRecallDisplay"
      ]
    },
    {
      "cell_type": "markdown",
      "source": [
        "**Cho tập dữ liệu danh sách các tài liệu/văn bản trả về từ một truy vấn (q) và tập nhãn các kết quả ở dạng nhị phân như bên dưới, trong đó:**\n",
        "*   **[1]: tài liệu/văn bản có liên quan đến truy vấn**\n",
        "*   **[0]: tài liệu/văn bản không có liên quan đến truy vấn**"
      ],
      "metadata": {
        "id": "ailWm52iPz2N"
      }
    },
    {
      "cell_type": "code",
      "source": [
        "# Tập danh sách các tài liệu/văn bản trả về ở dạng các mã định danh\n",
        "search_results = np.array([599, 588, 611, 788, 871, 982, 863, 623, 567, 898])\n",
        "\n",
        "# Tập nhãn cho các kết quả trả về ở dạng mã định danh tài liệu/văn bản trong [search_results]\n",
        "labels = np.array([1, 1, 0, 1, 0, 1, 0, 0, 1, 0])\n",
        "\n",
        "# Xác định tổng số lượng tài liệu/văn bản thực sự có liên quan đến truy vấn (q) trong hệ thống\n",
        "total_relevant_docs = 8"
      ],
      "metadata": {
        "id": "IzlMEp-uM340"
      },
      "execution_count": null,
      "outputs": []
    },
    {
      "cell_type": "markdown",
      "source": [
        "**Chúng ta viết hàm tính độ chính xác (precision) và độ nhậy (recall) tại các vị trí top@k trong danh sách kết quả trả về [search_results]**\n",
        "\n",
        "**Với precision (P) và recall (R), được xác định như sau:**\n",
        "\n",
        "### $$P=\\frac{\\text{Số lượng tài liệu có liên quan tìm thấy}}{\\text{Tổng số lượng tài liệu tìm thấy}}$$\n",
        "### $$R=\\frac{\\text{Số lượng tài liệu có liên quan tìm thấy}}{\\text{Tổng số lượng toàn bộ tài liệu có liên quan}}$$"
      ],
      "metadata": {
        "id": "67iqTQXiTT_s"
      }
    },
    {
      "cell_type": "code",
      "source": [
        "# Viết hàm xác định độ chính xác precision/recall của top@k kết quả\n",
        "def calculate_precision_recall_at(k):\n",
        "    total_relevant_docs_at_k = len(np.where(labels[:k] == 1)[0])\n",
        "    precision = total_relevant_docs_at_k / k\n",
        "    recall = total_relevant_docs_at_k / total_relevant_docs\n",
        "    return (precision, recall)\n",
        "\n",
        "# Xác định giá trị của khoảng [0, k] mà chúng ta sẽ đánh giá kết quả trả về [search_results] dựa trên nhãn [labels]\n",
        "eval_range = 10\n",
        "\n",
        "# Chúng ta tạo 2 danh sách để lưu trữ lại độ chính xác (precision) và độ nhậy (recall) tại các vị trí k\n",
        "precisions = []\n",
        "recalls = []\n",
        "\n",
        "# Tiến hành duyệt qua từng giá trị (k) và tính ra độ chính xác (precision) & độ nhậy (recall) tương ứng\n",
        "for k in range(1, eval_range + 1):\n",
        "  (precision, recall) = calculate_precision_recall_at(k)\n",
        "  precisions.append(precision)\n",
        "  recalls.append(recall)\n",
        "  print('Top@[{}] - có độ chính xác precison (P): [{:.6f}], recall (R): [{:.6f}]'.format(k, precision, recall))"
      ],
      "metadata": {
        "colab": {
          "base_uri": "https://localhost:8080/"
        },
        "id": "kvFCerGXNfJ0",
        "outputId": "2fa3a819-1abf-4dba-c944-f261dbe39252"
      },
      "execution_count": null,
      "outputs": [
        {
          "output_type": "stream",
          "name": "stdout",
          "text": [
            "Top@[1] - có độ chính xác precison (P): [1.000000], recall (R): [0.125000]\n",
            "Top@[2] - có độ chính xác precison (P): [1.000000], recall (R): [0.250000]\n",
            "Top@[3] - có độ chính xác precison (P): [0.666667], recall (R): [0.250000]\n",
            "Top@[4] - có độ chính xác precison (P): [0.750000], recall (R): [0.375000]\n",
            "Top@[5] - có độ chính xác precison (P): [0.600000], recall (R): [0.375000]\n",
            "Top@[6] - có độ chính xác precison (P): [0.666667], recall (R): [0.500000]\n",
            "Top@[7] - có độ chính xác precison (P): [0.571429], recall (R): [0.500000]\n",
            "Top@[8] - có độ chính xác precison (P): [0.500000], recall (R): [0.500000]\n",
            "Top@[9] - có độ chính xác precison (P): [0.555556], recall (R): [0.625000]\n",
            "Top@[10] - có độ chính xác precison (P): [0.500000], recall (R): [0.625000]\n"
          ]
        }
      ]
    },
    {
      "cell_type": "markdown",
      "source": [
        "**Chúng ta thử dùng thư viện matplotlib để vẽ đường đồ thị thể hiện sự biến thiên của Precision và Recall với các giá trị (k) khác nhau**"
      ],
      "metadata": {
        "id": "auSCgQ3eX8DM"
      }
    },
    {
      "cell_type": "code",
      "source": [
        "# Định nghĩa trục (x) - giá trị k: từ 1 -> 10\n",
        "x_axis = [k for k in range(1, eval_range + 1)]\n",
        "\n",
        "# Khai báo ghi chú/nhãn cho trục x và trục y\n",
        "plt.xlabel('Giá trị top@k')\n",
        "plt.ylabel('Độ chính xác/độ nhậy')\n",
        "\n",
        "# Định nghĩa đường biến thiên độ chính xác (precision) - màu đỏ (c=r)\n",
        "plt.plot(x_axis, precisions, label='Precision', marker='^', c='r')\n",
        "\n",
        "# Định nghĩa đường biến thiên độ nhậy (recall) - màu xanh (c=b)\n",
        "plt.plot(x_axis, recalls, label='Recall', marker='o', c='b')\n",
        "\n",
        "# Hiển thị (labels) và chú thích cho các đường precision/recall trong đồ thị\n",
        "plt.legend()\n",
        "\n",
        "# Hiện đồ thị lên màn hình\n",
        "plt.show()"
      ],
      "metadata": {
        "colab": {
          "base_uri": "https://localhost:8080/",
          "height": 280
        },
        "id": "0yCNmso0YLJn",
        "outputId": "ed3c588d-14a3-4f2f-e252-f5ed8d022205"
      },
      "execution_count": null,
      "outputs": [
        {
          "output_type": "display_data",
          "data": {
            "text/plain": [
              "<Figure size 432x288 with 1 Axes>"
            ],
            "image/png": "[encoded data removed]"
          },
          "metadata": {
            "needs_background": "light"
          }
        }
      ]
    },
    {
      "cell_type": "markdown",
      "source": [
        "**Chúng ta thử dùng thư viện Scikit-Learn để vẽ đường cong (curve) Precision-Recall thể hiện sự tương quan giữa độ chính xác/độ nhậy của mô hình**"
      ],
      "metadata": {
        "id": "J43U7W65XQ4r"
      }
    },
    {
      "cell_type": "code",
      "source": [
        "# Dùng hàm PrecisionRecallDisplay để vẽ đường cong tương quan giữa Precision-Recall\n",
        "disp = PrecisionRecallDisplay(precision=precisions, recall=recalls)\n",
        "\n",
        "# Hiện biểu đồ Precision-Recall curve ra màn hình\n",
        "disp.plot()"
      ],
      "metadata": {
        "colab": {
          "base_uri": "https://localhost:8080/",
          "height": 297
        },
        "id": "s-fo-Rh2Vpj5",
        "outputId": "c5d23f41-a4a5-4153-e60c-b31d4aa475e2"
      },
      "execution_count": null,
      "outputs": [
        {
          "output_type": "execute_result",
          "data": {
            "text/plain": [
              "<sklearn.metrics._plot.precision_recall_curve.PrecisionRecallDisplay at 0x7febeb720f50>"
            ]
          },
          "metadata": {},
          "execution_count": 7
        },
        {
          "output_type": "display_data",
          "data": {
            "text/plain": [
              "<Figure size 432x288 with 1 Axes>"
            ],
            "image/png": "[encoded data removed]"
          },
          "metadata": {
            "needs_background": "light"
          }
        }
      ]
    },
    {
      "cell_type": "markdown",
      "source": [
        "**Chúng ta viết hàm xác định độ chính xác R-Precision cho danh sách kết quả trả về [search_results]. Chúng ta biết R = [total_relevant_docs]**"
      ],
      "metadata": {
        "id": "pUoKBMZZUsdT"
      }
    },
    {
      "cell_type": "code",
      "source": [
        "# Viết hàm tính độ chính xác R-Precision\n",
        "def calculate_r_precision():\n",
        "  total_relevant_docs_at_R = len(np.where(labels[:k] == 1)[0])\n",
        "  return total_relevant_docs_at_R / total_relevant_docs\n",
        "\n",
        "r_precision = calculate_r_precision()\n",
        "print(f'Độ chính xác R-Precision của mô hình là: [{r_precision}]')"
      ],
      "metadata": {
        "colab": {
          "base_uri": "https://localhost:8080/"
        },
        "id": "1DN1nI32VD8z",
        "outputId": "24e71f06-c419-4951-d3e5-449de68ab97a"
      },
      "execution_count": null,
      "outputs": [
        {
          "output_type": "stream",
          "name": "stdout",
          "text": [
            "Độ chính xác R-Precision của mô hình là: [0.625]\n"
          ]
        }
      ]
    }
  ]
}