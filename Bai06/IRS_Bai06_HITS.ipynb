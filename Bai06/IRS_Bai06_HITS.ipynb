{
  "nbformat": 4,
  "nbformat_minor": 0,
  "metadata": {
    "colab": {
      "provenance": []
    },
    "kernelspec": {
      "name": "python3",
      "display_name": "Python 3"
    },
    "language_info": {
      "name": "python"
    }
  },
  "cells": [
    {
      "cell_type": "markdown",
      "source": [
        "**Import các thư viện cần thiết**"
      ],
      "metadata": {
        "id": "Gys4-q9KFsK0"
      }
    },
    {
      "cell_type": "code",
      "execution_count": null,
      "metadata": {
        "id": "EWt0soP9FgwS"
      },
      "outputs": [],
      "source": [
        "%matplotlib inline\n",
        "import networkx as nx\n",
        "import matplotlib.pyplot as plt"
      ]
    },
    {
      "cell_type": "markdown",
      "source": [
        "**Chúng ta sẽ dùng thư viện networkx để khởi tạo một cấu trúc đồ thị gồm 4 websites (A, B, C và D) có các mối quan hệ trích dẫn/được trích dẫn với nhau như bên dưới**"
      ],
      "metadata": {
        "id": "Owc841K32xrY"
      }
    },
    {
      "cell_type": "code",
      "source": [
        "website_graph = nx.DiGraph()\n",
        "website_graph.add_edges_from([\n",
        "\t('A', 'B'),\n",
        "\t('A', 'C'),\n",
        "\t('D', 'C'),\n",
        "\t('D', 'C'),\n",
        "\t('C', 'A'),\n",
        "\t('B', 'C')\n",
        "])"
      ],
      "metadata": {
        "id": "4EHRzxNhFwdK"
      },
      "execution_count": null,
      "outputs": []
    },
    {
      "cell_type": "markdown",
      "source": [
        "**Trực quan hóa đồ thị các websites: A, B, C và D được xây dựng trong [website_graph]**"
      ],
      "metadata": {
        "id": "7glFe9R93CB9"
      }
    },
    {
      "cell_type": "code",
      "source": [
        "layout = nx.kamada_kawai_layout(website_graph)\n",
        "nx.draw(website_graph, layout, node_size=1000)\n",
        "nx.draw_networkx_labels(website_graph, pos=layout, font_size=25, font_color='white')"
      ],
      "metadata": {
        "colab": {
          "base_uri": "https://localhost:8080/",
          "height": 392
        },
        "id": "JAsd2l29G3HR",
        "outputId": "2a4db26a-a848-4b5d-e5bf-cc515b6f0bbe"
      },
      "execution_count": null,
      "outputs": [
        {
          "output_type": "execute_result",
          "data": {
            "text/plain": [
              "{'A': Text(0.6003195479979029, 0.2387636323036129, 'A'),\n",
              " 'B': Text(-0.11629178858989987, 0.8958618762327842, 'B'),\n",
              " 'C': Text(-0.1355033084567138, -0.13462550853639718, 'C'),\n",
              " 'D': Text(-0.34852445095128926, -1.0, 'D')}"
            ]
          },
          "metadata": {},
          "execution_count": 3
        },
        {
          "output_type": "display_data",
          "data": {
            "text/plain": [
              "<Figure size 432x288 with 1 Axes>"
            ],
            "image/png": "[encoded data removed]"
          },
          "metadata": {}
        }
      ]
    },
    {
      "cell_type": "markdown",
      "source": [
        "**Tiến hành cài đặt thuật toán HITS (Hyper-link Included Topic Search)**[*].\n",
        "\n",
        "[*]Kleinberg, J. M. (1999). Authoritative sources in a hyperlinked environment. Journal of the ACM (JACM), 46(5), 604-632.\n",
        "\n",
        "**Trong đó chúng ta có công thức cập nhật trọng số \"Hub\" và \"Authority\" của một nút như sau:**\n",
        "*   **Trọng số \"Hub\":**\n",
        "# $$h(x) \\leftarrow \\sum_{x \\mapsto y}{a(y)}$$\n",
        "*   **Trọng số \"Authority\":**\n",
        "# $$a(x) \\leftarrow \\sum_{y \\mapsto x}{h(y)}$$\n",
        "\n"
      ],
      "metadata": {
        "id": "TwTjeDWutPcw"
      }
    },
    {
      "cell_type": "code",
      "source": [
        "def HITS_Algorithm(web_graph, max_iterations, tolarance=1.0e-8):\n",
        "    \n",
        "    print('Bắt đầu tính toán trọng số \"Hub\"/\"Authority\" của các website/webpage trong [web_graph]')\n",
        "    \n",
        "    # Cấu trúc dictionary để lưu trữ trọng số \"hub\" của một nút (x), h(x).\n",
        "    # Cấu trúc có dạng: <key: tên_nút, value: hub_score>, ví dụ: {'A': 0.25, 'B':0.25, v.v.}\n",
        "    # Ban đầu chúng ta sẽ gán giá trị hub_scores cho tất cả các nút trong đồ thị giá trị: 1/n (với n là tổng số nút)\n",
        "    hub_scores = dict.fromkeys(website_graph, 1.0 / website_graph.number_of_nodes())\n",
        "\n",
        "    # Tương tự như \"hub\" - chúng ta cũng có một dictionary để lưu trữ trọng số \"authoriry\" của một nút (x), hay: a(x)\n",
        "    # Ví dụ: {'A': 0.75, 'B':0.35, v.v.}\n",
        "    # Ban đầu tất cả các nút sẽ được gán giá trị 0\n",
        "    authority_scores = dict.fromkeys(website_graph, 0)\n",
        "    \n",
        "    # Lặp quá trình tính toán h(x) và a(x) với số lần lặp [max_iterations]\n",
        "    for iter in range(max_iterations):\n",
        "\n",
        "        # Lưu trữ lại điểm hub_scores của các nút sau mỗi lần lặp vào [last_hub_scores]\n",
        "        last_hub_scores = hub_scores\n",
        "        \n",
        "        # Khởi tạo lại trọng số \"hub\" của tất cả các nút bằng 0 - chuẩn bị cho quá trình tính toán mới\n",
        "        hub_scores = dict.fromkeys(last_hub_scores.keys(), 0)\n",
        "\n",
        "        # Khởi tạo lại trọng số \"authority\" của tất cả các nút bằng 0 - chuẩn bị cho quá trình tính toán mới\n",
        "        authority_scores = dict.fromkeys(last_hub_scores.keys(), 0)\n",
        "        \n",
        "        # Tiến hành cập nhật trọng số \"authority\" của tất cả các nút \n",
        "        \n",
        "        # Duyệt qua tất cả các nút\n",
        "        for node in hub_scores.keys():\n",
        "            # Lấy ra danh sách các hàng xóm (out-neighbors) của một nút\n",
        "            # Ví dụ: A->B, A->C -> neighbors của A là [B, C]\n",
        "            for neighbor in website_graph[node]:\n",
        "                # Cập nhật lại trọng số \"authority\" của các nút hàng xóm\n",
        "                # Theo quy tắc a(x) <- h (của các nút hàng xóm - trích dẫn đến x)\n",
        "                authority_scores[neighbor] += last_hub_scores[node]\n",
        "\n",
        "        # Duyệt qua tất cả các nút\n",
        "        for node in hub_scores.keys():\n",
        "            # Lấy ra danh sách các hàng xóm (out-neighbors) của một nút\n",
        "            for neighbor in website_graph[node]:\n",
        "                # Cập nhật lại trọng số \"authority\" của các nút hàng xóm\n",
        "                # Theo quy tắc h(x) <- a (của các nút hàng xóm - được x trích dẫn)\n",
        "                hub_scores[node] += authority_scores[neighbor]\n",
        "        \n",
        "        # Quá trình bình thường hóa (normalize) các giá trị \"hub\"\n",
        "        # xác định alpha_hub = 1.0 / điểm hub_score cao nhất\n",
        "        alpha_hub = 1.0 / max(hub_scores.values())\n",
        "        for node in hub_scores:\n",
        "            hub_scores[node] *= alpha_hub\n",
        "        \n",
        "        # Quá trình bình thường hóa (normalize) các giá trị \"authority\"\n",
        "        # xác định alpha_authority = 1.0 / điểm authority_score cao nhất\n",
        "        alpha_authority = 1.0 / max(authority_scores.values())\n",
        "        for node in authority_scores.keys():\n",
        "            authority_scores[node] *= alpha_authority\n",
        "\n",
        "        # Chúng ta kiểm tra xem độ lệch giá trị \"hub\"/\"authority\" của lần lặp trước với lần lặp hiện tại\n",
        "        # Nếu tổng độ lệch của các nút không cao hơn 1 ngưỡng [tolarance] thì dừng -> mô hình đã bão hòa/đạt ngưỡng ổn định\n",
        "        delta = sum([abs(hub_scores[node] - last_hub_scores[node]) for node in hub_scores])\n",
        "        print(f' - Số lần lặp [{iter}], delta = [{delta:6f}]')\n",
        "        if delta < tolarance:\n",
        "            print(f'Mô hình đạt ngưỡng bão hòa tại vòng lặp thứ: [{iter}]')\n",
        "            break\n",
        "    print('Hoàn tất !\\n')\n",
        "    return (hub_scores, authority_scores)"
      ],
      "metadata": {
        "id": "D8TtUtiBHT2H"
      },
      "execution_count": null,
      "outputs": []
    },
    {
      "cell_type": "markdown",
      "source": [
        "**Tiến hành chạy thuật toán HITS với đồ thị website [website_graph] được khai báo bên trên**"
      ],
      "metadata": {
        "id": "9MKP8CZztOxR"
      }
    },
    {
      "cell_type": "code",
      "source": [
        "# Chọn số lần lặp tối đa cho thuật toán\n",
        "MAX_ITERATION = 20\n",
        "\n",
        "# Tiến hành chạy thuật toán HITS để xác định trọng số \"hub\" và \"authority\" cho tất cả các nút có trong [website_graph]\n",
        "(hub_scores, authority_scores) = HITS_Algorithm(website_graph, MAX_ITERATION)\n",
        "for node in hub_scores.keys():\n",
        "  print('Nút [{}], trọng số hub: [{:.6f}], authority: [{:.6f}].'.format(node, hub_scores[node], authority_scores[node]))"
      ],
      "metadata": {
        "colab": {
          "base_uri": "https://localhost:8080/"
        },
        "id": "YptdM9jYHZs2",
        "outputId": "14b8beb4-c0e0-441a-ecbd-7e4ad1ca7ed8"
      },
      "execution_count": null,
      "outputs": [
        {
          "output_type": "stream",
          "name": "stdout",
          "text": [
            "Bắt đầu tính toán trọng số \"Hub\"/\"Authority\" của các website/webpage trong [web_graph]\n",
            " - Số lần lặp [0], delta = [1.750000]\n",
            " - Số lần lặp [1], delta = [0.250000]\n",
            " - Số lần lặp [2], delta = [0.062500]\n",
            " - Số lần lặp [3], delta = [0.016768]\n",
            " - Số lần lặp [4], delta = [0.004660]\n",
            " - Số lần lặp [5], delta = [0.001322]\n",
            " - Số lần lặp [6], delta = [0.000380]\n",
            " - Số lần lặp [7], delta = [0.000110]\n",
            " - Số lần lặp [8], delta = [0.000032]\n",
            " - Số lần lặp [9], delta = [0.000009]\n",
            " - Số lần lặp [10], delta = [0.000003]\n",
            " - Số lần lặp [11], delta = [0.000001]\n",
            " - Số lần lặp [12], delta = [0.000000]\n",
            " - Số lần lặp [13], delta = [0.000000]\n",
            " - Số lần lặp [14], delta = [0.000000]\n",
            " - Số lần lặp [15], delta = [0.000000]\n",
            "Mô hình đạt ngưỡng bão hòa tại vòng lặp thứ: [15]\n",
            "Hoàn tất !\n",
            "\n",
            "Nút [A], trọng số hub: [1.000000], authority: [0.000000].\n",
            "Nút [B], trọng số hub: [0.707107], authority: [0.414214].\n",
            "Nút [C], trọng số hub: [0.000000], authority: [1.000000].\n",
            "Nút [D], trọng số hub: [0.707107], authority: [0.000000].\n"
          ]
        }
      ]
    }
  ]
}