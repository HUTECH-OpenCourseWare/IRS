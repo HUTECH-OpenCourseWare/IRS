{
  "nbformat": 4,
  "nbformat_minor": 0,
  "metadata": {
    "colab": {
      "provenance": []
    },
    "kernelspec": {
      "name": "python3",
      "display_name": "Python 3"
    },
    "language_info": {
      "name": "python"
    }
  },
  "cells": [
    {
      "cell_type": "markdown",
      "source": [
        "**Import các thư viện cần thiết**"
      ],
      "metadata": {
        "id": "2S4lFu7QJiza"
      }
    },
    {
      "cell_type": "code",
      "execution_count": 1,
      "metadata": {
        "id": "k0w3QLCfJduy"
      },
      "outputs": [],
      "source": [
        "import math\n",
        "import numpy as np\n",
        "from scipy.spatial import distance\n",
        "from sklearn.feature_extraction.text import TfidfVectorizer"
      ]
    },
    {
      "cell_type": "markdown",
      "source": [
        "**Tập dữ liệu văn bản/tài liệu mẫu và truy vấn**"
      ],
      "metadata": {
        "id": "U5gMGwwYJvRw"
      }
    },
    {
      "cell_type": "code",
      "source": [
        "# Tập văn bản/tài liệu (D)\n",
        "docs = [\n",
        "    'data mining is awesome. data mining helps to find frequent itemsets in database.',\n",
        "    'information retrieval is cool. information retrieval helps to search data quickly.',\n",
        "    'natural language processing is interesting. it helps computer to better understand text.'\n",
        "];\n",
        "\n",
        "# Truy vấn (q)\n",
        "query = 'information retrieval'\n",
        "\n",
        "# Để cho tiện lợi trong việc xử lý chúng ta sẽ gán câu truy vấn là 1 tài liệu cuối cùng\n",
        "docs.append(query)\n",
        "\n",
        "doc_len = len(docs)\n"
      ],
      "metadata": {
        "id": "PwNk9GlIJtxa"
      },
      "execution_count": 2,
      "outputs": []
    },
    {
      "cell_type": "markdown",
      "source": [
        "**Thực hiện biến đổi các tài liệu/văn bản về dạng các TF-IDF vectors bằng cách dùng thư viện Scikit-Learn - TfidfVectorizer**"
      ],
      "metadata": {
        "id": "jpJu_8cyJ8YR"
      }
    },
    {
      "cell_type": "code",
      "source": [
        "# Khởi tạo đối tượng TfidfVectorizer\n",
        "vectorizer = TfidfVectorizer()\n",
        "\n",
        "# Tiến hành chuyển đổi các tài liệu/văn bản và truy vấn về dạng các vector TF-IDF\n",
        "# [tfidf_matrix] là một ma trận ở dạng thưa (sparse) - chỉ lưu các vị trí có giá trị khác 0  - chứa trọng số TF-IDF của các tài liệu/văn bản\n",
        "tfidf_matrix = vectorizer.fit_transform(docs)\n",
        "\n",
        "# Chúng ta tiến hành chuyển ma trận tfidf_matrix về dạng đầy đủ\n",
        "tfidf_matrix = tfidf_matrix.todense()\n",
        "\n",
        "# Lấy danh sách tập từ vựng\n",
        "vocab = vectorizer.get_feature_names_out()\n",
        "vocab_size = len(vocab)\n",
        "print('Kích thước tập từ vựng: [{}]'.format(vocab_size))\n",
        "print('Tập từ vựng (V):')\n",
        "print(vocab)\n",
        "\n",
        "# Chuyển đổi  ma trận (numpy) về dạng list\n",
        "tfidf_matrix_list = tfidf_matrix.tolist()\n",
        "\n",
        "# TFIDF encode của truy vấn (q) là tài liệu cuối cùng\n",
        "# Kết quả tính TF-IDF của thư viện Scikit-Learn sẽ hơi khác với cách tính truyền thống\n",
        "# vì IDF của Scikit-Learn sẽ là: idf(t) = loge [ (1+n) / ( 1 + df ) ] + 1\n",
        "# sau đó toàn bộ ma trận TF-IDF sẽ được bình thường hoá lại với (norm - L2)\n",
        "# tuy nhiên kết quả cuối cùng cũng sẽ không thay đổi\n",
        "query_tfidf_encoded_vector = tfidf_matrix_list[doc_len-1]\n",
        "print(query_tfidf_encoded_vector)\n",
        "\n",
        "# Xóa query đã được mã hóa thành dạng tfidf vector ra khỏi tfidf_matrix_list\n",
        "del tfidf_matrix_list[doc_len-1]"
      ],
      "metadata": {
        "colab": {
          "base_uri": "https://localhost:8080/"
        },
        "id": "j8DFKIX_KKMB",
        "outputId": "41297299-ea78-448b-d4b2-02ed1f574c6c"
      },
      "execution_count": 3,
      "outputs": [
        {
          "output_type": "stream",
          "name": "stdout",
          "text": [
            "Kích thước tập từ vựng: [25]\n",
            "Tập từ vựng (V):\n",
            "['awesome' 'better' 'computer' 'cool' 'data' 'database' 'find' 'frequent'\n",
            " 'helps' 'in' 'information' 'interesting' 'is' 'it' 'itemsets' 'language'\n",
            " 'mining' 'natural' 'processing' 'quickly' 'retrieval' 'search' 'text'\n",
            " 'to' 'understand']\n",
            "[0.0, 0.0, 0.0, 0.0, 0.0, 0.0, 0.0, 0.0, 0.0, 0.0, 0.7071067811865475, 0.0, 0.0, 0.0, 0.0, 0.0, 0.0, 0.0, 0.0, 0.0, 0.7071067811865475, 0.0, 0.0, 0.0, 0.0]\n"
          ]
        }
      ]
    },
    {
      "cell_type": "markdown",
      "source": [
        "**Tìm danh sách các tài liệu liên quan đến truy vấn (Tích vô hướng, khoảng cách Euclid và Tương đồng cosine)**"
      ],
      "metadata": {
        "id": "L7jhPLt1Ne4V"
      }
    },
    {
      "cell_type": "code",
      "source": [
        "# Duyệt qua danh sách các tài liệu/văn bản (đã mã hóa ở dạng  vectors)\n",
        "for doc_idx, doc_tfidf_encoded_vector in enumerate(tfidf_matrix_list):\n",
        "\n",
        "  # Tính tích vô hướng giữa hai vectors tài liệu và truy vấn\n",
        "  dot_product_sim = np.dot(query_tfidf_encoded_vector, doc_tfidf_encoded_vector)\n",
        "\n",
        "  # Tính khoảng cách Euclid giữa hai vectors tài liệu và truy vấn\n",
        "  ed = distance.euclidean(query_tfidf_encoded_vector, doc_tfidf_encoded_vector)\n",
        "  \n",
        "  # Tính tương đồ cosine giữa hai vectors tài liệu và truy vấn\n",
        "  cs = 1 - distance.cosine(query_tfidf_encoded_vector, doc_tfidf_encoded_vector)\n",
        "\n",
        "  print('Tài liệu: [{}], tương đồng (dot product): [{:.6f}]'.format(doc_idx, dot_product_sim))\n",
        "  print('Tài liệu: [{}], tương đồng (khoảng cách Euclid): [{:.6f}]'.format(doc_idx, ed))\n",
        "  print('Tài liệu: [{}], tương đồng (Tương đồng cosine): [{:.6f}]'.format(doc_idx, cs))\n",
        "  print('---')"
      ],
      "metadata": {
        "id": "-wgeGLVjNgPs",
        "colab": {
          "base_uri": "https://localhost:8080/"
        },
        "outputId": "1a509048-162b-4bb2-cb82-0078c1a61c8b"
      },
      "execution_count": 4,
      "outputs": [
        {
          "output_type": "stream",
          "name": "stdout",
          "text": [
            "Tài liệu: [0], tương đồng (dot product): [0.000000]\n",
            "Tài liệu: [0], tương đồng (khoảng cách Euclid): [1.414214]\n",
            "Tài liệu: [0], tương đồng (Tương đồng cosine): [0.000000]\n",
            "---\n",
            "Tài liệu: [1], tương đồng (dot product): [0.711735]\n",
            "Tài liệu: [1], tương đồng (khoảng cách Euclid): [0.759296]\n",
            "Tài liệu: [1], tương đồng (Tương đồng cosine): [0.711735]\n",
            "---\n",
            "Tài liệu: [2], tương đồng (dot product): [0.000000]\n",
            "Tài liệu: [2], tương đồng (khoảng cách Euclid): [1.414214]\n",
            "Tài liệu: [2], tương đồng (Tương đồng cosine): [0.000000]\n",
            "---\n"
          ]
        }
      ]
    }
  ]
}