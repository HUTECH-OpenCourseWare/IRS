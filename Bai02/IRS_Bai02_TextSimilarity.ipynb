{
  "nbformat": 4,
  "nbformat_minor": 0,
  "metadata": {
    "colab": {
      "provenance": []
    },
    "kernelspec": {
      "name": "python3",
      "display_name": "Python 3"
    },
    "language_info": {
      "name": "python"
    }
  },
  "cells": [
    {
      "cell_type": "markdown",
      "source": [
        "**Import các thư viện cần thiết**"
      ],
      "metadata": {
        "id": "5MomDUjChhk_"
      }
    },
    {
      "cell_type": "code",
      "execution_count": 1,
      "metadata": {
        "id": "QtNzappnMa91"
      },
      "outputs": [],
      "source": [
        "import math\n",
        "import numpy as np\n",
        "from scipy.spatial import distance"
      ]
    },
    {
      "cell_type": "markdown",
      "source": [
        "**Tập dữ liệu văn bản/tài liệu mẫu và truy vấn**"
      ],
      "metadata": {
        "id": "z4kluw4CiOJ6"
      }
    },
    {
      "cell_type": "code",
      "source": [
        "# Tập văn bản/tài liệu (D)\n",
        "docs = [\n",
        "    'data mining is awesome',\n",
        "    'information retrieval is awesome',\n",
        "    'natural language processing is awesome'\n",
        "];\n",
        "\n",
        "doc_len = len(docs)\n",
        "\n",
        "# Truy vấn (q)\n",
        "query = 'information retrieval'\n",
        "\n",
        "# Để cho tiện lợi trong việc xử lý chúng ta sẽ gán câu truy vấn là 1 tài liệu cuối cùng\n",
        "docs.append(query)"
      ],
      "metadata": {
        "id": "sK0wEvEeh9D8"
      },
      "execution_count": 2,
      "outputs": []
    },
    {
      "cell_type": "markdown",
      "source": [
        "**Đọc từng tài liệu/văn bản và thực hiện tách từ - gán id cho các token và xây dựng tập từ vựng**"
      ],
      "metadata": {
        "id": "Y_WBsQHyiYm6"
      }
    },
    {
      "cell_type": "code",
      "source": [
        "# Cấu trúc dữ liệu dạng dictionary -> <key: id, value: token>\n",
        "id_token_dict = {}\n",
        "\n",
        "# Cấu trúc dữ liệu dạng dictionary -> <key: token, value: id>\n",
        "token_id_dict = {}\n",
        "\n",
        "# Cấu trúc dữ liệu dạng dictionary -> <key: doc_id, value: [id_token_xuất_hiện_1, id_token_xuất_hiện_2, v.v. ]>\n",
        "doc_id_token_ids_dict = {}\n",
        "\n",
        "# Gán id của token đầu tiên là [0]\n",
        "token_id = 0\n",
        "\n",
        "# Duyệt qua từng tài liệu/văn bản có trong mảng\n",
        "for doc_idx, doc in enumerate(docs):\n",
        "  # Tách các từ riêng biệt trong tài liệu/văn bản bằng khoảng trắng \" \"\n",
        "  tokens = doc.split(' ')\n",
        "  \n",
        "  # Khởi tạo danh sách các token_ids xuất hiện trong tài liệu/văn bản\n",
        "  doc_token_ids = []\n",
        "\n",
        "  # Đọc qua từng token trong mỗi tài liệu/văn bản\n",
        "  for token in tokens:\n",
        "    # Kiểm tra chiều dài từ khóa > 0\n",
        "    if len(token) > 0:\n",
        "      if token not in token_id_dict.keys():\n",
        "        token_id_dict[token] = token_id\n",
        "        id_token_dict[token_id] = token\n",
        "        # Tăng id của token tiếp theo lên 1\n",
        "        token_id+=1\n",
        "\n",
        "      doc_token_ids.append(token_id_dict[token])\n",
        "  doc_id_token_ids_dict[doc_idx] = doc_token_ids\n",
        "\n",
        "# Xuất ra màn hình kích thước tập từ vựng (vocabulary)\n",
        "vocab_size = len(id_token_dict.keys())\n",
        "print('Kích thước tập từ vựng: [{}]'.format(vocab_size))\n",
        "print('Tập từ vựng (V):')\n",
        "print(id_token_dict)"
      ],
      "metadata": {
        "colab": {
          "base_uri": "https://localhost:8080/"
        },
        "id": "2GGA_U_4h3dL",
        "outputId": "f8ea5c7d-6337-4d93-f387-b5b3b66172e2"
      },
      "execution_count": 3,
      "outputs": [
        {
          "output_type": "stream",
          "name": "stdout",
          "text": [
            "Kích thước tập từ vựng: [9]\n",
            "Tập từ vựng (V):\n",
            "{0: 'data', 1: 'mining', 2: 'is', 3: 'awesome', 4: 'information', 5: 'retrieval', 6: 'natural', 7: 'language', 8: 'processing'}\n"
          ]
        }
      ]
    },
    {
      "cell_type": "markdown",
      "source": [
        "**Chuyển đổi các tài liệu/văn bản và câu truy vấn về dạng  encoded vector**"
      ],
      "metadata": {
        "id": "L9h-7CT5iutI"
      }
    },
    {
      "cell_type": "code",
      "source": [
        "# Cấu trúc dữ liệu dạng dictionary -> <key: doc_id, value: encoded_vector>\n",
        "doc_id_encoded_vector_dict = {}\n",
        "\n",
        "# Duyệt qua từng tài liệu/văn bản có trong mảng\n",
        "for doc_idx in doc_id_token_ids_dict.keys():\n",
        "  # Khởi tạo một vector có số chiều = vocab_size và các giá trị [0] -> [0, 0, 0, ...]\n",
        "  encoded_vector = np.zeros(vocab_size)\n",
        "\n",
        "  # Danh sách các token_ids xuất hiện trong tài liệu/văn bản\n",
        "  doc_token_ids = doc_id_token_ids_dict[doc_idx]\n",
        "  \n",
        "  # Duyệt qua từng token xuất hiện trong tài liệu/văn bản\n",
        "  for token_id in doc_token_ids:\n",
        "    # Gán vị trí - cột/chiều thứ (i) của vector giá trị 1 - tương đương với vị trí xuất hiện của token\n",
        "    encoded_vector[token_id] = 1\n",
        "  doc_id_encoded_vector_dict[doc_idx] = encoded_vector\n",
        "\n",
        "#  encode của truy vấn (q) là tài liệu cuối cùng\n",
        "query_encoded_vector = doc_id_encoded_vector_dict[doc_len]\n",
        "\n",
        "# Xóa query đã được mã hóa thành dạng  vector ra khỏi danh sách\n",
        "del doc_id_encoded_vector_dict[doc_len]\n",
        "\n",
        "print('Truy vấn được chuyển đổi về dạng  vector:')\n",
        "print(query_encoded_vector)"
      ],
      "metadata": {
        "colab": {
          "base_uri": "https://localhost:8080/"
        },
        "id": "JWoKBnVwit8R",
        "outputId": "6ddc65d9-0c17-4c3d-8a71-88c12c94fa6a"
      },
      "execution_count": 4,
      "outputs": [
        {
          "output_type": "stream",
          "name": "stdout",
          "text": [
            "Truy vấn được chuyển đổi về dạng  vector:\n",
            "[0. 0. 0. 0. 1. 1. 0. 0. 0.]\n"
          ]
        }
      ]
    },
    {
      "cell_type": "markdown",
      "source": [
        "**Tìm danh sách các tài liệu liên quan đến truy vấn (Tích vô hướng)**\n",
        "\n",
        "**Để xác định tích vô hướng của 2 vectors ($\\vec{a}$) và $\\vec{b})$ cùng có số chiều là ($T$), hay: $\\vec{a}·\\vec{b}$, ta làm như sau:**\n",
        "$$\\vec{a}·\\vec{b}=\\sum_{i=1}^{T}a_{i}*b_{i} = (a_{1}*b_{1})+(a_{2}*b_{2})+...+(a_{T}*b_{T})$$"
      ],
      "metadata": {
        "id": "XIVBY4X2kgMC"
      }
    },
    {
      "cell_type": "code",
      "source": [
        "# Viết hàm tính tính vô hướng của 2 vectors\n",
        "def dot_product(a, b):\n",
        "  result = 0;\n",
        "  for (ai, bi) in zip(a, b):\n",
        "    result += ai * bi\n",
        "  return result"
      ],
      "metadata": {
        "id": "-N05QZ-dol1s"
      },
      "execution_count": 5,
      "outputs": []
    },
    {
      "cell_type": "code",
      "source": [
        "# Duyệt qua danh sách các tài liệu/văn bản (đã mã hóa ở dạng  vectors)\n",
        "for doc_idx in doc_id_encoded_vector_dict.keys():\n",
        "  doc_encoded_vector = doc_id_encoded_vector_dict[doc_idx]\n",
        "  \n",
        "  # Tính tích vô hướng giữa hai vectors tài liệu và truy vấn\n",
        "  dot_product_sim = dot_product(query_encoded_vector, doc_encoded_vector)\n",
        "  \n",
        "  # Hoặc dùng thư viện numpy -> numpy.dot\n",
        "  #dot_product_sim = np.dot(query_encoded_vector, doc_encoded_vector)\n",
        "  \n",
        "  print('Tài liệu: [{}], tương đồng (dot product): [{}]'.format(doc_idx, dot_product_sim))"
      ],
      "metadata": {
        "colab": {
          "base_uri": "https://localhost:8080/"
        },
        "id": "vkg2Hzejkek7",
        "outputId": "ac07fcb0-30a0-4be9-b14c-5b384a56a3b1"
      },
      "execution_count": 6,
      "outputs": [
        {
          "output_type": "stream",
          "name": "stdout",
          "text": [
            "Tài liệu: [0], tương đồng (dot product): [0.0]\n",
            "Tài liệu: [1], tương đồng (dot product): [2.0]\n",
            "Tài liệu: [2], tương đồng (dot product): [0.0]\n"
          ]
        }
      ]
    },
    {
      "cell_type": "markdown",
      "source": [
        "**Tìm danh sách các tài liệu liên quan đến truy vấn (Khoảng cách Euclid)**\n",
        "\n",
        "**Để xác định khoảng cách Euclid của 2 vectors ($\\vec{a}$) và $\\vec{b})$, ký hiệu: $ED(\\vec{a},\\vec{b})$ ta làm như sau:**\n",
        "\n",
        "$$ED(\\vec{a},\\vec{b})=\\sqrt{\\sum_{i=1}^{T}(a_{i}-b_{i})^{2}} = \\sqrt{(a_{1}-b_{1})^{2}+(a_{2}-b_{2})^{2}+...+(a_{T}-b_{T})^{2}}$$"
      ],
      "metadata": {
        "id": "-BOeYQ8Nkvtb"
      }
    },
    {
      "cell_type": "code",
      "source": [
        "# Viết hàm tính khoảng cách Euclid của 2 vectors\n",
        "def euclid_distance(a, b):\n",
        "  result = 0;\n",
        "  for (ai, bi) in zip(a, b):\n",
        "    result += (ai - bi)**2\n",
        "  return math.sqrt(result)"
      ],
      "metadata": {
        "id": "T8zR5PiVpZk5"
      },
      "execution_count": 7,
      "outputs": []
    },
    {
      "cell_type": "code",
      "source": [
        "# Duyệt qua danh sách các tài liệu/văn bản (đã mã hóa ở dạng  vectors)\n",
        "for doc_idx in doc_id_encoded_vector_dict.keys():\n",
        "  doc_encoded_vector = doc_id_encoded_vector_dict[doc_idx]\n",
        "  \n",
        "  # Tính khoảng cách Euclid giữa hai vectors tài liệu và truy vấn\n",
        "  ed = euclid_distance(query_encoded_vector, doc_encoded_vector)\n",
        "  \n",
        "  # Hoặc dùng thư viện scipy distance -> distance.euclidean\n",
        "  #ed = distance.euclidean(query_encoded_vector, doc_encoded_vector)\n",
        "\n",
        "  print('Tài liệu: [{}], tương đồng (khoảng cách Euclid): [{:.6f}]'.format(doc_idx, ed))"
      ],
      "metadata": {
        "colab": {
          "base_uri": "https://localhost:8080/"
        },
        "id": "IVrPtA6wqc6X",
        "outputId": "14cc9458-0d02-4425-e6c3-1a213b5ed87b"
      },
      "execution_count": 8,
      "outputs": [
        {
          "output_type": "stream",
          "name": "stdout",
          "text": [
            "Tài liệu: [0], tương đồng (khoảng cách Euclid): [2.449490]\n",
            "Tài liệu: [1], tương đồng (khoảng cách Euclid): [1.414214]\n",
            "Tài liệu: [2], tương đồng (khoảng cách Euclid): [2.645751]\n"
          ]
        }
      ]
    },
    {
      "cell_type": "markdown",
      "source": [
        "**Tìm danh sách các tài liệu liên quan đến truy vấn (Tương đồng cosine)**\n",
        "**Để xác định khoảng cách Euclid của 2 vectors ($\\vec{a}$) và $\\vec{b})$, cùng có số chiều là ($T$), ký hiệu: $CS(\\vec{a},\\vec{b})$ ta làm như sau:**\n",
        "\n",
        "$$CS(\\vec{a},\\vec{b})=\\frac{\\vec{a}·\\vec{b}}{\\|\\vec{a}\\|\\|\\vec{b}\\|}=\\frac{\\sum_{i=1}^{T}a_{i}*b_{i}}{\\sqrt{\\sum_{i=1}^{T}a_{i}^{2}}\\sqrt{\\sum_{i=1}^{T}b_{i}^{2}}}$$"
      ],
      "metadata": {
        "id": "Rxty8TV7yklD"
      }
    },
    {
      "cell_type": "code",
      "source": [
        "# Viết hàm tính tương đồng cosine giữa hai vectors\n",
        "def cosine_sim(a, b):\n",
        "  dot_prod = 0\n",
        "  magnitude_a = 0\n",
        "  magnitude_b = 0\n",
        "  for (ai, bi) in zip(a, b):\n",
        "    dot_prod += ai * bi\n",
        "    magnitude_a += ai ** 2\n",
        "    magnitude_b += bi ** 2\n",
        "  return dot_prod / (math.sqrt(magnitude_a) * math.sqrt(magnitude_b))\n",
        "\n",
        "# Hoặc dùng thư viện numpy với hàm dot và norm\n",
        "def cosine_sim_v2(a, b):\n",
        "  return np.dot(a, b) / (np.linalg.norm(a) * np.linalg.norm(b))"
      ],
      "metadata": {
        "id": "j2JaereCyilZ"
      },
      "execution_count": 9,
      "outputs": []
    },
    {
      "cell_type": "code",
      "source": [
        "# Duyệt qua danh sách các tài liệu/văn bản (đã mã hóa ở dạng  vectors)\n",
        "for doc_idx in doc_id_encoded_vector_dict.keys():\n",
        "  doc_encoded_vector = doc_id_encoded_vector_dict[doc_idx]\n",
        "  \n",
        "  # Tính tương đồ cosine giữa hai vectors tài liệu và truy vấn\n",
        "  cs = cosine_sim(query_encoded_vector, doc_encoded_vector)\n",
        "  \n",
        "  # Hoặc dùng thư viện scipy distance -> distance.cosine\n",
        "  # Vì là khoảng cách cosine nên để tính tương đồng cosine chúng ta sẽ lấy 1 - khoảng cách\n",
        "  #cs = 1 - distance.cosine(query_encoded_vector, doc_encoded_vector)\n",
        "\n",
        "  print('Tài liệu: [{}], tương đồng (Tương đồng cosine): [{:.6f}]'.format(doc_idx, cs))"
      ],
      "metadata": {
        "colab": {
          "base_uri": "https://localhost:8080/"
        },
        "id": "5xc_WseN00Mi",
        "outputId": "7b364220-d80a-4d0f-d277-af9af64ad342"
      },
      "execution_count": 10,
      "outputs": [
        {
          "output_type": "stream",
          "name": "stdout",
          "text": [
            "Tài liệu: [0], tương đồng (Tương đồng cosine): [0.000000]\n",
            "Tài liệu: [1], tương đồng (Tương đồng cosine): [0.707107]\n",
            "Tài liệu: [2], tương đồng (Tương đồng cosine): [0.000000]\n"
          ]
        }
      ]
    }
  ]
}