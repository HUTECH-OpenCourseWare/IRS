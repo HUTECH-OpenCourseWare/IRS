{
  "nbformat": 4,
  "nbformat_minor": 0,
  "metadata": {
    "colab": {
      "provenance": []
    },
    "kernelspec": {
      "name": "python3",
      "display_name": "Python 3"
    },
    "language_info": {
      "name": "python"
    }
  },
  "cells": [
    {
      "cell_type": "markdown",
      "source": [
        "**Import các thư viện cần thiết**"
      ],
      "metadata": {
        "id": "Ve2km8jOhqL3"
      }
    },
    {
      "cell_type": "code",
      "execution_count": 1,
      "metadata": {
        "id": "uKuYu-nehkan"
      },
      "outputs": [],
      "source": [
        "import os\n",
        "import re"
      ]
    },
    {
      "cell_type": "markdown",
      "source": [
        "**Lấy dữ liệu các tài liệu/văn bản mẫu từ**: https://github.com/HUTECH-OpenCourseWare/IRS.git"
      ],
      "metadata": {
        "id": "sJzeEkZuhvDm"
      }
    },
    {
      "cell_type": "code",
      "source": [
        "!git clone https://github.com/HUTECH-OpenCourseWare/IRS.git"
      ],
      "metadata": {
        "colab": {
          "base_uri": "https://localhost:8080/"
        },
        "id": "FLahCx4RhyJS",
        "outputId": "fb1e15bf-45ac-4433-f7bf-b2180d8a2ecd"
      },
      "execution_count": 2,
      "outputs": [
        {
          "output_type": "stream",
          "name": "stdout",
          "text": [
            "Cloning into 'IRS'...\n",
            "remote: Enumerating objects: 271, done.\u001b[K\n",
            "remote: Counting objects: 100% (271/271), done.\u001b[K\n",
            "remote: Compressing objects: 100% (271/271), done.\u001b[K\n",
            "remote: Total 271 (delta 0), reused 271 (delta 0), pack-reused 0\u001b[K\n",
            "Receiving objects: 100% (271/271), 441.48 KiB | 16.98 MiB/s, done.\n"
          ]
        }
      ]
    },
    {
      "cell_type": "markdown",
      "source": [
        "**Đọc dữ liệu, tiền xử lý làm sạch các tài liệu/văn bản từ các files chứa trong folder \"/content/IRS_Course/data/vnexpress/<chủ_đề>\"**"
      ],
      "metadata": {
        "id": "mvmK4krsh5OO"
      }
    },
    {
      "cell_type": "code",
      "source": [
        "topic = 'the-thao'\n",
        "data_root_dir_path = '/content/IRS/data/vnexpress/{}'.format(topic)\n",
        "docs = []\n",
        "for file_name in os.listdir(data_root_dir_path):\n",
        "  print('Đọc dữ liệu từ file: [{}]...'.format(file_name))\n",
        "  file_path = os.path.join(data_root_dir_path, file_name)\n",
        "  with open(file_path, 'r', encoding='utf-8') as f:\n",
        "    lines = []\n",
        "    # Đọc từng dòng trong file\n",
        "    for line in f:\n",
        "      # Chuyển đổi chuỗi về dạng chữ viết thường và xóa các khoảng trắng ở đầu/cuối mỗi dòng\n",
        "      line = line.lower().strip()\n",
        "      # Bỏ các dòng đọc được vào trong mảng lines\n",
        "      lines.append(line)\n",
        "  # Nối các dòng riêng biệt trong mảng lines thành một tài liệu/văn bản hoàn chỉnh\n",
        "  doc = \" \".join(lines)\n",
        "  # Làm sạch văn bản - xóa các ký tự đặc biệt, dấu câu, v.v.\n",
        "  clean_doc = re.sub('\\W+',' ', doc)\n",
        "  \n",
        "  docs.append(clean_doc)"
      ],
      "metadata": {
        "id": "nysaUgtjh_n3",
        "colab": {
          "base_uri": "https://localhost:8080/"
        },
        "outputId": "8315abe8-bba3-4765-c3b6-23194129970e"
      },
      "execution_count": 3,
      "outputs": [
        {
          "output_type": "stream",
          "name": "stdout",
          "text": [
            "Đọc dữ liệu từ file: [liverpool-nhi-bang-tai-champions-league-4530835.txt]...\n",
            "Đọc dữ liệu từ file: [cac-phuong-an-thay-quang-hai-o-aff-cup-4530113.txt]...\n",
            "Đọc dữ liệu từ file: [su-that-thuong-cua-golfer-18-tuoi-lan-dau-du-pga-tour-4530793.txt]...\n",
            "Đọc dữ liệu từ file: [tundra-esports-bo-tui-8-5-trieu-usd-khi-vo-dich-dota2-the-gioi-4530586.txt]...\n",
            "Đọc dữ liệu từ file: [tottenham-vao-vong-1-8-champions-league-4530837.txt]...\n",
            "Đọc dữ liệu từ file: [clb-huong-loi-neu-co-cau-thu-tien-sau-o-world-cup-2022-4530090.txt]...\n",
            "Đọc dữ liệu từ file: [dien-bien-dao-chieu-lien-tuc-o-bang-d-champions-league-4530851.txt]...\n",
            "Đọc dữ liệu từ file: [bayern-ba-lan-toan-thang-vong-bang-champions-league-4530836.txt]...\n",
            "Đọc dữ liệu từ file: [ronaldo-mat-ngoi-vua-phong-tap-tai-man-utd-4530011.txt]...\n",
            "Đọc dữ liệu từ file: [klopp-hay-danh-gia-liverpool-vao-cuoi-mua-4530373.txt]...\n",
            "Đọc dữ liệu từ file: [golfer-nghiep-du-so-mot-viet-nam-danh-duoi-ky-vong-o-apac-4530323.txt]...\n",
            "Đọc dữ liệu từ file: [cac-clb-tap-cuong-do-cao-truoc-them-vm-hanoi-midnight-4528553.txt]...\n",
            "Đọc dữ liệu từ file: [lewandowski-barca-can-tinh-quai-hon-4530375.txt]...\n",
            "Đọc dữ liệu từ file: [roma-thang-nho-hai-ban-trong-bon-phut-cuoi-4530374.txt]...\n",
            "Đọc dữ liệu từ file: [v-league-2023-se-co-var-4530012.txt]...\n",
            "Đọc dữ liệu từ file: [ronaldo-sa-sut-the-nao-tai-ngoai-hang-anh-4530828.txt]...\n",
            "Đọc dữ liệu từ file: [djokovic-lich-su-phan-xet-ai-gioi-nhat-4530474.txt]...\n",
            "Đọc dữ liệu từ file: [hom-nay-xac-dinh-them-hai-suat-vong-1-8-champions-league-4530786.txt]...\n",
            "Đọc dữ liệu từ file: [nhat-ban-chot-doi-hinh-du-world-cup-2022-4530703.txt]...\n",
            "Đọc dữ liệu từ file: [drx-lap-ky-tich-tai-worlds-2022-4530137.txt]...\n",
            "Đọc dữ liệu từ file: [haaland-nghi-tran-thu-hai-lien-tiep-4530833.txt]...\n",
            "Đọc dữ liệu từ file: [v-league-tiep-tuc-moi-trong-tai-thai-lan-malaysia-4530320.txt]...\n",
            "Đọc dữ liệu từ file: [bao-chan-thuong-de-doa-argentina-4530209.txt]...\n",
            "Đọc dữ liệu từ file: [alcaraz-muon-giu-vi-tri-so-mot-toi-het-nam-4530537.txt]...\n",
            "Đọc dữ liệu từ file: [nha-vo-dich-marathon-nga-sap-sau-vach-dich-4530762.txt]...\n",
            "Đọc dữ liệu từ file: [ronaldo-that-bai-khi-thu-ky-thuat-cua-antony-4530430.txt]...\n",
            "Đọc dữ liệu từ file: [bao-thai-lan-kiatisuk-gap-thu-thach-lon-nhat-o-hagl-4530241.txt]...\n",
            "Đọc dữ liệu từ file: [verstappen-lap-ky-luc-thang-chang-trong-mot-mua-giai-4530139.txt]...\n",
            "Đọc dữ liệu từ file: [doi-cua-johnson-vo-dich-chung-ket-lon-invitational-series-4530322.txt]...\n",
            "Đọc dữ liệu từ file: [10-ngoi-sao-lui-tan-sau-khi-toa-sang-o-world-cup-4530689.txt]...\n",
            "Đọc dữ liệu từ file: [pogba-khong-du-world-cup-2022-4530384.txt]...\n",
            "Đọc dữ liệu từ file: [bay-cap-vo-chong-lap-nhom-chay-vm-hanoi-midnight-4527409.txt]...\n",
            "Đọc dữ liệu từ file: [neville-thay-doi-quan-diem-ve-man-utd-4529949.txt]...\n",
            "Đọc dữ liệu từ file: [man-city-dat-gia-nhat-chau-au-4530583.txt]...\n",
            "Đọc dữ liệu từ file: [ibrahimovic-ligue-1-chang-con-gi-de-noi-4530363.txt]...\n",
            "Đọc dữ liệu từ file: [vff-thu-gan-680-ty-dong-tai-tro-trong-khoa-8-4530570.txt]...\n",
            "Đọc dữ liệu từ file: [ly-hoang-nam-thua-nguoc-o-giai-lon-nhat-su-nghiep-4530544.txt]...\n",
            "Đọc dữ liệu từ file: [barca-chia-tay-champions-league-bang-tran-thang-4530848.txt]...\n",
            "Đọc dữ liệu từ file: [nhung-cach-de-chay-zone-2-4530461.txt]...\n"
          ]
        }
      ]
    },
    {
      "cell_type": "markdown",
      "source": [
        "**Đọc từng tài liệu/văn bản và thực hiện tách từ**"
      ],
      "metadata": {
        "id": "kJmCTo84iqAP"
      }
    },
    {
      "cell_type": "code",
      "source": [
        "# Cấu trúc dữ liệu dạng dictionary -> <key: token, value: số_lần_xuất_hiện>\n",
        "token_feq_dict = {}\n",
        "\n",
        "# Duyệt qua từng tài liệu/văn bản có trong mảng\n",
        "for doc_idx, doc in enumerate(docs):\n",
        "  # Tách các từ riêng biệt trong tài liệu/văn bản bằng khoảng trắng \" \"\"\n",
        "  tokens = doc.split(' ')\n",
        "  # Đọc qua từng token trong mỗi tài liệu/văn bản\n",
        "  for token in tokens:\n",
        "    # Kiểm tra chiều dài từ khóa > 0\n",
        "    if len(token) > 0:\n",
        "      if token not in token_feq_dict.keys():\n",
        "        token_feq_dict[token] = 1\n",
        "      else:\n",
        "        token_feq_dict[token] += 1\n",
        "\n",
        "# Xuất ra màn hình\n",
        "print(token_feq_dict)"
      ],
      "metadata": {
        "colab": {
          "base_uri": "https://localhost:8080/"
        },
        "id": "w7UyGlsRihLl",
        "outputId": "daf6a5d6-a432-4361-b097-e80481edaffb"
      },
      "execution_count": 4,
      "outputs": [
        {
          "output_type": "stream",
          "name": "stdout",
          "text": [
            "{'liverpool': 54, 'nhì': 5, 'bảng': 101, 'tại': 150, 'champions': 47, 'league': 85, 'anhthắng': 1, 'napoli': 20, '2': 75, '0': 36, 'ở': 265, 'lượt': 48, 'cuối': 65, 'nhưng': 106, 'thầy': 5, 'trò': 10, 'jurgen': 6, 'klopp': 14, 'vẫn': 36, 'không': 166, 'thể': 105, 'giật': 1, 'đỉnh': 18, 'a': 12, 'từ': 118, 'đối': 33, 'thủ': 140, 'tối': 16, '1': 104, '11': 59, 'cùng': 63, 'có': 179, '15': 17, 'điểm': 83, 'sau': 137, 'năm': 113, 'thắng': 99, 'và': 312, 'một': 159, 'thua': 44, 'xếp': 8, 'trên': 79, 'do': 30, 'hơn': 77, 'hiệu': 19, 'số': 80, 'bàn': 93, 'bại': 11, 'trong': 225, 'hai': 136, 'lần': 72, 'đầu': 133, 'vị': 46, 'trí': 43, 'nhất': 119, 'giúp': 44, 'đội': 166, 'bóng': 66, 'italy': 6, 'tránh': 7, 'mạnh': 27, 'vòng': 114, '8': 38, 'khi': 213, 'nguy': 5, 'cơ': 40, 'các': 104, 'khó': 16, 'chơi': 38, 'như': 60, 'bayern': 30, 'real': 27, 'hay': 39, 'psg': 14, 'salah': 7, 'mở': 17, 'tỷ': 26, 'cho': 140, 'phút': 69, '85': 2, 'ảnh': 78, 'epa': 1, 'phải': 52, 'cách': 39, 'biệt': 15, 'bốn': 46, 'để': 145, 'chiếm': 7, 'hlv': 65, 'dùng': 13, 'tiền': 117, 'đạo': 65, 'darwin': 3, 'nunez': 8, 'vào': 115, 'sân': 67, 'đắt': 6, 'lịch': 22, 'sử': 23, 'là': 180, 'cầu': 82, 'đá': 67, 'chính': 58, 'trận': 214, 'leeds': 3, 'ngồi': 3, 'ngoài': 11, 'bên': 11, 'cạnh': 17, 'andy': 1, 'robertson': 1, 'harvey': 1, 'elliott': 1, 'joe': 1, 'gomez': 2, 'curtis': 1, 'jones': 5, 'được': 120, 'bố': 9, 'trái': 16, 'thay': 35, 'sơ': 7, 'đồ': 7, '4': 34, '3': 39, 'ngay': 17, 'khai': 13, 'cuộc': 22, 'đã': 68, 'tràn': 1, 'lên': 52, 'sớm': 15, 'hội': 36, 'đường': 25, 'chọc': 3, 'khe': 3, 'của': 231, 'sút': 26, 'vọt': 6, 'xà': 3, '29': 9, 'pha': 19, 'phản': 4, 'công': 66, 'mẫu': 1, 'mực': 1, 'thiago': 3, 'ra': 62, 'chân': 30, 'dứt': 9, 'tuyến': 3, 'bị': 66, 'thành': 139, 'alex': 4, 'meret': 3, 'tung': 8, 'người': 66, 'cản': 6, 'phá': 12, 'đến': 69, 'đánh': 40, 'chia': 17, 'vui': 5, 'với': 198, 'lập': 15, 'ap': 2, 'thấy': 10, 'họ': 51, 'cũng': 77, 'e': 7, 'dè': 1, 'dù': 31, 'anfield': 7, 'những': 81, 'đột': 4, 'khvicha': 1, 'kvaratskhelia': 3, 'cánh': 11, 'hiệp': 27, 'khách': 13, 'khiến': 22, 'khán': 3, 'đài': 2, 'im': 1, 'bặt': 1, 'leo': 6, 'ostigard': 2, 'bay': 2, 'lưới': 9, 'alisson': 2, 'becker': 1, 'phạt': 14, 'khoảng': 16, 'kiểm': 7, 'tra': 3, 'var': 12, 'trọng': 35, 'tài': 44, 'xác': 15, 'định': 58, 'trung': 31, 'vệ': 70, 'việt': 48, 'lâu': 4, 'lại': 98, 'hở': 1, 'nhà': 31, 'thoải': 4, 'mái': 4, 'đón': 5, 'quả': 25, 'tạt': 3, 'victor': 1, 'osimhen': 1, 'vô': 66, 'lê': 8, 'chạm': 6, 'trent': 1, 'alexander': 2, 'arnold': 1, 'đổi': 12, 'hướng': 8, 'diễn': 33, 'biến': 12, 'ngày': 93, 'nhiều': 72, 'dường': 2, 'bắt': 26, 'lỏng': 2, 'đều': 25, 'ghi': 46, 'góc': 7, 'dấu': 6, 'ấn': 30, '73': 3, 'cú': 21, 'uruguay': 7, 'cứu': 4, 'vạch': 8, 'vôi': 2, 'tạo': 17, 'điều': 32, 'kiện': 9, 'mohamed': 1, 'bồi': 3, 'bù': 10, 'giờ': 13, 'thứ': 77, 'tám': 9, 'đập': 3, 'đất': 3, 'virgil': 1, 'van': 1, 'dijk': 1, 'chiến': 27, 'đậm': 2, 'nếu': 32, 'tận': 5, 'dụng': 12, 'tốt': 34, 'trước': 110, 'ai': 9, 'cập': 6, 'đệm': 4, 'cự': 4, 'ly': 5, '6': 17, 'm': 1, 'trúng': 7, 'căng': 3, 'ngang': 2, 'đáng': 10, 'nhoài': 1, 'chỉ': 74, 'biết': 16, 'cười': 4, 'trừ': 6, 'bỏ': 18, 'lỡ': 10, 'này': 119, 'quang': 28, 'huy': 11, 'phương': 10, 'án': 13, 'hải': 34, 'aff': 18, 'cup': 120, 'phủ': 3, 'nhận': 40, 'nam': 64, 'mất': 23, 'mát': 3, 'lớn': 25, 'thiếu': 10, 'nguyễn': 20, '2022': 75, 'chuyên': 16, 'gia': 52, 'rằng': 14, 'park': 15, 'thế': 55, 'mong': 6, 'muốn': 18, 'hang': 3, 'seo': 3, 'sẽ': 103, 'góp': 19, 'mặt': 21, 'giải': 126, 'đấu': 119, 'ông': 46, 'nằm': 13, 'fifa': 24, 'vì': 46, 'pau': 11, 'fc': 21, 'toàn': 21, 'quyền': 11, 'quyết': 30, 'nhả': 3, 'về': 78, 'dự': 64, 'đông': 7, 'á': 14, 'didier': 1, 'tholot': 1, 'giữ': 19, 'anh': 171, '5': 25, 'ligue': 6, 'quốc': 31, 'pháp': 25, 'mà': 22, 'icon': 1, 'sport': 4, 'vắng': 7, 'rất': 14, 'tuyển': 54, 'cậu': 8, 'ấy': 11, 'kỹ': 8, 'thuật': 16, 'còn': 84, 'giàu': 6, 'kinh': 8, 'nghiệm': 8, 'mạc': 8, 'cựu': 12, 'slna': 1, 'vinh': 5, 'nói': 41, 'vnexpress': 9, 'chúng': 27, 'ta': 3, 'làm': 42, 'gì': 10, 'khác': 21, 'thuộc': 15, '36': 4, '39': 3, 'thức': 12, 'dưới': 15, 'thời': 26, 'quế': 1, 'ngọc': 4, 'đạt': 27, 'tương': 14, 'tự': 18, 'quá': 12, '25': 8, 'đồng': 60, 'thừa': 4, 'sức': 13, 'chắc': 12, 'chắn': 6, 'hưởng': 14, 'đem': 1, 'hà': 29, 'nội': 31, 'giày': 4, '14': 17, '9': 24, 'kiến': 20, 'nào': 22, 'độ': 45, 'nước': 11, 'việc': 45, 'trở': 45, 'chuyện': 4, 'thường': 19, 'tình': 10, 'phóng': 2, 'viên': 37, 'thậm': 10, 'chí': 15, 'xem': 8, 'rời': 5, 'mới': 37, 'bất': 11, 'thái': 17, 'lan': 23, 'steve': 1, 'darby': 4, 'sao': 17, 'đứng': 43, 'rủi': 1, 'ro': 1, 'chấn': 45, 'thương': 55, 'gặp': 42, 'malaysia': 8, 'singapore': 5, '12': 14, '2021': 16, 'shengwei': 1, 'đây': 25, 'tuyệt': 3, 'vời': 2, 'tìm': 8, 'mỗi': 14, 'phong': 25, 'lẽ': 6, 'trả': 12, 'lời': 9, 'câu': 2, 'hỏi': 2, 'lúc': 21, 'rồi': 52, 'thêm': 17, 'vai': 4, 'tâm': 10, '24': 5, 'cần': 21, 'xa': 10, 'gây': 17, 'trách': 7, 'nhiệm': 8, 'tổ': 14, 'chức': 23, 'lối': 2, 'dồn': 2, 'hoàng': 24, 'đức': 26, 'đỗ': 1, 'hùng': 6, 'dũng': 4, 'nhắc': 3, 'trường': 15, 'hợp': 21, 'văn': 19, 'khuất': 2, 'khang': 6, 'cả': 52, 'giao': 15, 'hữu': 16, 'tháng': 41, 'tức': 4, 'gần': 29, '2018': 16, 'địch': 59, 'đóng': 4, '31': 14, 'tuổi': 35, 'đang': 43, 'cao': 36, 'qua': 61, '17': 10, 'v': 15, 'dẫn': 28, 'hình': 35, 'lão': 1, 'tướng': 2, 'hiểm': 5, 'khung': 6, 'giá': 35, 'chất': 3, 'lượng': 10, 'mắt': 11, 'thống': 17, '21': 5, 'nên': 13, 'trao': 8, 'trẻ': 13, 'tượng': 17, 'lứa': 2, 'u23': 6, 'tứ': 14, 'kết': 69, 'châu': 17, 'sea': 2, 'games': 2, 'tấn': 7, 'kể': 10, 'long': 9, 'lý': 18, 'nhâm': 1, 'tất': 15, 'nhiên': 27, 'dựa': 4, 'hiện': 32, 'chuẩn': 13, '76': 4, 'thử': 13, 'đủ': 8, 'cấp': 11, 'chưa': 26, 'tôi': 65, 'bổ': 3, 'sung': 3, 'nhân': 18, 'tố': 5, 'u20': 1, 'theo': 78, 'cầm': 5, 'quân': 26, 'tin': 23, 'sắp': 5, 'tới': 46, 'lực': 23, 'asian': 1, 'loại': 22, 'world': 82, 'uae': 5, 'lào': 2, 'ba': 45, 'lương': 7, 'xuân': 4, 'phan': 1, 'cặp': 14, 'tiến': 15, 'linh': 5, 'phượng': 2, 'chút': 2, 'tích': 43, 'cực': 2, 'ban': 28, 'bài': 7, 'cũ': 5, 'dài': 8, 'hạn': 8, 'hoặc': 22, 'tuỳ': 1, 'từng': 31, 'mật': 3, 'di': 7, 'chuyển': 21, 'giữa': 25, 'xoay': 12, 'đâu': 1, 'vụt': 1, 'sáng': 9, 'trưởng': 14, 'vượt': 23, 'bậc': 3, 'trụ': 23, 'cột': 16, 'bìnhpau': 1, 'thẳng': 2, 'sự': 34, 'thất': 10, 'golfer': 5, '18': 16, 'pga': 6, 'tour': 8, 'bermuda': 4, 'championship': 9, 'caleb': 1, 'surratt': 9, 'chú': 2, 'ý': 13, 'kiểu': 5, 'tàu': 1, 'lượn': 1, 'đó': 111, '20': 21, 'gậy': 18, 'cán': 5, 'đích': 14, 't65': 1, '10': 70, 'seamus': 1, 'power': 2, '19': 13, 'port': 2, 'royal': 2, 'par71': 1, 'đảo': 8, '132': 1, 'amateur': 7, 'tính': 17, 'teen': 2, 'danh': 41, 'sách': 16, 'nhờ': 22, 'chung': 32, 'elite': 1, 'loạt': 6, 'bảy': 14, 'nghiệp': 30, 'dư': 5, 'vừa': 19, 'mỹ': 14, 'tuần': 26, 'golf': 14, 'digest': 1, '71': 2, 'even': 2, 'par': 5, 'bình': 27, 'chặng': 13, 'mức': 24, '67': 2, '78': 2, 'lấy': 13, 'âm': 2, 'càng': 11, 'sâu': 7, 'hy': 9, 'vọng': 18, 'cắt': 3, 'giành': 21, 'đi': 36, 'tiếp': 69, '64': 1, 'bogey': 11, 'eagle': 1, 'birdie': 5, '7': 15, 'đẩy': 25, 'surrat': 4, 'đúng': 7, 'tuy': 25, 'thảm': 2, 'hoạ': 2, 'riêng': 4, 'hố': 15, 'par4': 2, 'thực': 9, 'tế': 9, 'xong': 1, 'đưa': 17, 'lỗ': 5, 'khu': 5, 'cỏ': 2, 'rough': 1, 'octuple': 1, 'double': 2, 'vỡ': 2, 'áp': 15, 'chót': 5, 'xuống': 37, 'chênh': 2, 'lệch': 2, 'lao': 7, 'dốc': 1, 'so': 11, '65': 3, 'ít': 13, 'vậy': 14, 'niên': 1, 'tiên': 25, 'joaquin': 2, 'niemann': 2, 'đoạt': 9, 'hệ': 10, 'sang': 21, 'liv': 5, 'invitational': 6, 'series': 6, 'cấm': 3, 'cửa': 3, 'sinh': 9, 'bang': 1, 'tennessee': 1, '16': 22, 'giới': 27, 'tundra': 8, 'esports': 6, 'túi': 2, 'triệu': 80, 'usd': 78, 'dota2': 2, 'tham': 17, 'the': 4, 'international': 2, 'phú': 1, 'team': 8, 'secret': 4, 'ti11': 3, 'bộ': 18, 'môn': 18, 'khoản': 7, 'thưởng': 10, 'nâng': 8, 'chiếc': 2, 'aegis': 1, 'of': 1, 'dota': 1, 'valve': 1, 'gồm': 23, 'skiter': 1, 'slovakia': 1, 'nine': 1, '33': 3, 'israel': 1, 'saksa': 1, 'bắc': 1, 'macedonia': 1, 'sneyking': 1, 'kỳ': 31, 'hòa': 5, 'knock': 7, 'out': 7, 'trải': 7, 'bo3': 1, 'đa': 7, 'nhánh': 8, 'ván': 10, 'trắng': 2, 'bo5': 1, 'duy': 26, 'lạc': 2, 'quan': 17, 'truyền': 11, 'tân': 7, 'binh': 6, 'leshrac': 1, 'vận': 8, 'hành': 27, 'tổng': 17, 'grand': 5, 'final': 1, 'non': 2, 'thuyết': 5, 'phục': 13, 'ti': 1, 'tư': 14, '2019': 8, 'nay': 15, 'nữa': 3, 'lỗi': 6, 'hẹn': 1, 'ti10': 1, 'ngoái': 1, 'spirit': 1, 'bởi': 10, 'boom': 1, 'liquid': 2, 'vé': 7, 'lọt': 3, 'nghĩa': 6, 'lasse': 1, 'matumbaman': 1, 'urpalainen': 1, 'tuyên': 1, 'nghệ': 11, 'chấp': 7, 'forbes': 1, 'drx': 16, 'worlds': 5, 'faker': 3, 't1': 3, 'tottenham': 47, 'phápthắng': 1, 'ngược': 11, 'marseille': 23, 'd': 11, 'frankfurt': 22, 'diện': 27, 'chancel': 2, 'mbemba': 4, 'clement': 3, 'lenglet': 4, 'pierre': 3, 'emile': 2, 'hojbjerg': 6, 'đoàn': 7, 'antonio': 3, 'conte': 4, 'khỏi': 4, 'âu': 12, 'mùa': 87, 'mừng': 14, 'lợi': 16, 'velodrome': 3, 'uefa': 5, 'sporting': 20, 'lisbon': 2, 'kịch': 3, 'bản': 30, 'chủ': 45, 'arthur': 4, 'gomes': 2, 'daichi': 5, 'kamada': 5, 'gỡ': 8, 'hoà': 11, 'đền': 7, 'kolo': 2, 'muani': 2, 'đại': 27, 'europa': 22, 'cục': 3, 'bước': 11, 'suất': 20, '45': 1, 'hugo': 1, 'lloris': 2, 'jordan': 2, 'veretout': 2, '54': 3, 'ivan': 1, 'perisic': 2, 'lenget': 1, 'hạ': 23, 'gục': 3, 'lopez': 2, 'nhóm': 47, 'reuters': 9, 'buộc': 8, 'mạo': 3, 'dính': 6, 'đòn': 1, 'hồi': 12, 'mã': 1, 'chuyền': 7, 'hỏng': 4, 'matteo': 2, 'guendouzi': 3, 'harry': 4, 'kane': 5, 'chéo': 2, 'mép': 1, 'dọc': 1, 'đảm': 6, 'bảo': 15, 'dõi': 4, 'phép': 6, 'phòng': 18, 'vẻ': 6, 'phần': 17, 'lột': 1, 'clb': 72, 'premier': 1, 'man': 63, 'city': 33, 'chelsea': 13, '2023': 10, 'f': 1, 'xuất': 11, 'phátmarseille': 1, 'bailly': 2, 'balerdi': 1, 'clauss': 1, 'rongier': 1, 'tavares': 1, 'harit': 1, 'sanchez': 3, 'dier': 1, 'davies': 2, 'sessegnon': 1, 'bentancur': 1, 'lucas': 5, 'moura': 2, 'son': 3, 'an': 11, 'quản': 12, '000': 8, 'tập': 68, 'gian': 14, '200': 4, 'thanh': 12, 'toán': 4, 'chương': 7, 'trình': 36, 'ích': 5, 'ứng': 6, 'brazil': 23, 'argentina': 20, 'bỉ': 3, 'tây': 14, 'nha': 14, 'khả': 13, 'năng': 20, 'mbappe': 6, 'messi': 9, 'neymar': 7, 'mang': 11, 'khoác': 12, 'áo': 25, 'afp': 16, 'nhấn': 4, 'miễn': 2, 'thi': 45, 'tạm': 1, 'dừng': 2, 'tranh': 29, 'qatar': 15, 'barca': 41, 'kiếm': 5, 'chi': 12, '209': 1, 'nga': 2, 'tăng': 17, '530': 1, 'báo': 14, 'sportmail': 1, 'nhuận': 1, 'sở': 21, 'etihad': 1, 'utd': 42, 'arsenal': 6, 'chốt': 6, '2010': 4, 'phi': 1, 'hỗ': 3, 'trợ': 13, '40': 4, '70': 6, '2014': 7, 'gấp': 3, 'liên': 24, 'phân': 5, 'phối': 1, '32': 7, 'lũy': 4, 'vụ': 9, 'con': 8, '736': 1, '500': 1, 'benjamin': 2, 'mendy': 1, 'sáu': 24, 'bán': 15, 'atletico': 4, 'juventus': 10, 'al': 10, 'hilal': 1, 'thu': 12, 'chín': 8, 'saudi': 6, 'arabia': 6, 'cụ': 4, '42': 6, '30': 29, '27': 4, '13': 12, 'khánh': 1, 'ecuador': 1, '19h': 1, '23h': 1, 'lễ': 5, 'động': 37, 'bayt': 1, 'chứa': 1, '60': 10, 'hồng': 13, 'duymáy': 1, 'đoán': 3, 'ronaldo': 46, 'chiều': 6, 'tục': 24, '90': 3, 'bồ': 6, 'đào': 11, 'đòi': 1, 'đáy': 1, '62': 1, 'rơi': 6, 'shutterstock': 1, 'mải': 1, 'dâng': 1, 'luôn': 10, 'tay': 36, 'porto': 4, 'đụng': 3, 'cristiano': 6, 'tái': 7, 'ngộ': 3, 'antottenham': 1, 'hôm': 14, 'đứchạ': 1, 'inter': 16, 'c': 9, 'tử': 2, 'thần': 7, '2020': 5, 'dắt': 8, 'hansi': 1, 'flick': 1, 'b': 7, 'olympiacos': 1, 'red': 2, 'star': 3, 'belgrade': 1, 'nốt': 1, 'lyon': 1, 'ngôi': 28, 'trướng': 5, 'julian': 3, 'nagelsmann': 2, 'benfica': 1, 'dynamo': 1, 'kyiv': 1, 'rb': 1, 'salzburg': 2, 'villarreal': 3, 'nối': 3, 'kỷ': 22, 'lục': 18, '34': 4, 'chuỗi': 5, 'madrid': 3, 'ajax': 2, 'hùm': 1, 'xám': 1, '2017': 4, 'choupo': 6, 'moting': 6, 'allianz': 1, 'dayot': 1, 'upamecano': 2, 'joshua': 2, 'kimmich': 3, 'sadio': 1, 'mane': 1, 'eric': 3, 'maxim': 1, 'nghiêm': 7, 'túc': 2, 'soát': 5, '600': 1, '23': 6, 'thông': 15, '394': 1, 'mục': 21, 'tiêu': 19, 'nhập': 23, 'ngon': 3, 'ăn': 7, 'nicolo': 2, 'barella': 2, '25m': 2, 'robin': 2, 'gosens': 2, 'thuận': 2, 'lautaro': 4, 'martinez': 16, 'trống': 4, 'pavard': 3, 'truy': 1, 'tầm': 2, 'andre': 1, 'onana': 4, 'nổ': 1, 'súng': 1, '22': 9, 'thiết': 9, 'phía': 1, 'serie': 6, 'tưởng': 9, 'nhen': 1, 'francesco': 1, 'acerbi': 2, 'cận': 6, 'sven': 1, 'ulreich': 2, '63': 3, 'ngả': 1, 'móc': 1, 'khước': 1, 'cameroon': 1, 'tiếc': 2, 'nuối': 1, 'đầy': 2, 'mười': 2, 'nã': 1, 'bác': 2, 'găm': 1, 'khỏa': 1, 'robert': 4, 'lewandowski': 12, 'xe': 5, 'đạp': 2, 'chổng': 1, 'tịt': 3, 'ngòi': 3, 'mọi': 22, 'màn': 21, 'tấm': 2, 'simone': 1, 'inzaghi': 1, 'mazraoui': 1, 'musiala': 1, '46': 5, 'stanisic': 1, 'sabitzer': 1, 'coman': 1, 'wanner': 1, 'gravenberch': 1, 'mané': 1, 'gnabry': 1, '66': 2, 'tel': 2, 'darmian': 1, 'de': 11, 'vrij': 1, 'skriniar': 1, 'bellanova': 1, 'mkhitaryan': 1, 'asllani': 1, 'gagliardini': 1, 'calhanoglu': 2, 'martínez': 1, 'dzeko': 1, 'correa': 3, 'carboni': 1, 'vua': 6, 'casemiro': 13, 'soán': 1, 'khỏe': 7, 'vóc': 1, 'dáng': 1, 'vạm': 1, 'nể': 1, 'đàn': 2, 'mẽ': 2, 'old': 5, 'trafford': 4, 'daily': 2, 'viết': 1, 'nguồn': 6, 'tạ': 7, '250': 3, 'kilogram': 2, 'leg': 1, 'press': 1, 'bắp': 4, 'săn': 3, 'hè': 12, '300': 4, 'thán': 1, 'cố': 4, 'gắng': 3, 'khối': 1, 'ngoại': 29, 'hạng': 45, 'hào': 1, 'đôi': 14, 'thích': 4, 'to': 1, 'bò': 1, 'nhắm': 1, 'kg': 1, 'giai': 14, 'đoạn': 14, '2013': 5, 'nổi': 2, 'tiếng': 11, 'dồi': 1, 'dào': 1, 'càn': 1, 'quét': 2, 'luka': 1, 'modric': 1, 'toni': 1, 'kroos': 2, 'ngự': 4, 'thư': 2, 'giãn': 1, 'bồn': 1, 'tắm': 1, 'thổ': 6, 'nhĩ': 5, 'nhau': 18, 'bạn': 11, 'sẵn': 7, 'luyện': 22, 'bụng': 1, 'đề': 15, 'trạng': 2, 'lắp': 1, 'đặt': 8, 'máy': 2, 'trị': 14, 'liệu': 2, 'oxy': 1, 'hbot': 1, 'thự': 1, 'sống': 5, 'gái': 1, 'georgina': 1, 'rodriguez': 9, 'alderley': 1, 'edge': 1, 'cheshire': 1, '37': 3, 'hít': 1, 'thở': 1, 'khí': 2, 'tinh': 16, 'khiết': 1, 'trực': 4, 'mô': 3, 'tổn': 2, 'cải': 11, 'thiện': 11, 'gương': 1, 'trì': 11, 'vinicius': 1, 'học': 3, 'uống': 1, 'khoa': 1, 'ngừng': 1, 'khảo': 2, 'cr7': 1, 'giảm': 7, 'cân': 5, 'đợt': 1, 'nghỉ': 10, 'dịch': 1, 'duyredknapp': 1, 'uy': 3, 'keown': 1, 'hãy': 7, 'bằng': 24, 'chu': 2, 'nuôi': 2, 'fa': 1, 'đua': 37, 'xì': 2, 'hơi': 3, 'west': 8, 'ham': 8, 'liền': 3, 'nottingham': 1, 'forest': 1, 'tụt': 2, 'kém': 10, 'newcastle': 6, 'buổi': 12, 'họp': 5, 'đà': 6, 'sa': 12, 'đáp': 2, 'hết': 12, 'sát': 2, 'naby': 1, 'keita': 1, 'melo': 1, 'diogo': 1, 'jota': 1, 'đùi': 1, 'joel': 1, 'matip': 1, 'luis': 3, 'diaz': 1, 'gối': 8, 'ibrahima': 1, 'konate': 1, 'alcantara': 1, 'tua': 1, 'dày': 3, 'vấn': 11, 'đợi': 3, 'thân': 8, 'southampton': 1, 'chế': 2, 'sai': 8, 'lầm': 5, '55': 2, 'khẳng': 8, 'khoảnh': 3, 'khắc': 4, 'đẹp': 7, 'khăn': 8, 'cống': 2, 'hiến': 2, 'mình': 5, '100': 5, 'andré': 1, 'frank': 1, 'zambo': 1, 'anguissa': 1, 'ansa': 1, 'thủng': 1, 'diego': 2, 'armando': 2, 'maradona': 2, 'đè': 1, 'bẹp': 1, 'sợ': 1, 'háo': 2, 'hức': 2, 'luciano': 1, 'spalleti': 1, 'chép': 1, 'ca': 5, 'ngợi': 3, 'spalletti': 1, 'khắp': 1, 'đẳng': 2, 'duysouness': 1, 'nạt': 1, 'lo': 8, 'top': 9, 'kẻ': 1, 'não': 1, 'apac': 1, 'langolfer': 1, 'minh': 14, '48': 2, 'asia': 4, 'pacific': 4, 'nguyên': 3, 'tắc': 2, 't50': 1, 'bo': 2, 'jin': 2, 'dần': 6, 'phát': 17, 'triple': 1, 'par5': 1, 'nửa': 3, 'kéo': 2, 'thấp': 4, 'vga': 3, 'harrison': 1, 'crowe': 1, 'australia': 5, '2009': 2, 'huỷ': 2, 'covid': 4, 'cộng': 6, 'dương': 6, 'trương': 4, '2016': 4, 'phó': 9, 'ký': 12, 'phụ': 12, 'triển': 7, 'ẵm': 3, 'lexus': 2, 'challenge': 2, 'lẫn': 4, 'vietnam': 2, 'national': 2, 'open': 6, '254': 2, 'wagr': 2, 'quy': 3, 'tụ': 2, '120': 2, '38': 4, 'vùng': 6, 'lãnh': 5, 'par72': 2, 'amata': 1, 'spring': 1, 'country': 1, 'club': 7, 'chonburi': 1, 'major': 2, 'augusta': 1, 'masters': 12, 'ancient': 1, 'cường': 7, 'thềm': 3, 'vm': 11, 'hanoi': 12, 'midnight': 12, 'runners': 12, '000km': 2, 'starlake': 4, 'mời': 5, 'giáo': 7, 'marathon': 23, 'chạy': 60, 'nóng': 4, 'thách': 7, 'nhật': 23, 'thúc': 9, '26': 10, 'nặng': 3, 'hàng': 16, 'km': 2, '350': 2, 'runner': 17, 'run': 3, 'nvcc': 4, 'sẻ': 9, 'quãng': 1, 'pr': 3, 'cá': 10, 'full': 3, 'sub5': 1, 'sub4': 3, 'nghĩ': 8, 'nhanh': 5, 'dạn': 2, 'dung': 5, 'đêm': 7, 'thì': 8, 'tiệm': 2, 'sub3': 2, 'khuyến': 1, 'khích': 1, 'viển': 1, 'vông': 1, 'nghiên': 2, 'kế': 7, 'hoạch': 7, 'race': 1, 'tiết': 4, 'lộ': 3, 'giương': 1, 'cờ': 4, 'đăng': 11, 'tùy': 1, 'tuân': 3, 'tôn': 5, 'rà': 1, 'nữ': 8, 'chị': 8, 'em': 1, 'yêu': 5, 'hề': 3, 'dễ': 2, 'lựa': 6, 'chọn': 17, 'đương': 5, 'trạnh': 1, 'khao': 1, 'khát': 1, 'ngặt': 1, 'ưu': 4, 'xinh': 1, 'tươi': 1, 'sàng': 5, 'running': 6, 'huấn': 3, 'hầu': 2, 'miệt': 1, 'mài': 1, 'duyệt': 3, 'nhẹ': 2, 'sub1': 1, 'half': 2, 'hậu': 16, '21km': 1, 'bục': 2, 'amazing': 3, 'cổ': 5, 'vũ': 4, 'băng': 5, 'rôn': 1, 'địa': 4, '720': 1, 'dịp': 2, 'màu': 4, 'sắc': 3, 'tỏa': 8, 'quái': 4, 'xử': 2, 'huống': 3, 'rõ': 6, 'ràng': 3, 'hài': 3, 'lòng': 7, 'la': 12, 'vanguardia': 1, 'tờ': 2, 'barcelona': 1, 'xứ': 1, 'catalonia': 1, 'mộ': 18, '50': 3, 'liga': 10, 'ùa': 1, 'camp': 2, 'nou': 2, 'chứ': 3, 'đơn': 4, 'thuần': 1, 'xảy': 5, 'valencia': 1, 'girona': 1, 'hẹp': 2, 'hâm': 7, 'kiên': 4, 'nhẫn': 1, 'xavi': 3, 'chờ': 5, 'memphis': 1, 'depay': 1, 'ronald': 1, 'araujo': 1, 'sergi': 1, 'roberto': 2, 'andreas': 3, 'christensen': 1, 'ch': 1, 'czech': 1, 'viktoria': 1, 'plzen': 6, 'sergio': 2, 'busquets': 1, 'treo': 3, 'giò': 1, 'garcia': 1, 'jules': 1, 'kounde': 1, 'lò': 2, 'masia': 1, 'marc': 3, 'casado': 2, 'alvaro': 1, 'sanz': 2, 'ilias': 1, 'akhomach': 2, 'valle': 2, 'xuyên': 8, 'đôn': 1, 'roma': 20, 'italyhơn': 1, 'hellas': 1, 'verona': 7, '88': 3, 'nemanja': 1, 'matic': 4, 'cristian': 2, 'volpato': 7, 'lorenzo': 3, 'montipo': 3, 'thả': 1, 'stephan': 1, 'el': 8, 'shaarawy': 5, 'xâm': 1, 'gẩy': 1, 'bentegodi': 1, 'asroma': 3, 'it': 3, 'jose': 2, 'mourinho': 3, '2004': 6, '2005': 5, 'lazio': 2, 'milan': 7, 'atalanta': 1, 'đô': 3, 'hoàn': 4, 'hảo': 1, 'ludogorets': 2, 'olimpico': 2, 'conference': 1, 'nơi': 10, 'kim': 2, 'derby': 3, 'hứng': 1, 'thú': 2, 'rick': 1, 'karsdorp': 2, 'tammy': 1, 'abraham': 3, 'thoát': 1, 'chệch': 1, '5m': 1, 'phung': 2, 'phí': 14, 'pawel': 1, 'dawidowicz': 3, 'davide': 1, 'faraoni': 2, 'thô': 1, 'bạo': 1, 'zaniolo': 5, 'đau': 3, 'đớn': 1, 'biên': 3, 'juan': 6, 'luca': 1, 'sacchi': 1, 'rút': 5, 'thẻ': 1, 'đỏ': 2, 'duyên': 1, 'dội': 1, 'bật': 3, 'nắm': 5, 'andrea': 1, 'belotti': 2, 'pellegrini': 2, 'đấuverona': 1, 'gunter': 1, 'ceccherini': 1, 'hien': 1, 'veloso': 1, 'magnani': 1, '68': 1, 'hongla': 1, 'sulemana': 1, '86': 2, 'depaoli': 1, 'henry': 1, 'djuric': 1, 'tameze': 1, 'kallon': 1, 'lasagna': 1, 'patricio': 1, 'smalling': 1, 'ibanez': 1, 'mancini': 1, 'camara': 1, 'shomurodov': 1, '83': 1, 'cristante': 1, 'zalewski': 1, '57': 3, 'nộibắt': 1, '2024': 3, 'ty': 5, 'vpf': 11, 'tác': 8, 'lược': 1, 'tnhh': 1, 'fpt': 5, 'cam': 3, 'thác': 2, 'mại': 1, 'bao': 2, '2027': 1, 'tịch': 14, 'trần': 5, 'tú': 3, 'nét': 1, 'phê': 1, 'vff': 19, 'thí': 1, 'vững': 4, 'play': 6, 'yếu': 4, 'ngũ': 1, 'kiệm': 1, 'lưu': 4, 'bùng': 1, 'cử': 9, 'giống': 8, 'nhằm': 3, 'hóa': 7, 'afc': 2, 'khuôn': 1, 'khổ': 1, 'tường': 1, 'tầng': 1, 'cáp': 2, 'iptv': 1, 'internet': 1, 'chiếu': 1, 'mạng': 3, 'xã': 3, 'đàm': 2, 'phán': 6, 'lệ': 5, '430': 1, 'everton': 3, 'hãng': 2, 'opta': 1, '07': 1, 'tỏ': 4, '459': 1, '137': 1, 'pfa': 1, 'vàng': 5, 'tạp': 1, 'france': 1, 'football': 2, 'chuyến': 2, 'du': 1, 'đình': 10, 'muộn': 2, 'gạch': 1, 'tên': 6, 'erik': 4, 'ten': 10, 'hag': 10, 'marcus': 2, 'rashford': 3, 'anthony': 1, 'martial': 2, 'phập': 1, 'phù': 5, 'chật': 7, 'vật': 7, '441': 1, '220': 3, 'sociedad': 3, 'off': 3, 'rớt': 3, 'duyronaldo': 2, 'antony': 13, 'djokovic': 14, 'xét': 5, 'giỏi': 4, 'paristheo': 1, 'novak': 3, 'làng': 1, 'banh': 1, 'nỉ': 1, 'giả': 1, 'paris': 11, 'quần': 2, 'vợt': 18, 'mốc': 2, 'atp': 13, '1000': 2, 'hạt': 5, 'maxime': 1, 'cressy': 1, '21h30': 1, 'serbia': 1, 'rafael': 4, 'nadal': 9, 'casper': 1, 'ruud': 1, 'musetti': 1, 'cứng': 4, 'aviv': 1, 'astana': 2, '35': 2, 'finals': 3, 'đuổi': 2, 'federer': 4, 'cảm': 6, 'ơn': 1, 'nhớ': 2, 'wimbledon': 1, 'rộng': 5, '2012': 7, 'phùng': 1, 'laver': 1, 'chăm': 4, 'vợ': 12, 'hương': 2, 'bautista': 1, 'agut': 1, 'tommy': 1, 'paul': 5, 'vy': 2, 'thiem': 1, 'khép': 8, 'richarlison': 1, 'dejan': 1, 'kulusevski': 1, 'heung': 2, 'min': 2, 'igor': 1, 'tudor': 1, 'alexis': 2, 'alvalade': 1, 'chịu': 2, 'hidemasa': 2, 'morita': 2, 'ruben': 2, 'amorim': 2, 'thiên': 1, 'pedro': 1, 'goncalves': 1, 'oliver': 1, 'glasner': 1, 'mario': 1, 'gotze': 1, 'xanh': 3, 'brugge': 2, 'rangers': 1, 'ibrox': 1, 'phố': 3, 'glasgow': 1, 'bayer': 1, 'leverkusen': 2, 'anlewandowski': 1, 'bội': 1, 'takehiro': 2, 'tomiyasu': 2, 'takumi': 2, 'minamino': 2, 'monaco': 5, 'takefusa': 2, 'kubo': 2, 'kaoru': 2, 'mitoma': 2, 'brighton': 1, 'hajime': 2, 'moriyasu': 4, 'kyodo': 1, 'news': 1, 'cãi': 3, 'daizen': 2, 'maeda': 3, 'kyogo': 1, 'furuhashi': 2, 'celtic': 4, 'scotland': 1, 'reo': 1, 'hatate': 1, 'yuya': 1, 'osako': 1, 'colombia': 6, 'union': 1, 'berlin': 2, 'bundesliga': 1, 'genki': 1, 'haraguchi': 1, 'eiji': 2, 'kawashima': 1, 'maya': 2, 'yoshida': 2, 'yuto': 2, 'nagatomo': 3, 'hiroki': 3, 'sakai': 2, 'wataru': 2, 'endo': 2, 'gaku': 2, 'shibasaki': 2, 'canada': 1, 'costa': 2, 'rica': 2, 'senegal': 7, 'akira': 1, 'nishino': 1, 'vck': 1, '2022thủ': 2, 'shuichi': 1, 'gonda': 1, 'daniel': 2, 'schmidt': 1, 'kawashimahậu': 1, 'miki': 1, 'yamane': 1, 'shogo': 1, 'taniguchi': 1, 'ko': 1, 'itakura': 1, 'yuta': 1, 'nakayama': 1, 'itotiền': 1, 'ao': 1, 'tanaka': 1, 'junya': 1, 'ito': 7, 'ritsu': 1, 'doan': 1, 'yuki': 1, 'somatiền': 1, 'ayase': 1, 'ueda': 1, 'takuma': 1, 'asano': 1, 'an10': 1, 'lụi': 2, 'tàn': 2, 'pogba': 19, 'bão': 2, 'đe': 3, 'doạ': 3, 'ngờ': 2, 'gen': 12, 'g': 14, 'huyền': 1, 'thoại': 1, 'vực': 3, 'lck': 4, 'hàn': 5, 'chông': 1, 'gai': 1, 'mexico': 6, 'khởi': 8, 'nhưn': 1, 'rồng': 6, 'chứng': 8, 'xạ': 3, 'deft': 1, 'zeka': 2, 'lol': 1, 'khớp': 1, 'tệ': 5, 'mắc': 4, 'chiêu': 4, 'azir': 1, 'sejuani': 1, 'pyosik': 1, 'chết': 2, 'lẻ': 5, 'kingen': 2, 'trừng': 1, 'chóng': 2, 'vánh': 1, 'bi': 1, 'lộn': 1, 'giằng': 1, 'co': 1, 'ép': 2, 'lui': 1, 'hồn': 2, 'lửa': 1, 'baron': 2, 'gượng': 1, 'dậy': 3, 'macro': 1, 'ngàn': 2, 'chovy': 2, 'lén': 1, 'doran': 1, 'gank': 1, 'thận': 1, 'xây': 3, 'dựng': 3, 'trội': 1, 'ngoặt': 1, 'quán': 1, 'sạch': 1, 'nới': 1, 'ryze': 1, 'toả': 1, '2001': 5, 'níu': 1, 'kê': 3, 'braum': 1, 'galio': 1, 'nhỉnh': 1, '28': 1, 'lùi': 1, 'nhịp': 17, 'bùa': 1, 'lmht': 1, 'haaland': 15, 'anhtiền': 1, 'erling': 3, 'sevilla': 6, 'pep': 2, 'guardiola': 5, 'khoẻ': 3, 'dortmund': 3, 'signal': 1, 'iduna': 1, 'leicester': 1, 'king': 2, 'na': 1, 'lắng': 1, 'kalvin': 1, 'phillips': 1, 'phil': 1, 'foden': 1, 'alvarez': 4, 'sánh': 5, 'fulham': 1, 'anguardiola': 1, 'rangnick': 1, 'khuyên': 3, 'mua': 4, 'nộicác': 1, 'khiển': 5, 'mongkolchai': 2, 'pechsri': 3, 'rawut': 1, 'nakarit': 1, 'tanate': 1, 'chuchuen': 1, 'nẵng': 3, 'sài': 4, 'gòn': 4, 'sổ': 1, 'quen': 1, 'triều': 1, 'viettel': 4, 'lăng': 1, '1981': 1, 's': 1, 'u19': 1, 'suhazi': 1, 'bin': 4, 'shukri': 2, 'mohd': 1, 'airif': 1, 'shamil': 1, 'abd': 1, 'raisid': 1, 'nadziran': 1, 'eziz': 1, '2015': 3, 'jeonbuk': 1, 'hyundai': 1, 'khốc': 1, 'liệt': 1, 'ngô': 1, 'lân': 1, 'sót': 1, 'hoá': 2, 'tp': 1, 'hcm': 1, 'đồngtrưởng': 1, 'hagl': 15, 'xin': 4, 'thổi': 2, '11m': 1, 'lionel': 5, 'scaloni': 5, 'sốt': 1, 'vó': 1, 'ole': 1, 'thao': 5, 'buenos': 1, 'aires': 1, 'lđbđ': 1, 'afa': 3, 'gửi': 1, 'cái': 3, 'emiliano': 3, 'lisandro': 3, 'nicolas': 6, 'tagliafico': 2, 'rodrigo': 2, 'xấu': 1, 'giovani': 1, 'celso': 6, 'sóc': 2, 'aston': 4, 'villa': 5, 'đổ': 3, 'va': 2, 'tyrone': 1, 'mings': 1, 'y': 2, 'vài': 5, 'loạn': 1, 'choạng': 1, 'ôm': 1, 'olsenaston': 1, 'trích': 1, 'luỵ': 1, 'copa': 2, 'america': 4, 'bilbao': 2, 'gân': 3, 'kheo': 3, 'as': 2, 'kịp': 6, 'gọi': 3, 'điền': 2, 'efe': 1, 'foyth': 3, 'leandro': 2, 'paredes': 3, 'angel': 3, 'maria': 3, 'dưỡng': 3, 'gút': 1, 'ổn': 3, 'paulo': 2, 'dybala': 2, 'đặc': 3, 'ma': 1, 'rình': 1, 'rập': 1, 'franco': 1, 'armani': 1, 'geronimo': 1, 'rulli': 1, 'musso': 1, 'agustín': 2, 'marchesin': 1, 'rossi': 1, 'nahuel': 1, 'molina': 1, 'gonzalo': 1, 'montiel': 1, 'german': 1, 'pezzella': 1, 'romero': 1, 'otamendi': 1, 'marcos': 3, 'acuna': 1, 'nehuen': 1, 'perez': 5, 'facundo': 1, 'medina': 1, 'quarta': 1, 'senesi': 1, 'giovanni': 2, 'guido': 1, 'papu': 1, 'mac': 1, 'allister': 1, 'exequiel': 1, 'palacios': 1, 'enzo': 1, 'fernandez': 1, 'buendia': 1, 'nico': 1, 'dominguez': 1, 'ocampos': 1, 'gonzalez': 1, 'almada': 1, 'simeone': 1, 'alario': 1, 'alejandro': 1, 'garnacho': 1, 'alcaraz': 12, 'paristay': 1, 'carlos': 2, 'dành': 4, 'palais': 1, 'omnisports': 1, 'bercy': 1, 'niệm': 1, 'đời': 1, '1973': 2, 'lleyton': 1, 'hewitt': 1, 'marat': 1, 'safin': 1, 'giấc': 1, 'mơ': 5, 'biểu': 5, 'slam': 3, 'yoshihito': 1, 'nishioka': 1, 'basel': 1, 'felix': 2, 'auger': 2, 'aliassime': 2, 'david': 4, 'goffin': 1, 'vất': 1, 'vả': 1, 'bào': 2, 'chữa': 1, 'suôn': 1, 'andrey': 1, 'rublev': 1, 'daniil': 1, 'medvedev': 1, 'davis': 1, 'ngã': 5, 'sấp': 4, 'đứcbị': 1, 'dải': 3, 'cuốn': 1, 'selly': 2, 'kaptich': 11, 'ước': 2, 'thật': 1, 'vđv': 1, 'kenya': 3, 'mainova': 1, 'cô': 3, 'té': 3, 'canadian': 1, 'magazine': 1, 'tả': 1, 'sally': 1, 'giây': 7, 'helah': 1, 'kiprop': 1, 'podium': 1, 'jackline': 1, 'chepngego': 1, 'cchayj': 1, 'tốc': 6, 'sub': 1, 'nhiệt': 2, 'buông': 2, 'vấp': 1, 'quỳ': 1, 'athletics': 1, 'illustrated': 1, '000m': 3, '0975km': 1, '195km': 1, 'nn': 1, 'marathoner': 1, 'eliud': 1, 'kipchoge': 1, 'geoffrey': 1, 'kamworor': 1, 'kenenisa': 1, 'bekele': 1, 'and': 1, 'cheptegei': 1, 'letesenbet': 1, 'gidey': 1, 'yalemzerf': 1, 'yehualaw': 1, 'tảo': 1, 'compa': 5, 'traford': 1, 'vê': 2, 'gầm': 2, 'văng': 1, 'chước': 1, 'sheriff': 1, 'lắc': 1, 'kênh': 2, 'bt': 1, 'scholes': 1, 'robbie': 1, 'savage': 1, 'owen': 1, 'hargreaves': 1, 'chỉnh': 1, 'đốn': 1, 'ngán': 1, 'ngẩm': 1, 'trọn': 3, '81': 1, 'gea': 1, 'phớt': 2, 'lờ': 2, 'neville': 9, 'kiatisuk': 13, 'trang': 6, 'truesport': 1, 'thước': 1, 'đo': 2, 'núi': 1, 'mạch': 2, 'tín': 1, 'true': 2, 'zico': 1, 'niềm': 3, 'đẫy': 1, 'hiếu': 3, 'thai': 1, 'mối': 1, 'thâm': 1, 'bầu': 6, 'thăng': 7, 'hoa': 3, 'trỗi': 1, 'dao': 2, 'suýt': 1, 'tĩnh': 2, 'pleiku': 1, 'gắn': 3, 'bó': 2, 'lươnghlv': 1, 'ngỏ': 1, 'siêu': 1, 'lai': 1, 'verstappen': 9, 'max': 2, 'f1': 5, 'prix': 1, 'michael': 1, 'schumacher': 1, 'sebastian': 3, 'vettel': 1, 'abu': 1, 'dhabi': 1, 'gp': 2, 'lewis': 1, 'hamilton': 4, 'mercedes': 3, 'quê': 1, 'charles': 2, 'leclerc': 2, 'in': 1, 'bull': 1, 'lốp': 5, 'mềm': 2, 'hiểu': 2, 'george': 1, 'russell': 2, 'mãi': 1, 'pit': 1, 'fastest': 1, 'lap': 1, 'ferrari': 1, 'sainz': 1, 'ricciardo': 1, 'mclaren': 1, 'vĩnh': 1, 'san': 2, 'formula1': 1, 'johnson': 10, 'mỹ4': 1, 'aces': 7, 'dustin': 2, 'blue': 1, 'monster': 1, 'miami': 1, 'donald': 1, 'trump': 1, 'gộp': 2, 'patrick': 1, 'reed': 1, 'talor': 1, 'gooch': 2, 'pat': 1, 'gạt': 2, 'mét': 2, 'lĩnh': 3, 'putt': 1, 'nó': 1, 'lắm': 1, 'may': 1, 'chẳng': 5, 'xúc': 1, 'chỗ': 2, 'punch': 4, 'cameron': 1, 'smith': 2, 'leishman': 2, 'matt': 1, 'wade': 1, 'ormsby': 2, 'bế': 1, 'thù': 1, '150': 1, 'telegraph': 1, '637': 1, '2007': 5, '307': 1, '74': 1, '897': 1, 'owgr': 2, '135': 1, 'hadji': 3, 'diouf': 15, 'asamoah': 3, 'gyan': 7, 'james': 5, 'rực': 2, 'rỡ': 2, 'puskas': 2, 'đỡ': 3, 'ngực': 2, 'nhạc': 2, 'vốn': 4, 'nhượng': 8, '108': 2, 'rayyan': 2, 'lạp': 2, 'olympiakos': 2, 'ghana': 6, 'suarez': 2, 'luân': 2, 'sunderland': 2, 'rennes': 2, 'ain': 2, 'dạng': 13, 'mượn': 11, 'shanghai': 2, 'sipg': 2, 'ahli': 2, 'dubai': 2, 'kayserispor': 2, 'legon': 2, 'cities': 2, 'isaksson': 8, 'thụy': 4, 'điển': 6, '2006': 2, 'portsmouth': 6, 'món': 2, 'hời': 2, 'tậu': 5, '2008': 2, 'kép': 2, 'vỏn': 4, 'vẹn': 4, 'manchester': 3, 'middlesbrough': 2, 'pa': 2, 'images': 2, 'kleberson': 10, 'đắc': 2, 'ronaldinho': 2, 'rivaldo': 2, '2002': 11, 'felipe': 2, 'scolari': 2, 'thầm': 2, 'lặng': 2, 'sir': 2, 'ferguson': 4, '2003': 2, 'veron': 2, '1979': 2, 'besiktas': 2, 'salif': 2, 'diao': 8, 'vang': 4, 'gerard': 2, 'houllier': 2, 'benitez': 2, 'ghế': 3, 'birmingham': 4, 'stoke': 4, 'giã': 4, 'đkvđ': 2, 'anelka': 2, 'cỏi': 2, 'nhổ': 2, 'bọt': 2, 'cđv': 2, 'vi': 2, 'arjan': 2, 'zeeuw': 2, 'bolton': 2, 'jamie': 3, 'carragher': 2, 'denilson': 10, '1998': 6, 'bến': 2, 'betis': 8, 'segunda': 2, 'division': 2, 'flamengo': 4, 'bordeaux': 2, 'nassr': 2, 'dallas': 2, 'palmeiras': 2, 'itumbiara': 2, 'jarni': 6, 'croatia': 4, 'hc': 3, 'gordon': 2, 'strachan': 2, 'coventry': 4, 'bernabeu': 2, 'las': 2, 'palmas': 2, '1999': 2, 'ilie': 2, 'dumitrescu': 10, 'romania': 2, '1994': 4, 'klinsmann': 2, 'tồi': 2, 'osvaldo': 2, 'ardiles': 2, 'thải': 2, 'gerry': 2, 'francis': 2, 'white': 2, 'hart': 2, 'lane': 2, '1995': 2, '1996': 4, 'giấy': 2, 'london': 2, 'atlante': 2, 'steaua': 2, 'bucuresti': 2, 'alberto': 2, 'tarantini': 6, 'sọc': 2, '1978': 2, 'boca': 4, 'juniors': 2, 'quên': 2, 'thói': 2, 'luật': 3, 'brian': 2, 'greenhoff': 2, 'talleres': 2, 'cordoba': 2, 'river': 2, 'plate': 2, 'bastia': 2, 'toulouse': 2, 'st': 2, 'gallen': 2, '1982': 2, 'rafaela': 1, 'pimenta': 2, 'torino': 1, 'pittsburgh': 1, 'suy': 1, 'mộng': 1, 'mai': 2, 'mổ': 1, 'sụn': 1, 'chêm': 1, 'los': 1, 'angeles': 1, 'tồn': 2, 'phẫu': 5, 'sĩ': 1, 'vết': 1, 'samuel': 1, 'umtiti': 2, 'chối': 2, 'phanh': 1, 'lecce': 1, 'video': 1, 'twitter': 1, 'đồn': 1, 'xung': 1, 'quanh': 1, 'giác': 1, 'continassa': 1, 'n': 1, 'golo': 1, 'kante': 2, 'deschamps': 1, 'eduardo': 1, 'camavinga': 1, 'aurelien': 1, 'tchouameni': 1, 'adrien': 1, 'rabiot': 1, 'youssouf': 1, 'fofana': 2, 'đan': 1, 'tunisia': 1, '59': 1, 'đtqg': 1, 'allegri': 1, 'chồng': 12, 'bùi': 2, 'thùy': 2, 'nảy': 1, 'độc': 2, 'nhường': 1, 'kêu': 1, 'cot': 1, 'thảo': 3, '41': 2, 'chinh': 2, 'giản': 2, 'hạnh': 5, 'phúc': 5, 'giục': 1, 'kia': 1, 'nỡ': 1, 'dnf': 1, 'ấm': 1, 'điệp': 1, 'suốt': 1, 'bền': 3, 'già': 1, 'mẹ': 1, 'kun': 2, 'cháu': 2, 'hoạt': 3, 'quận': 1, 'môi': 2, 'anhchứng': 1, 'gary': 1, 'luận': 2, 'sky': 3, 'sports': 3, 'frenkie': 1, 'jong': 1, '58': 1, 'quỷ': 1, 'redknapp': 1, '1991': 1, 'quý': 2, 'cies': 2, 'vđqg': 1, '644': 1, 'xu': 1, 'khổng': 1, 'lồ': 1, 'jack': 1, 'grealish': 2, '139': 1, '75': 2, 'kevin': 1, 'bruyne': 1, 'dias': 1, 'riyad': 1, 'mahrez': 1, 'joao': 1, 'cancelo': 1, 'aymeric': 1, 'laporte': 1, 'rodri': 1, '475': 1, 'máu': 1, '69': 1, '505': 1, '263': 1, 'đứt': 1, 'kylian': 2, '405': 1, '389': 1, '378': 1, 'sắm': 1, '145': 1, 'oleks': 1, 'zinchenko': 1, 'gabriel': 1, 'jesus': 1, 'fabio': 2, 'vieira': 1, 'marquinhos': 1, '115': 1, 'carvalho': 1, 'calvin': 1, 'ramsay': 1, 'todd': 1, 'boehly': 1, 'vung': 1, '400': 2, 'emerick': 1, 'aubameyang': 1, 'wesley': 1, 'cucurella': 1, 'raheem': 1, 'sterling': 1, 'kalidou': 1, 'koulibaly': 1, '365': 1, '330': 1, '296': 1, '291': 1, 'quỹ': 1, 'pif': 1, 'vươn': 1, 'giêng': 1, 'bruno': 1, 'guimaraes': 1, '43': 1, 'isak': 1, 'big': 1, '227': 1, '248': 1, 'ibrahimovic': 12, 'zlatan': 1, 'canal': 1, 'plus': 1, '113': 1, '122': 1, 'thuỵ': 2, 'ư': 1, 'chúa': 1, 'hút': 1, 'gà': 1, 'scudetto': 2, 'bgm': 1, 'dây': 1, 'chằng': 1, 'nén': 1, 'tam': 1, 'tấu': 1, 'mnm': 1, 'siro': 1, 'h': 1, 'anklopp': 1, 'chê': 1, 'cư': 1, '680': 1, 'khoá': 10, '679': 1, 'quảng': 1, 'cáo': 1, '339': 1, '961': 1, 'nhảy': 1, 'chục': 1, 'futsal': 1, 'lề': 1, 'cấn': 1, 'bê': 1, 'bối': 1, 'thuế': 1, 'giám': 3, 'đốc': 3, 'next': 1, 'media': 1, 'hđqt': 2, 'kiêm': 1, 'ủy': 2, 'olympic': 1, '2026': 1, 't': 2, 'đổng': 1, 'thị': 1, 'tuấn': 2, 'khôi': 1, 'phạm': 1, 'viễn': 1, 'bảnsáng': 1, 'tatsuma': 1, 'yokohama': 4, 'keio': 4, 'challenger': 6, '80': 5, '617': 1, 'game': 10, 'hẳn': 1, 'chậm': 6, 'chạp': 1, 'set': 5, 'xuôi': 1, 'bám': 1, 'ngỡ': 1, 'dòng': 1, 'ace': 1, 'weber': 1, 'm25': 2, 'jakarta': 1, 'indonesia': 1, '53': 1, 'matsuyama': 1, 'kobe': 1, 'luỹ': 1, 'czechbarca': 1, 'stanek': 1, 'alonso': 1, '44': 1, 'ferran': 1, 'torres': 2, 'jordi': 1, 'alba': 1, 'lơi': 1, 'tomas': 1, 'chory': 1, 'ngắn': 2, '51': 2, 'xen': 1, 'đúp': 1, 'pablo': 1, 'torre': 1, 'plenz': 1, 'xav': 1, 'ancelotti': 1, 'zone': 13, 'tim': 15, 'heart': 1, 'rate': 1, 'sản': 1, 'ví': 1, 'dụ': 1, 'ngưỡng': 3, 'aerobic': 1, 'đeo': 1, 'hồ': 1, 'tech': 1, 'arp': 1, 'béo': 1, 'nghi': 1, 'sảng': 1, 'khoái': 1, 'mệt': 2, 'mỏi': 2, 'mẻ': 1, 'phẳng': 1, 'nhàng': 1, '1mph': 1, 'kph': 1, 'cứ': 1, 'motivation': 1, 'bí': 1}\n"
          ]
        }
      ]
    },
    {
      "cell_type": "markdown",
      "source": [
        "**Xác định kích thước tập từ vựng (vocabulary)**"
      ],
      "metadata": {
        "id": "jdzMgjEOrD6t"
      }
    },
    {
      "cell_type": "code",
      "source": [
        "print('Kích thước tập từ vựng: [{}]'.format(len(token_feq_dict.keys())))"
      ],
      "metadata": {
        "colab": {
          "base_uri": "https://localhost:8080/"
        },
        "id": "mgchr3yKrIhw",
        "outputId": "cf892a70-00a4-4f30-8e32-409eb26096bd"
      },
      "execution_count": 5,
      "outputs": [
        {
          "output_type": "stream",
          "name": "stdout",
          "text": [
            "Kích thước tập từ vựng: [2759]\n"
          ]
        }
      ]
    },
    {
      "cell_type": "markdown",
      "source": [
        "**Xắp sếp các từ khóa theo thứ tự tầng số xuất hiện giảm dần - tìm top 10 từ khóa/token xuất hiện nhiều nhất**"
      ],
      "metadata": {
        "id": "IAaSb0kOpIAa"
      }
    },
    {
      "cell_type": "code",
      "source": [
        "sorted_token_feq_dict = sorted(token_feq_dict.items(), key=lambda item: item[1], reverse=True)\n",
        "print(sorted_token_feq_dict[:10])"
      ],
      "metadata": {
        "colab": {
          "base_uri": "https://localhost:8080/"
        },
        "id": "m5x_nWBUojSY",
        "outputId": "6382ca1d-0fb0-46ac-f591-3df2adbeabf0"
      },
      "execution_count": 6,
      "outputs": [
        {
          "output_type": "stream",
          "name": "stdout",
          "text": [
            "[('và', 312), ('ở', 265), ('của', 231), ('trong', 225), ('trận', 214), ('khi', 213), ('với', 198), ('là', 180), ('có', 179), ('anh', 171)]\n"
          ]
        }
      ]
    }
  ]
}