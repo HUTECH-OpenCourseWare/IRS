{
  "nbformat": 4,
  "nbformat_minor": 0,
  "metadata": {
    "colab": {
      "provenance": []
    },
    "kernelspec": {
      "name": "python3",
      "display_name": "Python 3"
    },
    "language_info": {
      "name": "python"
    }
  },
  "cells": [
    {
      "cell_type": "markdown",
      "source": [
        "**Code bên dưới là mã giả để sinh ra chuỗi nhị phân mã hóa cho một số (n) theo mã Elias gamma - để cài đặt trong thực tế, các bạn có thể dùng thư viện struct với hàm pack và unpack để tạo ra mã gamma ở dạng byte**"
      ],
      "metadata": {
        "id": "gyYUzVU5Z4SZ"
      }
    },
    {
      "cell_type": "code",
      "execution_count": null,
      "metadata": {
        "id": "3EgIPP8IZf2m"
      },
      "outputs": [],
      "source": [
        "import math\n",
        "  \n",
        "# Hàm đổi một số (n) về dạng unary\n",
        "def to_unary(n):\n",
        "    return (n-1)*'1'+'0'\n",
        "\n",
        "# Hàm đổi một số (n) về dạng binary\n",
        "def to_binary(n):\n",
        "    return format(n, 'b')\n",
        "      \n",
        "def Elias_gamma_code(n):\n",
        "    if(n == 0): \n",
        "        return '0'\n",
        "    # Xác định số beta bằng cách lấy log2 của số (n) - lấy phần số nguyên\n",
        "    beta = int(math.log(n, 2))\n",
        "\n",
        "    # Đổi beta ra dạng unary\n",
        "    head = to_unary(beta)\n",
        "\n",
        "    # Tính phần dư\n",
        "    remain = n - 2**beta\n",
        "    \n",
        "    # Đổi phần dư ra dạng nhị phân\n",
        "    tail = to_binary(remain)\n",
        "    \n",
        "    # Hợp 2 phần [head] và [tail] lại để có mã Elias gamma của số (n)\n",
        "    Elias_gamma = '{}{}'.format(head, tail)\n",
        "\n",
        "    return (Elias_gamma, beta, remain)"
      ]
    },
    {
      "cell_type": "markdown",
      "source": [
        "**Cho một số (n) và tiến hành mã hóa bằng mã Elias gamma**"
      ],
      "metadata": {
        "id": "TYpmoO0rch-e"
      }
    },
    {
      "cell_type": "code",
      "source": [
        "# Cho một số (n) và tiến hành mã hóa\n",
        "n = 11\n",
        "(Elias_gamma, beta, remain) = Elias_gamma_code(n)\n",
        "print('Mã gamma của số n = [{}] là: [{}] (với beta: [{}], phần dư: [{}])'.format(n, Elias_gamma, beta, remain))"
      ],
      "metadata": {
        "colab": {
          "base_uri": "https://localhost:8080/"
        },
        "id": "hYUXGMWuaB-A",
        "outputId": "0cba19e0-a4ba-4753-d87c-02d2d75e99b1"
      },
      "execution_count": null,
      "outputs": [
        {
          "output_type": "stream",
          "name": "stdout",
          "text": [
            "Mã gamma của số n = [11] là: [11011] (với beta: [3], phần dư: [3])\n"
          ]
        }
      ]
    }
  ]
}