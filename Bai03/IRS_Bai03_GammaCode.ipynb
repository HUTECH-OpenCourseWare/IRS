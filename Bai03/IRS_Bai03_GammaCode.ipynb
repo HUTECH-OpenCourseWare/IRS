{
  "nbformat": 4,
  "nbformat_minor": 0,
  "metadata": {
    "colab": {
      "provenance": []
    },
    "kernelspec": {
      "name": "python3",
      "display_name": "Python 3"
    },
    "language_info": {
      "name": "python"
    }
  },
  "cells": [
    {
      "cell_type": "markdown",
      "source": [
        "**Code bên dưới là mã giả để sinh ra chuỗi nhị phân mã hóa cho một số (n) theo mã gamma (γ) - để cài đặt trong thực tế, các bạn có thể dùng thư viện struct với hàm pack và unpack để tạo ra mã gamma ở dạng byte**"
      ],
      "metadata": {
        "id": "sjWJ5VG4PRZ7"
      }
    },
    {
      "cell_type": "code",
      "execution_count": null,
      "metadata": {
        "id": "mexJgr8rMCRv"
      },
      "outputs": [],
      "source": [
        "# Viết hàm mã hóa một số (n) bằng mã gamma\n",
        "def gamma_code(n):\n",
        "  # Chuyển đổi số n về dạng nhị phân, ví dụ: 10 -> 1010\n",
        "  binary_n = format(n, 'b')\n",
        "  # Lấy ra danh sách chuỗi offset bằng cách bỏ đi bit đầu tiên ví dụ: 1010 -> 010\n",
        "  offset = binary_n[1::]\n",
        "  # Tạo ra mã unary thể hiện chiều dài của chuỗi offset bên trên - kết thúc với số 0 ở cuối cùng\n",
        "  unary_length = '{}{}'.format(''.join(['1' for i in range(len(offset))]), '0')\n",
        "  # Kết hợp chuỗi chiều dài unary và offset để được mã gamma của số (n)\n",
        "  gamma = '{}{}'.format(unary_length, offset)\n",
        "  return gamma"
      ]
    },
    {
      "cell_type": "markdown",
      "source": [
        "**Cho một số (n) và tiến hành mã hóa bằng mã gamma**"
      ],
      "metadata": {
        "id": "dsV1jQclQEkf"
      }
    },
    {
      "cell_type": "code",
      "source": [
        "# Cho một số (n) và tiến hành mã hóa\n",
        "n = 11\n",
        "print('Mã gamma của số n = [{}] là: [{}]'.format(n, gamma_code(n)))"
      ],
      "metadata": {
        "colab": {
          "base_uri": "https://localhost:8080/"
        },
        "id": "2kfHFfzhQKru",
        "outputId": "4cf1925c-217f-4072-aece-48264c6d0fcc"
      },
      "execution_count": null,
      "outputs": [
        {
          "output_type": "stream",
          "name": "stdout",
          "text": [
            "Mã gamma của số n = [4] là: [11000]\n"
          ]
        }
      ]
    }
  ]
}