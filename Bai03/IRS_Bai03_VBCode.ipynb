{
  "nbformat": 4,
  "nbformat_minor": 0,
  "metadata": {
    "colab": {
      "provenance": []
    },
    "kernelspec": {
      "name": "python3",
      "display_name": "Python 3"
    },
    "language_info": {
      "name": "python"
    }
  },
  "cells": [
    {
      "cell_type": "markdown",
      "source": [
        "**Mã variable bytes (VB) code được viết bằng python, tham khảo mã nguồn gốc đây: https://github.com/utahta/pyvbcode/blob/master/vbcode.py**"
      ],
      "metadata": {
        "id": "VgtWibLbDXFE"
      }
    },
    {
      "cell_type": "code",
      "execution_count": null,
      "metadata": {
        "id": "5OuN9wKNHF1n"
      },
      "outputs": [],
      "source": [
        "from __future__ import division \n",
        "from struct import pack, unpack\n",
        "\n",
        "def encode_number(number):\n",
        "    \"\"\"Variable byte code encode number.\n",
        "    Usage:\n",
        "      import vbcode\n",
        "      vbcode.encode_number(128)\n",
        "    \"\"\"\n",
        "    bytes_list = []\n",
        "    while True:\n",
        "        bytes_list.insert(0, number % 128)\n",
        "        if number < 128:\n",
        "            break\n",
        "        number = number // 128\n",
        "    bytes_list[-1] += 128\n",
        "    return pack('%dB' % len(bytes_list), *bytes_list)\n",
        "\n",
        "def encode(numbers):\n",
        "    \"\"\"Variable byte code encode numbers.\n",
        "    Usage:\n",
        "      import vbcode\n",
        "      vbcode.encode([32, 64, 128])\n",
        "    \"\"\"\n",
        "    bytes_list = []\n",
        "    for number in numbers:\n",
        "        bytes_list.append(encode_number(number))\n",
        "    return b\"\".join(bytes_list)\n",
        "\n",
        "def decode(bytestream):\n",
        "    \"\"\"Variable byte code decode.\n",
        "    Usage:\n",
        "      import vbcode\n",
        "      vbcode.decode(bytestream)\n",
        "        -> [32, 64, 128]\n",
        "    \"\"\"\n",
        "    n = 0\n",
        "    numbers = []\n",
        "    bytestream = unpack('%dB' % len(bytestream), bytestream)\n",
        "    for byte in bytestream:\n",
        "        if byte < 128:\n",
        "            n = 128 * n + byte\n",
        "        else:\n",
        "            n = 128 * n + (byte - 128)\n",
        "            numbers.append(n)\n",
        "            n = 0\n",
        "    return numbers"
      ]
    },
    {
      "cell_type": "markdown",
      "source": [
        "**Thử nghiệm tiến hành mã hóa & giải mã danh sách các mã định danh của tài liệu/văn bản bằng mã VB**"
      ],
      "metadata": {
        "id": "R9xLsL5YEs8P"
      }
    },
    {
      "cell_type": "code",
      "source": [
        "# Cho danh sách 1 tập các mã định danh của tài liệu/văn bản\n",
        "doc_ids = [824, 829, 215406]\n",
        "print('Danh sách mã định danh tài liệu/văn bản: ', doc_ids)\n",
        "\n",
        "# Dùng mã VB để mã hóa các mã định danh trong [doc_ids]\n",
        "encoded_doc_ids = encode(doc_ids)\n",
        "print('Danh sách mã định danh tài liệu/văn bản được mã hóa bằng mã VB: ', encoded_doc_ids)\n",
        "\n",
        "# Dùng mã VB để giải mã các mã định danh trong [doc_ids] đã được mã hóa [encoded_doc_ids]\n",
        "decoded_doc_ids = decode(encoded_doc_ids)\n",
        "print('Danh sách mã định danh tài liệu/văn bản được giải mã: ', decoded_doc_ids)"
      ],
      "metadata": {
        "colab": {
          "base_uri": "https://localhost:8080/"
        },
        "id": "_vBuQbQoHMPh",
        "outputId": "ed7c1e8d-c16f-4222-8e44-f22b4a5793da"
      },
      "execution_count": null,
      "outputs": [
        {
          "output_type": "stream",
          "name": "stdout",
          "text": [
            "Danh sách mã định danh tài liệu/văn bản:  [824, 829, 215406]\n",
            "Danh sách mã định danh tài liệu/văn bản được mã hóa bằng mã VB:  b'\\x06\\xb8\\x06\\xbd\\r\\x12\\xee'\n",
            "Danh sách mã định danh tài liệu/văn bản được giải mã:  [824, 829, 215406]\n"
          ]
        }
      ]
    }
  ]
}